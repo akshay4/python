{
 "cells": [
  {
   "cell_type": "markdown",
   "metadata": {},
   "source": [
    "# Assignment"
   ]
  },
  {
   "cell_type": "code",
   "execution_count": null,
   "metadata": {},
   "outputs": [],
   "source": [
    "#number pattern\n",
    "i = 0\n",
    "while i < 5:\n",
    "    print (\"*\"*i)\n",
    "    print()\n",
    "    i = i +1"
   ]
  },
  {
   "cell_type": "code",
   "execution_count": null,
   "metadata": {},
   "outputs": [],
   "source": [
    "i = 0 \n",
    "while i < 5 :\n",
    "    j = 0\n",
    "    while j <= i :\n",
    "        print(\"*\",end='')\n",
    "        j = j + 1\n",
    "    print()\n",
    "    i = i + 1"
   ]
  },
  {
   "cell_type": "code",
   "execution_count": null,
   "metadata": {},
   "outputs": [],
   "source": [
    "#fabonici Serise\n",
    "val = int(input(\"Enter a Value: \"))\n",
    "x = 0\n",
    "y = 1\n",
    "count = 0\n",
    "while count < val:\n",
    "    print(x,end=' , ')\n",
    "    z = x + y\n",
    "    x = y\n",
    "    y = z\n",
    "    count += 1"
   ]
  },
  {
   "cell_type": "code",
   "execution_count": null,
   "metadata": {},
   "outputs": [],
   "source": [
    "#armstrong Number\n",
    "num = int(input(\"Enter a number: \"))\n",
    "length = len(str(num))\n",
    "sum = 0\n",
    "while num > 0:\n",
    "    val = num % 10\n",
    "    sum += val ** length\n",
    "    num //= 10\n",
    "if num == sum:\n",
    "   print(num,\"is an Armstrong number\")\n",
    "else:\n",
    "   print(num,\"is not an Armstrong number\")"
   ]
  },
  {
   "cell_type": "code",
   "execution_count": null,
   "metadata": {},
   "outputs": [],
   "source": [
    "# Factorial Number\n",
    "num = int(input(\"Enter a number: \"))\n",
    "x = 1\n",
    "if num < 0:\n",
    "   print(\" error you have entered a negative numbers\")\n",
    "elif num == 0:\n",
    "   print(\"The factorial of 0 is 1\")\n",
    "else:\n",
    "   for i in range(1,num + 1):\n",
    "       x = x*i\n",
    "   print(\"The factorial of\",num,\"is\",x)"
   ]
  },
  {
   "cell_type": "code",
   "execution_count": null,
   "metadata": {},
   "outputs": [],
   "source": [
    "#Plaindrome Number using c\n",
    "n = int(input('Enter a value: '))\n",
    "x = 0 #reverse intiger\n",
    "y = n #original value\n",
    "while (n!=0):\n",
    "    r = n%10\n",
    "    x = x*10 + r\n",
    "    n /=10\n",
    "    if y == x :\n",
    "        print(n,\" is a plaindrom number\")\n",
    "    else :\n",
    "        print(n,\" is not a plaindrome number\")"
   ]
  },
  {
   "cell_type": "code",
   "execution_count": null,
   "metadata": {},
   "outputs": [],
   "source": [
    "#Plaindrome Number using Python\n",
    "num=int(input(\"Enter a number: \"))\n",
    "x=0\n",
    "y=num\n",
    "while num!=0:\n",
    "    r=num%10\n",
    "    x=x*10 + r\n",
    "    num=num/10\n",
    "if sum==y:\n",
    "    print(y,\" is palindrome\")\n",
    "else:\n",
    "    print(y,\" is not palindrome\")"
   ]
  },
  {
   "cell_type": "code",
   "execution_count": null,
   "metadata": {},
   "outputs": [],
   "source": [
    "#Prime Number\n",
    "n = int(input(\"Ente any number: \"))\n",
    "c = 0;\n",
    "i = 1\n",
    "while (i <= n):\n",
    "    i = i +1\n",
    "    if (n % i == 0):\n",
    "        c = c + 1\n",
    "        if (c == 2):\n",
    "            print(n ,\" is a Prime number\")\n",
    "        else :\n",
    "            print(n,\" is not a Prime number\")"
   ]
  },
  {
   "cell_type": "code",
   "execution_count": null,
   "metadata": {},
   "outputs": [],
   "source": []
  }
 ],
 "metadata": {
  "kernelspec": {
   "display_name": "Python 3",
   "language": "python",
   "name": "python3"
  },
  "language_info": {
   "codemirror_mode": {
    "name": "ipython",
    "version": 3
   },
   "file_extension": ".py",
   "mimetype": "text/x-python",
   "name": "python",
   "nbconvert_exporter": "python",
   "pygments_lexer": "ipython3",
   "version": "3.6.5"
  }
 },
 "nbformat": 4,
 "nbformat_minor": 2
}
