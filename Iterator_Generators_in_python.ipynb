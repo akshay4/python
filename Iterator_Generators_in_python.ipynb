{
 "cells": [
  {
   "cell_type": "markdown",
   "metadata": {},
   "source": [
    "# Iterators & Generators in Python"
   ]
  },
  {
   "cell_type": "code",
   "execution_count": 10,
   "metadata": {},
   "outputs": [],
   "source": [
    "class Even:\n",
    "    def __init__(self,start,max_limit):\n",
    "        if start % 2 == 0:\n",
    "            self.start = start\n",
    "        else :\n",
    "            self.start = start+1\n",
    "        self.max_limit = max_limit\n",
    "    def __iter__(self):\n",
    "        self.val = self.start\n",
    "        return self\n",
    "    def __next__(self):\n",
    "        if self.val <= self.max_limit :\n",
    "            self.val += 2\n",
    "            return self.val\n",
    "        else :\n",
    "            raise StopIteration(\"Max limit has Exceeded\")"
   ]
  },
  {
   "cell_type": "code",
   "execution_count": 11,
   "metadata": {},
   "outputs": [],
   "source": [
    "one = Even(1,10)\n",
    "one = iter(one)"
   ]
  },
  {
   "cell_type": "code",
   "execution_count": 12,
   "metadata": {},
   "outputs": [
    {
     "data": {
      "text/plain": [
       "4"
      ]
     },
     "execution_count": 12,
     "metadata": {},
     "output_type": "execute_result"
    }
   ],
   "source": [
    "next(one)"
   ]
  },
  {
   "cell_type": "code",
   "execution_count": 23,
   "metadata": {},
   "outputs": [],
   "source": [
    "#Prime Number program using iterator\n",
    "class Prime :\n",
    "    def __init__(self,start) :\n",
    "        self.start = start\n",
    "    def __iter__(self) :\n",
    "        self.max_limit = 1000\n",
    "        self.counter = 0\n",
    "    def prime(num) :\n",
    "        while True :\n",
    "            num = self.start\n",
    "            sq = round(sqrt(num)+1)\n",
    "            for var in range(2,sq) :\n",
    "                if num % var == 0 :\n",
    "                    self.start += 1\n",
    "                    return self.prime()\n",
    "                else :\n",
    "                    self.start += 1\n",
    "                    return num\n",
    "    def __next__(self) :\n",
    "        if self.counter < self.max.limit :\n",
    "            self.counter += 1\n",
    "            return self.prime()\n",
    "        else :\n",
    "            raise StopIteration       "
   ]
  },
  {
   "cell_type": "code",
   "execution_count": 24,
   "metadata": {},
   "outputs": [
    {
     "ename": "TypeError",
     "evalue": "iter() returned non-iterator of type 'NoneType'",
     "output_type": "error",
     "traceback": [
      "\u001b[1;31m---------------------------------------------------------------------------\u001b[0m",
      "\u001b[1;31mTypeError\u001b[0m                                 Traceback (most recent call last)",
      "\u001b[1;32m<ipython-input-24-10b5c7295130>\u001b[0m in \u001b[0;36m<module>\u001b[1;34m()\u001b[0m\n\u001b[0;32m      1\u001b[0m \u001b[1;32mfrom\u001b[0m \u001b[0mmath\u001b[0m \u001b[1;32mimport\u001b[0m \u001b[0msqrt\u001b[0m\u001b[1;33m\u001b[0m\u001b[0m\n\u001b[0;32m      2\u001b[0m \u001b[0mx\u001b[0m \u001b[1;33m=\u001b[0m \u001b[0mPrime\u001b[0m\u001b[1;33m(\u001b[0m\u001b[1;36m1\u001b[0m\u001b[1;33m)\u001b[0m\u001b[1;33m\u001b[0m\u001b[0m\n\u001b[1;32m----> 3\u001b[1;33m \u001b[0mx\u001b[0m \u001b[1;33m=\u001b[0m \u001b[0miter\u001b[0m\u001b[1;33m(\u001b[0m\u001b[0mx\u001b[0m\u001b[1;33m)\u001b[0m\u001b[1;33m\u001b[0m\u001b[0m\n\u001b[0m\u001b[0;32m      4\u001b[0m \u001b[0mc\u001b[0m \u001b[1;33m=\u001b[0m \u001b[1;36m0\u001b[0m\u001b[1;33m\u001b[0m\u001b[0m\n\u001b[0;32m      5\u001b[0m \u001b[1;32mfor\u001b[0m \u001b[0mvar\u001b[0m \u001b[1;32min\u001b[0m \u001b[0mx\u001b[0m \u001b[1;33m:\u001b[0m\u001b[1;33m\u001b[0m\u001b[0m\n",
      "\u001b[1;31mTypeError\u001b[0m: iter() returned non-iterator of type 'NoneType'"
     ]
    }
   ],
   "source": [
    "from math import sqrt\n",
    "x = Prime(1)\n",
    "x = iter(x)\n",
    "c = 0\n",
    "for var in x :\n",
    "    print(var,end=',')\n",
    "    c = c + 1\n",
    "print(\"Total Numbers : \",c)"
   ]
  },
  {
   "cell_type": "code",
   "execution_count": 26,
   "metadata": {},
   "outputs": [],
   "source": [
    "#Generator for Prime number\n",
    "\n",
    "def even(num,max_limit) :\n",
    "    c = 0\n",
    "    while c <= max_limit :\n",
    "        if num % 2 == 0 :\n",
    "            yield num\n",
    "            num += 1\n",
    "            c = c + 1\n",
    "        else :\n",
    "            num += 1\n",
    "            c = c + 1\n"
   ]
  },
  {
   "cell_type": "code",
   "execution_count": 30,
   "metadata": {},
   "outputs": [
    {
     "name": "stdout",
     "output_type": "stream",
     "text": [
      "2\n",
      "4\n",
      "6\n",
      "8\n",
      "10\n",
      "12\n",
      "14\n",
      "16\n",
      "18\n",
      "20\n",
      "22\n"
     ]
    }
   ],
   "source": [
    "x = even(2,20)\n",
    "for var in x :\n",
    "    print(var)"
   ]
  },
  {
   "cell_type": "code",
   "execution_count": null,
   "metadata": {},
   "outputs": [],
   "source": []
  },
  {
   "cell_type": "code",
   "execution_count": null,
   "metadata": {},
   "outputs": [],
   "source": []
  }
 ],
 "metadata": {
  "kernelspec": {
   "display_name": "Python 3",
   "language": "python",
   "name": "python3"
  },
  "language_info": {
   "codemirror_mode": {
    "name": "ipython",
    "version": 3
   },
   "file_extension": ".py",
   "mimetype": "text/x-python",
   "name": "python",
   "nbconvert_exporter": "python",
   "pygments_lexer": "ipython3",
   "version": "3.6.5"
  }
 },
 "nbformat": 4,
 "nbformat_minor": 2
}
