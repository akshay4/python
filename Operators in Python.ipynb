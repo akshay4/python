{
 "cells": [
  {
   "cell_type": "markdown",
   "metadata": {},
   "source": [
    "<h1>Operators in Python </h1>\n",
    "\n",
    "1. Airthmatice\n",
    "2. Comparison\n",
    "3. Logical\n",
    "4. Assigment\n",
    "5. Membership\n",
    "6. Identity\n",
    "7. Binary"
   ]
  },
  {
   "cell_type": "code",
   "execution_count": 52,
   "metadata": {},
   "outputs": [
    {
     "ename": "SyntaxError",
     "evalue": "invalid syntax (<ipython-input-52-420e9971cffd>, line 1)",
     "output_type": "error",
     "traceback": [
      "\u001b[1;36m  File \u001b[1;32m\"<ipython-input-52-420e9971cffd>\"\u001b[1;36m, line \u001b[1;32m1\u001b[0m\n\u001b[1;33m    Airtmatic Oprator\u001b[0m\n\u001b[1;37m                    ^\u001b[0m\n\u001b[1;31mSyntaxError\u001b[0m\u001b[1;31m:\u001b[0m invalid syntax\n"
     ]
    }
   ],
   "source": [
    "Airtmatic Oprator \n",
    "\n",
    "a) addtion +\n",
    "b) subraction -\n",
    "c) Multiplication *\n",
    "d) Absolute Divison /\n",
    "e) Modulus %\n",
    "f) inter divison  or floor divison //\n",
    "g) power or exponent **"
   ]
  },
  {
   "cell_type": "code",
   "execution_count": 4,
   "metadata": {},
   "outputs": [
    {
     "name": "stdout",
     "output_type": "stream",
     "text": [
      "18\n"
     ]
    }
   ],
   "source": [
    "#Addition (binary operator)\n",
    "x = 6\n",
    "y = 12 \n",
    "print (x+y)"
   ]
  },
  {
   "cell_type": "code",
   "execution_count": 6,
   "metadata": {},
   "outputs": [
    {
     "name": "stdout",
     "output_type": "stream",
     "text": [
      "hello ishi\n"
     ]
    }
   ],
   "source": [
    "s1 = \"hello \"\n",
    "s2 = \"ishi\"\n",
    "print (s1+s2)"
   ]
  },
  {
   "cell_type": "code",
   "execution_count": 7,
   "metadata": {},
   "outputs": [
    {
     "name": "stdout",
     "output_type": "stream",
     "text": [
      "[1, 2, 3, 'hello', 'lol']\n",
      "[3.14, 'gg', 'dude']\n",
      "[[1, 2, 3, 'hello', 'lol', 3.14, 'gg', 'dude'], 'yeh', 'zoom']\n"
     ]
    }
   ],
   "source": [
    "l1 = [1,2,3,'hello','lol']\n",
    "l2 = [3.14,'gg','dude']\n",
    "l3 = [l1 + l2 ,\"yeh\", 'zoom']\n",
    "print (l1)\n",
    "print (l2)\n",
    "print (l3)"
   ]
  },
  {
   "cell_type": "code",
   "execution_count": 9,
   "metadata": {},
   "outputs": [
    {
     "name": "stdout",
     "output_type": "stream",
     "text": [
      "{'one': 'ek', 'halo': 'zoom'}\n",
      "{'two': 'do', 'bye': 'bye bye'}\n"
     ]
    }
   ],
   "source": [
    "d1 = { 'one' : 'ek', \"halo\":\"zoom\"}\n",
    "d2 = {'two': 'do',\"bye\": 'bye bye'}\n",
    "print (d1)\n",
    "print (d2)\n",
    "#addition doesnt work in Dictonary"
   ]
  },
  {
   "cell_type": "code",
   "execution_count": 10,
   "metadata": {},
   "outputs": [
    {
     "name": "stdout",
     "output_type": "stream",
     "text": [
      "{1, 2, 3}\n",
      "{4, 5, 6}\n"
     ]
    }
   ],
   "source": [
    "s1 = {1,2,3}\n",
    "s2 = {4,5,6}\n",
    "print (s1)\n",
    "print (s2)\n",
    "#addtion doesnt work in sets"
   ]
  },
  {
   "cell_type": "code",
   "execution_count": 12,
   "metadata": {},
   "outputs": [
    {
     "name": "stdout",
     "output_type": "stream",
     "text": [
      "3\n",
      "5\n",
      "-2\n"
     ]
    }
   ],
   "source": [
    "#subraction operator\n",
    "x = 3 \n",
    "y = 5\n",
    "print (x)\n",
    "print (y)\n",
    "z = x - y\n",
    "print (z)"
   ]
  },
  {
   "cell_type": "code",
   "execution_count": 15,
   "metadata": {},
   "outputs": [
    {
     "name": "stdout",
     "output_type": "stream",
     "text": [
      "3\n",
      "3.15\n",
      "(10.65+6.2j)\n"
     ]
    }
   ],
   "source": [
    "x = 3 \n",
    "y = 3.15\n",
    "z = 4.5 + 6.2j\n",
    "print (x)\n",
    "print (y)\n",
    "print (x+y+z)"
   ]
  },
  {
   "cell_type": "code",
   "execution_count": 16,
   "metadata": {},
   "outputs": [
    {
     "name": "stdout",
     "output_type": "stream",
     "text": [
      "3\n",
      "5.6\n",
      "137.1552j\n"
     ]
    }
   ],
   "source": [
    "#multiplication\n",
    "x = 3 \n",
    "y = 5.6\n",
    "z = 3.14 * 2.6j\n",
    "print (x)\n",
    "print (y)\n",
    "r = x*y*z\n",
    "print (r)"
   ]
  },
  {
   "cell_type": "code",
   "execution_count": 25,
   "metadata": {},
   "outputs": [
    {
     "name": "stdout",
     "output_type": "stream",
     "text": [
      "x = 50\n",
      "y = 15\n",
      "r = 3.3333\n"
     ]
    }
   ],
   "source": [
    "x = 50\n",
    "y = 15\n",
    "print (\"x = {}\".format(x))\n",
    "print (\"y = {}\".format(y))\n",
    "print (\"r = {:6.5}\".format(x/y))"
   ]
  },
  {
   "cell_type": "code",
   "execution_count": 28,
   "metadata": {},
   "outputs": [
    {
     "name": "stdout",
     "output_type": "stream",
     "text": [
      "10\n",
      "5 + 5 = 10\n"
     ]
    }
   ],
   "source": [
    "# 5 + 5 = 10\n",
    "x = 5\n",
    "y = x + x \n",
    "print (y)\n",
    "print (\"{1} + {1} = {0}\".format(y,x))\n",
    "# x += x\n"
   ]
  },
  {
   "cell_type": "code",
   "execution_count": 29,
   "metadata": {},
   "outputs": [
    {
     "data": {
      "text/plain": [
       "0.75"
      ]
     },
     "execution_count": 29,
     "metadata": {},
     "output_type": "execute_result"
    }
   ],
   "source": [
    "3/4 #shell output"
   ]
  },
  {
   "cell_type": "code",
   "execution_count": 31,
   "metadata": {},
   "outputs": [
    {
     "name": "stdout",
     "output_type": "stream",
     "text": [
      "5\n"
     ]
    }
   ],
   "source": [
    "#modulus output (remainder)\n",
    "x = 26 % 7 \n",
    "print (x)\n"
   ]
  },
  {
   "cell_type": "code",
   "execution_count": 32,
   "metadata": {},
   "outputs": [
    {
     "name": "stdout",
     "output_type": "stream",
     "text": [
      "3\n"
     ]
    }
   ],
   "source": [
    "#floor division (gives out quotient at times when there is reminder)\n",
    "#floor division is used to provide integer divison\n",
    "x = 10 // 3 \n",
    "print (x)\n"
   ]
  },
  {
   "cell_type": "code",
   "execution_count": 33,
   "metadata": {},
   "outputs": [
    {
     "name": "stdout",
     "output_type": "stream",
     "text": [
      "16\n"
     ]
    }
   ],
   "source": [
    "#exponent **\n",
    "# x ** y -> x to the power y\n",
    "x = 2 ** 4\n",
    "print (x)"
   ]
  },
  {
   "cell_type": "code",
   "execution_count": 35,
   "metadata": {},
   "outputs": [
    {
     "name": "stdout",
     "output_type": "stream",
     "text": [
      "10\n"
     ]
    }
   ],
   "source": [
    "x = 7 ---- 3 #minus add together like basic maths\n",
    "print (x)"
   ]
  },
  {
   "cell_type": "code",
   "execution_count": 36,
   "metadata": {},
   "outputs": [
    {
     "name": "stdout",
     "output_type": "stream",
     "text": [
      "hellohellohellohellohellohello\n"
     ]
    }
   ],
   "source": [
    "s =  'hello'\n",
    "print (s*6)"
   ]
  },
  {
   "cell_type": "code",
   "execution_count": 37,
   "metadata": {},
   "outputs": [
    {
     "name": "stdout",
     "output_type": "stream",
     "text": [
      "[1, 2, 3, 1, 2, 3, 1, 2, 3, 1, 2, 3, 1, 2, 3]\n"
     ]
    }
   ],
   "source": [
    "l = [1,2,3]\n",
    "print (l*5)"
   ]
  },
  {
   "cell_type": "code",
   "execution_count": 38,
   "metadata": {},
   "outputs": [
    {
     "name": "stdout",
     "output_type": "stream",
     "text": [
      "****************************************************************************************************\n",
      "****************************************************************************************************\n",
      "\n",
      "                           hello                            \n",
      "**************************************************\n",
      "**************************************************\n"
     ]
    }
   ],
   "source": [
    "print(\"*\"*100)\n",
    "print(\"*\"*100)\n",
    "print()\n",
    "print(\"hello\".center(60))\n",
    "print(\"*\"*50)\n",
    "print(\"*\"*50)"
   ]
  },
  {
   "cell_type": "code",
   "execution_count": 45,
   "metadata": {},
   "outputs": [
    {
     "name": "stdout",
     "output_type": "stream",
     "text": [
      "[]\n",
      "\n",
      "[[1, 1, 1, 1, 1]]\n",
      "[[], [], [], [], []]\n"
     ]
    }
   ],
   "source": [
    "l = []\n",
    "s = [] * 5\n",
    "print(s)\n",
    "x = \"\" *5\n",
    "print (x)\n",
    "l = [[1]*5]\n",
    "print(l)\n",
    "k = [[]]*5\n",
    "print(k)"
   ]
  },
  {
   "cell_type": "markdown",
   "metadata": {},
   "source": [
    "<h1>Comparision Operator</h1>"
   ]
  },
  {
   "cell_type": "code",
   "execution_count": 50,
   "metadata": {},
   "outputs": [
    {
     "name": "stdout",
     "output_type": "stream",
     "text": [
      "True\n",
      "False\n",
      "False\n",
      "False\n",
      "True\n"
     ]
    }
   ],
   "source": [
    "#numbers\n",
    "print(4<5)\n",
    "print(5<4)\n",
    "\n",
    "print(4<4)\n",
    "print(5>5)\n",
    "\n",
    "print(5==5)"
   ]
  },
  {
   "cell_type": "code",
   "execution_count": 57,
   "metadata": {},
   "outputs": [
    {
     "name": "stdout",
     "output_type": "stream",
     "text": [
      "True\n",
      "True\n"
     ]
    }
   ],
   "source": [
    "print (4>=4)\n",
    "print (4!=5)"
   ]
  },
  {
   "cell_type": "markdown",
   "metadata": {},
   "source": [
    "# Logical Operator "
   ]
  },
  {
   "cell_type": "code",
   "execution_count": 62,
   "metadata": {},
   "outputs": [
    {
     "name": "stdout",
     "output_type": "stream",
     "text": [
      "56\n",
      "0\n",
      "None\n",
      "None\n"
     ]
    }
   ],
   "source": [
    "# and , or , not (unary operator)\n",
    "#op1 and op2\n",
    "# flase -> none , 0 , Flase (other then everything is python is true)\n",
    "\n",
    "print(45 and 56)\n",
    "print (0 and 57)\n",
    "print(None and 'hello')\n",
    "print (None and 0) # if there is even one value is false then the operation becomes False "
   ]
  },
  {
   "cell_type": "code",
   "execution_count": 63,
   "metadata": {},
   "outputs": [
    {
     "name": "stdout",
     "output_type": "stream",
     "text": [
      "0\n",
      "-1\n"
     ]
    }
   ],
   "source": [
    "print ((3-4+1) and 4>5)\n",
    "print ((2**3-7+3 and 8-9))"
   ]
  },
  {
   "cell_type": "code",
   "execution_count": 65,
   "metadata": {},
   "outputs": [
    {
     "name": "stdout",
     "output_type": "stream",
     "text": [
      "\top1\top2\tand\n",
      "\tTrue\tFalse\tFalse\n",
      "\tTrue\tTrue\tTrue\n",
      "\t1\t0\t0\n",
      "\t0\t0\t0\n"
     ]
    }
   ],
   "source": [
    "#truth table for and operation\n",
    "print (\"\\top1\\top2\\tand\")\n",
    "print(\"\\t{}\\t{}\\t{}\".format(True,False,True and False))\n",
    "print(\"\\t{}\\t{}\\t{}\".format(True,True,True and True))\n",
    "print(\"\\t{}\\t{}\\t{}\".format(1,0,1 and 0))\n",
    "print(\"\\t{}\\t{}\\t{}\".format(0,0,0 and 0))"
   ]
  },
  {
   "cell_type": "code",
   "execution_count": 68,
   "metadata": {},
   "outputs": [
    {
     "name": "stdout",
     "output_type": "stream",
     "text": [
      "\top1\top2\tand\tor\n",
      "\tTrue\tFalse\tFalse\tTrue\n",
      "\tTrue\tTrue\tTrue\tTrue\n",
      "\tFalse\tTrue\tFalse\tTrue\n",
      "\tFalse\tFalse\tFalse\tFalse\n"
     ]
    }
   ],
   "source": [
    "#truth table for and operation\n",
    "print (\"\\top1\\top2\\tand\\tor\")\n",
    "x = True\n",
    "y = False\n",
    "print(\"\\t{}\\t{}\\t{}\\t{}\".format(x,y,x and y,x or y))\n",
    "print(\"\\t{}\\t{}\\t{}\\t{}\".format(x,x,x and x,x or x))\n",
    "print(\"\\t{}\\t{}\\t{}\\t{}\".format(y,x,y and x,y or x))\n",
    "print(\"\\t{}\\t{}\\t{}\\t{}\".format(y,y,y and y,y or y))"
   ]
  },
  {
   "cell_type": "markdown",
   "metadata": {},
   "source": [
    "# Assigment Operator"
   ]
  },
  {
   "cell_type": "code",
   "execution_count": 71,
   "metadata": {},
   "outputs": [
    {
     "name": "stdout",
     "output_type": "stream",
     "text": [
      "True\n"
     ]
    }
   ],
   "source": [
    "x = 10\n",
    "y = 1\n",
    "z = 3\n",
    "r = (x+5**y/z*3-1) and (5<6 or 7>=6)\n",
    "print(r)"
   ]
  },
  {
   "cell_type": "markdown",
   "metadata": {},
   "source": [
    "# Membership Operators\n"
   ]
  },
  {
   "cell_type": "code",
   "execution_count": 75,
   "metadata": {},
   "outputs": [
    {
     "name": "stdout",
     "output_type": "stream",
     "text": [
      "False\n",
      "False\n"
     ]
    }
   ],
   "source": [
    "# in or not in\n",
    "# only used with Sequence (steing , list , tuple , dictornarty , set , other itera)\n",
    "s = 'hello World'\n",
    "k = 'ell'\n",
    "x = k is s\n",
    "print(x)\n",
    "y = 'Hello' is s\n",
    "print(y)\n"
   ]
  },
  {
   "cell_type": "code",
   "execution_count": 78,
   "metadata": {},
   "outputs": [
    {
     "name": "stdout",
     "output_type": "stream",
     "text": [
      "False\n",
      "False\n",
      "True\n"
     ]
    }
   ],
   "source": [
    "list1 = [1,2,3,4,5,'hello','hi']\n",
    "list2 = [1,2,3]\n",
    "print(list1 in list2)\n",
    "print(list2 in list1)\n",
    "x = 'hello' in list1\n",
    "print(x)"
   ]
  },
  {
   "cell_type": "code",
   "execution_count": 83,
   "metadata": {},
   "outputs": [
    {
     "name": "stdout",
     "output_type": "stream",
     "text": [
      "True\n",
      "True\n",
      "False\n"
     ]
    }
   ],
   "source": [
    "# in tupple we only search for keys like words one aka 1 \n",
    "d = {'one':1,'two':2}\n",
    "x = 'one' in d\n",
    "y = 2 not in d\n",
    "z = 'three' in d\n",
    "print(x)\n",
    "print(y)\n",
    "print(z)\n"
   ]
  },
  {
   "cell_type": "markdown",
   "metadata": {},
   "source": [
    "# Identity Operator"
   ]
  },
  {
   "cell_type": "code",
   "execution_count": 84,
   "metadata": {},
   "outputs": [
    {
     "name": "stdout",
     "output_type": "stream",
     "text": [
      "True\n",
      "False\n",
      "True\n"
     ]
    }
   ],
   "source": [
    "# is , is not\n",
    "x = 5\n",
    "y = 5\n",
    "z = 4\n",
    "p = x is y\n",
    "q = z is x\n",
    "r = 5 is x\n",
    "print(p)\n",
    "print(q)\n",
    "print(r)"
   ]
  },
  {
   "cell_type": "code",
   "execution_count": 85,
   "metadata": {},
   "outputs": [
    {
     "name": "stdout",
     "output_type": "stream",
     "text": [
      "True\n",
      "True\n",
      "1849516320\n",
      "1849516320\n"
     ]
    }
   ],
   "source": [
    "l = ['hello', 5,4,3,2,1]\n",
    "x = 5\n",
    "print (x == l[1])\n",
    "print (x is l[1])\n",
    "print(id(x))\n",
    "print(id(y))\n"
   ]
  },
  {
   "cell_type": "code",
   "execution_count": 90,
   "metadata": {},
   "outputs": [
    {
     "name": "stdout",
     "output_type": "stream",
     "text": [
      "2141181282608\n",
      "2141181282544\n",
      "1849517600\n",
      "1849517600\n"
     ]
    }
   ],
   "source": [
    "#memory management in python it is dynamic\n",
    "x = 123456\n",
    "y = 123456\n",
    "z = 45\n",
    "q = 45\n",
    "print(id(x))\n",
    "print(id(y))\n",
    "print(id(z))\n",
    "print(id(q))"
   ]
  },
  {
   "cell_type": "code",
   "execution_count": 91,
   "metadata": {
    "collapsed": true
   },
   "outputs": [],
   "source": [
    "l =  [var for var in range (100)]\n",
    "x = range(100)"
   ]
  },
  {
   "cell_type": "code",
   "execution_count": 92,
   "metadata": {},
   "outputs": [
    {
     "name": "stdout",
     "output_type": "stream",
     "text": [
      "0 1 2 3 4 5 6 7 8 9 10 11 12 13 14 15 16 17 18 19 20 21 22 23 24 25 26 27 28 29 30 31 32 33 34 35 36 37 38 39 40 41 42 43 44 45 46 47 48 49 50 51 52 53 54 55 56 57 58 59 60 61 62 63 64 65 66 67 68 69 70 71 72 73 74 75 76 77 78 79 80 81 82 83 84 85 86 87 88 89 90 91 92 93 94 95 96 97 98 99\n",
      "\n",
      "0 1 2 3 4 5 6 7 8 9 10 11 12 13 14 15 16 17 18 19 20 21 22 23 24 25 26 27 28 29 30 31 32 33 34 35 36 37 38 39 40 41 42 43 44 45 46 47 48 49 50 51 52 53 54 55 56 57 58 59 60 61 62 63 64 65 66 67 68 69 70 71 72 73 74 75 76 77 78 79 80 81 82 83 84 85 86 87 88 89 90 91 92 93 94 95 96 97 98 99\n"
     ]
    }
   ],
   "source": [
    "print(*l)\n",
    "print()\n",
    "print(*x)"
   ]
  },
  {
   "cell_type": "code",
   "execution_count": 96,
   "metadata": {},
   "outputs": [
    {
     "name": "stdout",
     "output_type": "stream",
     "text": [
      "<class 'range'>\n",
      "0 1 2 3 4 5 6 7 8 9 10 11 12 13 14 15 16 17 18 19 20 21 22 23 24 25 26 27 28 29 30 31 32 33 34 35 36 37 38 39 40 41 42 43 44 45 46 47 48 49 50 51 52 53 54 55 56 57 58 59 60 61 62 63 64 65 66 67 68 69 70 71 72 73 74 75 76 77 78 79 80 81 82 83 84 85 86 87 88 89 90 91 92 93 94 95 96 97 98 99\n"
     ]
    }
   ],
   "source": [
    "#for information of the object\n",
    "print (type(x))\n",
    "x\n",
    "z = map (int,l)\n",
    "print(*z)"
   ]
  },
  {
   "cell_type": "code",
   "execution_count": 98,
   "metadata": {},
   "outputs": [
    {
     "name": "stdout",
     "output_type": "stream",
     "text": [
      " Size of :  888\n",
      "size of :  48\n",
      "Size of :  32\n"
     ]
    }
   ],
   "source": [
    "print (\" Size of : \",(l.__sizeof__()) )\n",
    "print (\"size of : \",(x.__sizeof__()))\n",
    "print (\"Size of : \" ,(z.__sizeof__()))"
   ]
  },
  {
   "cell_type": "code",
   "execution_count": null,
   "metadata": {
    "collapsed": true
   },
   "outputs": [],
   "source": []
  }
 ],
 "metadata": {
  "kernelspec": {
   "display_name": "Python 3",
   "language": "python",
   "name": "python3"
  },
  "language_info": {
   "codemirror_mode": {
    "name": "ipython",
    "version": 3
   },
   "file_extension": ".py",
   "mimetype": "text/x-python",
   "name": "python",
   "nbconvert_exporter": "python",
   "pygments_lexer": "ipython3",
   "version": "3.6.3"
  }
 },
 "nbformat": 4,
 "nbformat_minor": 2
}
