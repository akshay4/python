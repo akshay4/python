{
 "cells": [
  {
   "cell_type": "code",
   "execution_count": 1,
   "metadata": {},
   "outputs": [
    {
     "name": "stdout",
     "output_type": "stream",
     "text": [
      "Hello World\n"
     ]
    }
   ],
   "source": [
    "print(\"Hello World\")"
   ]
  },
  {
   "cell_type": "markdown",
   "metadata": {},
   "source": [
    "# Data Types"
   ]
  },
  {
   "cell_type": "markdown",
   "metadata": {},
   "source": [
    "1. Numbers\n",
    "2. Strings\n",
    "3. List\n",
    "4. Tuple\n",
    "5. Dictionary\n",
    "6. Sets"
   ]
  },
  {
   "cell_type": "markdown",
   "metadata": {},
   "source": [
    "# Numbers"
   ]
  },
  {
   "cell_type": "markdown",
   "metadata": {},
   "source": [
    "1. Integers\n",
    "2. Floats\n",
    "3. Complex\n"
   ]
  },
  {
   "cell_type": "code",
   "execution_count": 2,
   "metadata": {
    "collapsed": true
   },
   "outputs": [],
   "source": [
    "x = 45\n",
    "y = 56.78\n",
    "z = 1235+34.34j\n"
   ]
  },
  {
   "cell_type": "code",
   "execution_count": 12,
   "metadata": {},
   "outputs": [
    {
     "name": "stdout",
     "output_type": "stream",
     "text": [
      "Type of x  <class 'int'>\n",
      "Type of y  <class 'float'>\n",
      "Type  of z  <class 'NotImplementedType'>\n"
     ]
    }
   ],
   "source": [
    "print(\"Type of x \",type(x))\n",
    "print(\"Type of y \",type(y))\n",
    "print(\"Type  of z \",type(z))"
   ]
  },
  {
   "cell_type": "code",
   "execution_count": 15,
   "metadata": {},
   "outputs": [
    {
     "name": "stdout",
     "output_type": "stream",
     "text": [
      "X =  5\n",
      "Y =  6.34\n",
      "Z =  NotImplemented\n",
      "NotImplemented\n"
     ]
    }
   ],
   "source": [
    "print(\"X = \",x)\n",
    "print(\"Y = \",y)\n",
    "print(\"Z = \",z)\n",
    "x = 5\n",
    "y = 6.34\n",
    "z = x.__add__(y)\n",
    "print(z)"
   ]
  },
  {
   "cell_type": "markdown",
   "metadata": {},
   "source": [
    "# Strings"
   ]
  },
  {
   "cell_type": "raw",
   "metadata": {},
   "source": [
    "1. 'single quoted string'\n",
    "2. \"Double quoted string\"\n",
    "3 . \"\"\" you can initlize a para directly in python.\n",
    "this is line 2nd.\n",
    "this is line 3rd.\n",
    "    para spaces\"\"\"\n",
    "    "
   ]
  },
  {
   "cell_type": "code",
   "execution_count": 5,
   "metadata": {
    "collapsed": true
   },
   "outputs": [],
   "source": [
    "x = \"he is so good in cricket.\"\n",
    "y = 'yeah, you are right.'\n",
    "z = \"\"\"Python is an awesome language.\n",
    "it is developed by Guido Van Rossum in 1989.\n",
    "    IBM and Google are those companies which adopted python \n",
    "in it's earlier phase.\n",
    "\"\"\""
   ]
  },
  {
   "cell_type": "code",
   "execution_count": 30,
   "metadata": {},
   "outputs": [
    {
     "name": "stdout",
     "output_type": "stream",
     "text": [
      "5\n",
      "6.34\n",
      "NotImplemented\n",
      "he's not so good.\n",
      "he\"s not so good.\n"
     ]
    }
   ],
   "source": [
    "print(x)\n",
    "print(y)\n",
    "print(z)\n",
    "s = \"he's not so good.\"\n",
    "y = \"he\\\"s not so good.\"\n",
    "print(s)\n",
    "print(y)"
   ]
  },
  {
   "cell_type": "code",
   "execution_count": 9,
   "metadata": {},
   "outputs": [
    {
     "name": "stdout",
     "output_type": "stream",
     "text": [
      "['__add__', '__class__', '__contains__', '__delattr__', '__dir__', '__doc__', '__eq__', '__format__', '__ge__', '__getattribute__', '__getitem__', '__getnewargs__', '__gt__', '__hash__', '__init__', '__init_subclass__', '__iter__', '__le__', '__len__', '__lt__', '__mod__', '__mul__', '__ne__', '__new__', '__reduce__', '__reduce_ex__', '__repr__', '__rmod__', '__rmul__', '__setattr__', '__sizeof__', '__str__', '__subclasshook__', 'capitalize', 'casefold', 'center', 'count', 'encode', 'endswith', 'expandtabs', 'find', 'format', 'format_map', 'index', 'isalnum', 'isalpha', 'isdecimal', 'isdigit', 'isidentifier', 'islower', 'isnumeric', 'isprintable', 'isspace', 'istitle', 'isupper', 'join', 'ljust', 'lower', 'lstrip', 'maketrans', 'partition', 'replace', 'rfind', 'rindex', 'rjust', 'rpartition', 'rsplit', 'rstrip', 'split', 'splitlines', 'startswith', 'strip', 'swapcase', 'title', 'translate', 'upper', 'zfill']\n"
     ]
    }
   ],
   "source": [
    "print(dir(s))"
   ]
  },
  {
   "cell_type": "code",
   "execution_count": 31,
   "metadata": {},
   "outputs": [
    {
     "name": "stdout",
     "output_type": "stream",
     "text": [
      "           HeLlo WorLd !           \n"
     ]
    }
   ],
   "source": [
    "s = \"           HeLlo WorLd !           \"\n",
    "print(s)"
   ]
  },
  {
   "cell_type": "code",
   "execution_count": 32,
   "metadata": {},
   "outputs": [
    {
     "name": "stdout",
     "output_type": "stream",
     "text": [
      "           HeLlo WorLd !           \n",
      "HeLlo WorLd !\n"
     ]
    }
   ],
   "source": [
    "k = s.strip()\n",
    "print(s)\n",
    "print(k)"
   ]
  },
  {
   "cell_type": "code",
   "execution_count": 41,
   "metadata": {},
   "outputs": [
    {
     "name": "stdout",
     "output_type": "stream",
     "text": [
      "hello hi\n",
      "S.capitalize() -> str\n",
      "\n",
      "Return a capitalized version of S, i.e. make the first character\n",
      "have upper case and the rest lower case.\n"
     ]
    }
   ],
   "source": [
    "one = 'hello '\n",
    "two = 'hi'\n",
    "print(one+two)\n",
    "print(s.capitalize.__doc__)"
   ]
  },
  {
   "cell_type": "code",
   "execution_count": 46,
   "metadata": {},
   "outputs": [],
   "source": [
    "s = \"      HeLlo WorLd     \"\n",
    "k = s.strip() # remove all leading and trailing spaces\n",
    "l = s.upper() #it will change all char into uppercase\n",
    "p = s.lower()\n",
    "n = s.swapcase()\n",
    "q = s.strip().capitalize()#only first charcter will be capital and rest will small"
   ]
  },
  {
   "cell_type": "code",
   "execution_count": 47,
   "metadata": {},
   "outputs": [
    {
     "name": "stdout",
     "output_type": "stream",
     "text": [
      "      HeLlo WorLd     \n",
      "HeLlo WorLd\n",
      "      HELLO WORLD     \n",
      "      hello world     \n",
      "      hElLO wORlD     \n",
      "Hello world\n"
     ]
    }
   ],
   "source": [
    "print(s)\n",
    "print(k)\n",
    "print(l)\n",
    "print(p)\n",
    "print(n)\n",
    "print(q)"
   ]
  },
  {
   "cell_type": "markdown",
   "metadata": {},
   "source": [
    "# List "
   ]
  },
  {
   "cell_type": "raw",
   "metadata": {},
   "source": [
    "a list is just a collection of other elements.\n",
    "a element can be anything, it can be number it can string, it can be list, or any valid python object or attribute"
   ]
  },
  {
   "cell_type": "raw",
   "metadata": {},
   "source": [
    "if All elements of a list are of same type then list is known as array\n",
    "list can be homogenous or hetrogenous\n",
    "homogenous -> similar elements\n",
    "hetrogenous -> different elements"
   ]
  },
  {
   "cell_type": "markdown",
   "metadata": {},
   "source": [
    "all the arrays are lists but list can be all time a array."
   ]
  },
  {
   "cell_type": "code",
   "execution_count": 49,
   "metadata": {
    "collapsed": true
   },
   "outputs": [],
   "source": [
    "mylist = [ 1,2,3,4,57] #homogenous\n",
    "mylist2 = [ 'hi','hello','how'] #homogenous\n",
    "mylist3 = [ 1,2,3.14,5+6j,['h','i','o'],'hello','hi'] #structure"
   ]
  },
  {
   "cell_type": "code",
   "execution_count": 50,
   "metadata": {},
   "outputs": [
    {
     "name": "stdout",
     "output_type": "stream",
     "text": [
      "[1, 2, 3, 4, 57]\n"
     ]
    }
   ],
   "source": [
    "print(mylist)"
   ]
  },
  {
   "cell_type": "code",
   "execution_count": 51,
   "metadata": {},
   "outputs": [
    {
     "name": "stdout",
     "output_type": "stream",
     "text": [
      "[1, 2, 3.14, (5+6j), ['h', 'i', 'o'], 'hello', 'hi']\n"
     ]
    }
   ],
   "source": [
    "print(mylist3)"
   ]
  },
  {
   "cell_type": "code",
   "execution_count": 52,
   "metadata": {},
   "outputs": [
    {
     "name": "stdout",
     "output_type": "stream",
     "text": [
      "hi\n",
      "hi\n"
     ]
    }
   ],
   "source": [
    "l = [ 1,2,3,'hello','hi',3.14,'bye']\n",
    "print(l[4])\n",
    "print(l[-3])"
   ]
  },
  {
   "cell_type": "code",
   "execution_count": 53,
   "metadata": {
    "collapsed": true
   },
   "outputs": [],
   "source": [
    "l = [ 1,2,3,[3,4,5,6,7,8,8,10],'hi','hello']"
   ]
  },
  {
   "cell_type": "code",
   "execution_count": 55,
   "metadata": {},
   "outputs": [
    {
     "name": "stdout",
     "output_type": "stream",
     "text": [
      "6\n"
     ]
    }
   ],
   "source": [
    "print(l[3][3])"
   ]
  },
  {
   "cell_type": "code",
   "execution_count": 57,
   "metadata": {
    "collapsed": true
   },
   "outputs": [],
   "source": [
    "l = [\n",
    "    [3,4,435,56,53,4,2],\n",
    "    [23,4,5,[57,68,656],45,],\n",
    "    [2,3,5,56,67,545,3,4,],\n",
    "]"
   ]
  },
  {
   "cell_type": "code",
   "execution_count": 58,
   "metadata": {},
   "outputs": [
    {
     "name": "stdout",
     "output_type": "stream",
     "text": [
      "656\n"
     ]
    }
   ],
   "source": [
    "print(l[1][3][-1])"
   ]
  },
  {
   "cell_type": "code",
   "execution_count": 61,
   "metadata": {},
   "outputs": [
    {
     "name": "stdout",
     "output_type": "stream",
     "text": [
      "45 457 5 4 34 3 65 7 4324 67 4 342 345 567\n"
     ]
    }
   ],
   "source": [
    "#l[start:end:step]\n",
    "l = [ 45,457,5,4,34,3,65,7,4324,67,4,342,345,567,]\n",
    "print(*l)"
   ]
  },
  {
   "cell_type": "code",
   "execution_count": 65,
   "metadata": {},
   "outputs": [
    {
     "name": "stdout",
     "output_type": "stream",
     "text": [
      "Python\n",
      "P y t h o n\n",
      "1 2 3 python [4, 5, 6] 43 34 343\n"
     ]
    }
   ],
   "source": [
    "print(\"Python\")\n",
    "print(*\"Python\")\n",
    "l = [ 1,2,3,'python',[4,5,6],43,34,343]\n",
    "print(*l)"
   ]
  },
  {
   "cell_type": "code",
   "execution_count": 70,
   "metadata": {},
   "outputs": [
    {
     "name": "stdout",
     "output_type": "stream",
     "text": [
      "range(0, 101, 5)\n",
      "0 5 10 15 20 25 30 35 40 45 50 55 60 65 70 75 80 85 90 95 100\n"
     ]
    }
   ],
   "source": [
    "l = range(0,101,5)\n",
    "print(l)\n",
    "print(*l)"
   ]
  },
  {
   "cell_type": "code",
   "execution_count": 72,
   "metadata": {},
   "outputs": [
    {
     "name": "stdout",
     "output_type": "stream",
     "text": [
      "['2', '3', '4', '3', '2', '#', '@', '$', '^', '%', '$', '^', '&', '$', '%', '^', '$', '%', '#', 'p', 'y', 't', 'h', '9', '7', '2', '3', '4', '9', '8', 'o', 'n']\n"
     ]
    }
   ],
   "source": [
    "l = list('23432#@$^%$^&$%^$%#pyth9723498on')\n",
    "print(l)"
   ]
  },
  {
   "cell_type": "code",
   "execution_count": 2,
   "metadata": {},
   "outputs": [
    {
     "name": "stdout",
     "output_type": "stream",
     "text": [
      "<class 'list'>\n",
      "[1, 4, 7, 10, 13, 16, 19, 22, 25, 28, 31, 34, 37, 40, 43, 46, 49]\n"
     ]
    }
   ],
   "source": [
    "l = list(range(1,50,3))\n",
    "print(type(l))\n",
    "print(l)"
   ]
  },
  {
   "cell_type": "code",
   "execution_count": 3,
   "metadata": {},
   "outputs": [
    {
     "name": "stdout",
     "output_type": "stream",
     "text": [
      "[16, 22, 28]\n"
     ]
    }
   ],
   "source": [
    "s = l[5:11:2]\n",
    "print(s)"
   ]
  },
  {
   "cell_type": "code",
   "execution_count": 4,
   "metadata": {},
   "outputs": [
    {
     "name": "stdout",
     "output_type": "stream",
     "text": [
      "[1, 4, 7, 10, 13]\n",
      "[16, 19, 22, 25, 28, 31, 34, 37, 40, 43, 46, 49]\n",
      "[1, 4, 7, 10, 13, 16, 19, 22, 25, 28, 31, 34, 37, 40, 43, 46, 49]\n"
     ]
    }
   ],
   "source": [
    "s = l[:5]\n",
    "print(s)\n",
    "s = l[5:]\n",
    "print(s)\n",
    "print(l)"
   ]
  },
  {
   "cell_type": "code",
   "execution_count": 5,
   "metadata": {},
   "outputs": [
    {
     "name": "stdout",
     "output_type": "stream",
     "text": [
      "[7, 10, 13, 16, 19]\n"
     ]
    }
   ],
   "source": [
    "s  = l[-15:-10]\n",
    "print(s)"
   ]
  },
  {
   "cell_type": "code",
   "execution_count": 82,
   "metadata": {},
   "outputs": [
    {
     "name": "stdout",
     "output_type": "stream",
     "text": [
      "[1, 4, 7, 10, 13, 16, 19, 22, 25, 28, 31, 34, 37, 40, 43, 46, 49]\n"
     ]
    }
   ],
   "source": [
    "print(l)"
   ]
  },
  {
   "cell_type": "code",
   "execution_count": 87,
   "metadata": {},
   "outputs": [
    {
     "name": "stdout",
     "output_type": "stream",
     "text": [
      "[46]\n"
     ]
    }
   ],
   "source": [
    "s = l[15::+2]\n",
    "print(s)"
   ]
  },
  {
   "cell_type": "code",
   "execution_count": 88,
   "metadata": {},
   "outputs": [
    {
     "name": "stdout",
     "output_type": "stream",
     "text": [
      "[1, 4, 7, 10, 13, 16, 19, 22, 25, 28, 31, 34, 37, 40, 43, 46, 49]\n"
     ]
    }
   ],
   "source": [
    "print(l)"
   ]
  },
  {
   "cell_type": "code",
   "execution_count": 7,
   "metadata": {},
   "outputs": [
    {
     "name": "stdout",
     "output_type": "stream",
     "text": [
      "[49, 46, 43, 40, 37, 34, 31, 28, 25, 22, 19, 16, 13, 10, 7, 4, 1]\n",
      "[1, 4, 7, 10, 13, 16, 19, 22, 25, 28, 31, 34, 37, 40, 43, 46]\n",
      "[]\n"
     ]
    }
   ],
   "source": [
    "s = l[::-1]\n",
    "print(s)\n",
    "s = l[:-1]\n",
    "print(s)\n",
    "s = l[1:1:-1] \n",
    "print(s)"
   ]
  },
  {
   "cell_type": "code",
   "execution_count": 90,
   "metadata": {
    "collapsed": true
   },
   "outputs": [],
   "source": [
    "l = list(range(1,128))"
   ]
  },
  {
   "cell_type": "code",
   "execution_count": 91,
   "metadata": {},
   "outputs": [
    {
     "name": "stdout",
     "output_type": "stream",
     "text": [
      "[1, 2, 3, 4, 5, 6, 7, 8, 9, 10, 11, 12, 13, 14, 15, 16, 17, 18, 19, 20, 21, 22, 23, 24, 25, 26, 27, 28, 29, 30, 31, 32, 33, 34, 35, 36, 37, 38, 39, 40, 41, 42, 43, 44, 45, 46, 47, 48, 49, 50, 51, 52, 53, 54, 55, 56, 57, 58, 59, 60, 61, 62, 63, 64, 65, 66, 67, 68, 69, 70, 71, 72, 73, 74, 75, 76, 77, 78, 79, 80, 81, 82, 83, 84, 85, 86, 87, 88, 89, 90, 91, 92, 93, 94, 95, 96, 97, 98, 99, 100, 101, 102, 103, 104, 105, 106, 107, 108, 109, 110, 111, 112, 113, 114, 115, 116, 117, 118, 119, 120, 121, 122, 123, 124, 125, 126, 127]\n"
     ]
    }
   ],
   "source": [
    "print(l)"
   ]
  },
  {
   "cell_type": "code",
   "execution_count": 94,
   "metadata": {},
   "outputs": [
    {
     "name": "stdout",
     "output_type": "stream",
     "text": [
      "[127, 126, 125, 124, 123, 122, 121, 120, 119, 118, 117, 116, 115, 114, 113]\n",
      "[113, 114, 115, 116, 117, 118, 119, 120, 121, 122, 123, 124, 125, 126, 127]\n"
     ]
    }
   ],
   "source": [
    "print(l[-1:-16:-1])\n",
    "print(l[-15:])"
   ]
  },
  {
   "cell_type": "code",
   "execution_count": 95,
   "metadata": {},
   "outputs": [
    {
     "name": "stdout",
     "output_type": "stream",
     "text": [
      "127\n"
     ]
    }
   ],
   "source": [
    "x = len(l)\n",
    "print(x)"
   ]
  },
  {
   "cell_type": "code",
   "execution_count": 96,
   "metadata": {},
   "outputs": [
    {
     "name": "stdout",
     "output_type": "stream",
     "text": [
      "['__add__', '__class__', '__contains__', '__delattr__', '__delitem__', '__dir__', '__doc__', '__eq__', '__format__', '__ge__', '__getattribute__', '__getitem__', '__gt__', '__hash__', '__iadd__', '__imul__', '__init__', '__init_subclass__', '__iter__', '__le__', '__len__', '__lt__', '__mul__', '__ne__', '__new__', '__reduce__', '__reduce_ex__', '__repr__', '__reversed__', '__rmul__', '__setattr__', '__setitem__', '__sizeof__', '__str__', '__subclasshook__', 'append', 'clear', 'copy', 'count', 'extend', 'index', 'insert', 'pop', 'remove', 'reverse', 'sort']\n"
     ]
    }
   ],
   "source": [
    "#list is a mutable data type\n",
    "l = [ 234,5,443,2,4,55,7,342,4,6,3,24 ]\n",
    "print(dir(l))\n"
   ]
  },
  {
   "cell_type": "code",
   "execution_count": 103,
   "metadata": {},
   "outputs": [
    {
     "name": "stdout",
     "output_type": "stream",
     "text": [
      "[12, 34, 135, 35]\n",
      "['hello', 'hi', 'how']\n",
      "[12, 34, 135, 35, 'hello', 'hi', 'how']\n",
      "[12, 34, 135, 35, 12, 34, 135, 35, 12, 34, 135, 35]\n"
     ]
    }
   ],
   "source": [
    "l = [12,34,45,35]\n",
    "l[2] = l[2]*3\n",
    "k = [ 'hello','hi','how']\n",
    "s = l + k \n",
    "print(l)\n",
    "print(k)\n",
    "print(s)\n",
    "n = 3*l\n",
    "print(n)"
   ]
  },
  {
   "cell_type": "code",
   "execution_count": 105,
   "metadata": {},
   "outputs": [
    {
     "name": "stdout",
     "output_type": "stream",
     "text": [
      "['hello', 'hi']\n",
      "['hello', 5]\n",
      "['__add__', '__class__', '__contains__', '__delattr__', '__delitem__', '__dir__', '__doc__', '__eq__', '__format__', '__ge__', '__getattribute__', '__getitem__', '__gt__', '__hash__', '__iadd__', '__imul__', '__init__', '__init_subclass__', '__iter__', '__le__', '__len__', '__lt__', '__mul__', '__ne__', '__new__', '__reduce__', '__reduce_ex__', '__repr__', '__reversed__', '__rmul__', '__setattr__', '__setitem__', '__sizeof__', '__str__', '__subclasshook__', 'append', 'clear', 'copy', 'count', 'extend', 'index', 'insert', 'pop', 'remove', 'reverse', 'sort']\n"
     ]
    }
   ],
   "source": [
    "l = [ 'hello','hi']\n",
    "print(l)\n",
    "l[1] = 5\n",
    "print(l)\n",
    "print(dir(l))"
   ]
  },
  {
   "cell_type": "code",
   "execution_count": 107,
   "metadata": {},
   "outputs": [
    {
     "name": "stdout",
     "output_type": "stream",
     "text": [
      "[23, 54, 46, 57]\n",
      "[23, 54, 46, 57]\n",
      "[23, 54, 46, 57]\n"
     ]
    }
   ],
   "source": [
    "l = [ 23,54,46,57 ]\n",
    "k = l.copy()\n",
    "j = l\n",
    "print(l)\n",
    "print(k)\n",
    "print(j)"
   ]
  },
  {
   "cell_type": "code",
   "execution_count": 108,
   "metadata": {},
   "outputs": [
    {
     "name": "stdout",
     "output_type": "stream",
     "text": [
      "[23, 54, 46, 57, 'hello']\n",
      "[23, 54, 46, 57, 'hello']\n",
      "[23, 54, 46, 57]\n"
     ]
    }
   ],
   "source": [
    "l.append('hello')\n",
    "print(l)\n",
    "print(j)\n",
    "print(k)"
   ]
  },
  {
   "cell_type": "code",
   "execution_count": 109,
   "metadata": {},
   "outputs": [
    {
     "name": "stdout",
     "output_type": "stream",
     "text": [
      "[23, 54, 'bye', 46, 57, 'hello']\n",
      "[23, 54, 'bye', 46, 57, 'hello']\n",
      "[23, 54, 46, 57]\n"
     ]
    }
   ],
   "source": [
    "l.insert(2,'bye')\n",
    "print(l)\n",
    "print(j)\n",
    "print(k)"
   ]
  },
  {
   "cell_type": "code",
   "execution_count": 111,
   "metadata": {},
   "outputs": [
    {
     "name": "stdout",
     "output_type": "stream",
     "text": [
      "[1, 2, 3, 'hello', 'p', 'y', 't', 'h', 'o', 'n']\n"
     ]
    }
   ],
   "source": [
    "l = [ 1,2,3]\n",
    "l.append('hello')\n",
    "l.extend('python')\n",
    "print(l)"
   ]
  },
  {
   "cell_type": "code",
   "execution_count": 113,
   "metadata": {},
   "outputs": [
    {
     "name": "stdout",
     "output_type": "stream",
     "text": [
      "['hi', 'hello', 1, 2, 3, [4, 5, 6], 7, 8, 9]\n"
     ]
    }
   ],
   "source": [
    "l = [ 'hi','hello',1,2,3]\n",
    "l.append([4,5,6])\n",
    "l.extend([7,8,9])\n",
    "print(l)"
   ]
  },
  {
   "cell_type": "code",
   "execution_count": 114,
   "metadata": {},
   "outputs": [
    {
     "name": "stdout",
     "output_type": "stream",
     "text": [
      "Deleting  9\n",
      "['hi', 'hello', 1, 2, 3, [4, 5, 6], 7, 8]\n"
     ]
    }
   ],
   "source": [
    "x = l.pop()\n",
    "print(\"Deleting \",x)\n",
    "print(l)"
   ]
  },
  {
   "cell_type": "code",
   "execution_count": 115,
   "metadata": {},
   "outputs": [
    {
     "name": "stdout",
     "output_type": "stream",
     "text": [
      "hi and hello are deleted from list.\n",
      "[1, 2, 3, [4, 5, 6], 7, 8]\n"
     ]
    }
   ],
   "source": [
    "y = l.pop(1)\n",
    "x = l.pop(0)\n",
    "print(\"{} and {} are deleted from list.\".format(x,y))\n",
    "print(l)"
   ]
  },
  {
   "cell_type": "code",
   "execution_count": 116,
   "metadata": {},
   "outputs": [
    {
     "name": "stdout",
     "output_type": "stream",
     "text": [
      "[1, 2, 3, 7, 8]\n"
     ]
    }
   ],
   "source": [
    "l.remove([4,5,6])\n",
    "print(l)"
   ]
  },
  {
   "cell_type": "code",
   "execution_count": 120,
   "metadata": {
    "collapsed": true
   },
   "outputs": [],
   "source": [
    "l1 = [ 1,23,5,34,3,2,3235,46,5,53,4,]\n",
    "l2 = [ 'hello','jcb','java','c','Zesus','c++','perl','ruby']"
   ]
  },
  {
   "cell_type": "code",
   "execution_count": 121,
   "metadata": {
    "collapsed": true
   },
   "outputs": [],
   "source": [
    "l1.sort()\n",
    "l2.sort()\n"
   ]
  },
  {
   "cell_type": "code",
   "execution_count": 122,
   "metadata": {},
   "outputs": [
    {
     "name": "stdout",
     "output_type": "stream",
     "text": [
      "[1, 2, 3, 4, 5, 5, 23, 34, 46, 53, 3235]\n",
      "['Zesus', 'c', 'c++', 'hello', 'java', 'jcb', 'perl', 'ruby']\n"
     ]
    }
   ],
   "source": [
    "print(l1)\n",
    "print(l2)"
   ]
  },
  {
   "cell_type": "code",
   "execution_count": 124,
   "metadata": {},
   "outputs": [
    {
     "name": "stdout",
     "output_type": "stream",
     "text": [
      "[1, 23, 5, 34, 3, 2, 3235, 46, 5, 53, 4]\n",
      "['hello', 'jcb', 'java', 'c', 'Zesus', 'c++', 'perl', 'ruby']\n"
     ]
    }
   ],
   "source": [
    "l1 = [ 1,23,5,34,3,2,3235,46,5,53,4,]\n",
    "l2 = [ 'hello','jcb','java','c','Zesus','c++','perl','ruby']\n",
    "print(l1)\n",
    "print(l2)"
   ]
  },
  {
   "cell_type": "code",
   "execution_count": 125,
   "metadata": {},
   "outputs": [
    {
     "name": "stdout",
     "output_type": "stream",
     "text": [
      "[3235, 53, 46, 34, 23, 5, 5, 4, 3, 2, 1]\n",
      "['ruby', 'perl', 'jcb', 'java', 'hello', 'c++', 'c', 'Zesus']\n"
     ]
    }
   ],
   "source": [
    "l1.sort(reverse=True)\n",
    "l2.sort(reverse=True)\n",
    "print(l1)\n",
    "print(l2)"
   ]
  },
  {
   "cell_type": "code",
   "execution_count": 127,
   "metadata": {},
   "outputs": [
    {
     "name": "stdout",
     "output_type": "stream",
     "text": [
      "[234, 5, 34, 34, 'hello', 'hi', 123]\n",
      "[123, 'hi', 'hello', 34, 34, 5, 234]\n",
      "[]\n"
     ]
    }
   ],
   "source": [
    "s = [ 234,5,34,34,'hello','hi',123]\n",
    "print(s)\n",
    "s.reverse()\n",
    "print(s)\n",
    "s.clear()\n",
    "print(s)"
   ]
  },
  {
   "cell_type": "code",
   "execution_count": 129,
   "metadata": {},
   "outputs": [],
   "source": [
    "del s"
   ]
  },
  {
   "cell_type": "code",
   "execution_count": 132,
   "metadata": {},
   "outputs": [],
   "source": [
    "l = [ 1,2,43,1,24,35,1,2,424,21,2,1,1,1,1,1,2,34,35,32,532,32,34,32,2]"
   ]
  },
  {
   "cell_type": "code",
   "execution_count": 133,
   "metadata": {},
   "outputs": [
    {
     "name": "stdout",
     "output_type": "stream",
     "text": [
      "[1, 2, 43, 1, 24, 35, 1, 2, 424, 21, 2, 1, 1, 1, 1, 1, 2, 34, 35, 32, 532, 32, 34, 32, 2]\n"
     ]
    }
   ],
   "source": [
    "print(l)"
   ]
  },
  {
   "cell_type": "code",
   "execution_count": 137,
   "metadata": {},
   "outputs": [
    {
     "name": "stdout",
     "output_type": "stream",
     "text": [
      "0\n",
      "0\n",
      "5\n"
     ]
    }
   ],
   "source": [
    "one = l.count(1)\n",
    "th = l.count(3)\n",
    "t = l.count(2)\n",
    "print(one)\n",
    "print(th)\n",
    "print(t)"
   ]
  },
  {
   "cell_type": "code",
   "execution_count": 138,
   "metadata": {},
   "outputs": [
    {
     "name": "stdout",
     "output_type": "stream",
     "text": [
      "[2, 2, 2, 2, 2, 21, 24, 32, 32, 32, 34, 34, 35, 35, 43, 424, 532]\n"
     ]
    }
   ],
   "source": [
    "l.sort();l=l[l.count(1):]\n",
    "print(l)"
   ]
  },
  {
   "cell_type": "code",
   "execution_count": 139,
   "metadata": {},
   "outputs": [
    {
     "name": "stdout",
     "output_type": "stream",
     "text": [
      "[2, 2, 2, 2, 2, 21, 24, 32, 32, 32, 34, 34, 35, 35, 43, 424, 532]\n"
     ]
    }
   ],
   "source": [
    "print(l)"
   ]
  },
  {
   "cell_type": "code",
   "execution_count": 140,
   "metadata": {},
   "outputs": [
    {
     "name": "stdout",
     "output_type": "stream",
     "text": [
      "[2, 2, 2, 2, 2, 21, 24, 32, 32, 32, 34, 34, 43, 424, 532]\n"
     ]
    }
   ],
   "source": [
    "c = l.count(35)#2\n",
    "i = l.index(35) #12\n",
    "k = l[:i] #l[0:12]\n",
    "j = l[i+c:] #l[14:]\n",
    "l = k+j\n",
    "print(l)"
   ]
  },
  {
   "cell_type": "code",
   "execution_count": null,
   "metadata": {
    "collapsed": true
   },
   "outputs": [],
   "source": []
  }
 ],
 "metadata": {
  "kernelspec": {
   "display_name": "Python 3",
   "language": "python",
   "name": "python3"
  },
  "language_info": {
   "codemirror_mode": {
    "name": "ipython",
    "version": 3
   },
   "file_extension": ".py",
   "mimetype": "text/x-python",
   "name": "python",
   "nbconvert_exporter": "python",
   "pygments_lexer": "ipython3",
   "version": "3.6.5"
  }
 },
 "nbformat": 4,
 "nbformat_minor": 2
}
