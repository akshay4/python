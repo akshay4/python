{
 "cells": [
  {
   "cell_type": "markdown",
   "metadata": {},
   "source": [
    "# Functions in Python"
   ]
  },
  {
   "cell_type": "markdown",
   "metadata": {},
   "source": [
    "what is fucntion ?\n",
    "   collection of statements to solve a specific task.\n",
    "\n",
    "why functions not statements ?\n",
    "   because who just wants to write some code again and again , so reusability is the factor we use functions\n",
    "\n",
    "how does a functions really work ?\n",
    "   1. define (body) = knows what to do and how to do\n",
    "   2. calling = repat definition whenever needed \n",
    "   3. return value = always get somthing whenever we call a function\n",
    "   \n",
    "def syntax is used to define in funcitons in python\n",
    "\n",
    "def func_name(arg1,arg2):\n",
    "    step1\n",
    "    step2\n",
    "    step3\n",
    "    setp4\n",
    "    \n",
    "  return statement  \n",
    "   "
   ]
  },
  {
   "cell_type": "code",
   "execution_count": 1,
   "metadata": {},
   "outputs": [],
   "source": [
    "#functions example\n",
    "def hello():\n",
    "    print(\"Hello Tamatar\")\n",
    "    "
   ]
  },
  {
   "cell_type": "code",
   "execution_count": 4,
   "metadata": {},
   "outputs": [
    {
     "name": "stdout",
     "output_type": "stream",
     "text": [
      "hello Tamatar\n",
      "None\n"
     ]
    }
   ],
   "source": [
    "#this is how a function is called in python\n",
    "r = hello()\n",
    "print(r)"
   ]
  },
  {
   "cell_type": "code",
   "execution_count": 8,
   "metadata": {},
   "outputs": [
    {
     "name": "stdout",
     "output_type": "stream",
     "text": [
      "hello tamatar\n",
      "hello tamatar\n"
     ]
    }
   ],
   "source": [
    "#function can return also\n",
    "def akshay():\n",
    "    return \"hello tamatar\"\n",
    "akshay()\n",
    "msg = akshay()\n",
    "print(msg)\n",
    "print(akshay())"
   ]
  },
  {
   "cell_type": "code",
   "execution_count": 14,
   "metadata": {},
   "outputs": [],
   "source": [
    "#function can also take information to process\n",
    "def hello(name): #formal arguments or formal parameters\n",
    "        print(\"Hello Nigga\")\n",
    "        print(\"Welcome Dude\",name)\n",
    "        return True #exit status"
   ]
  },
  {
   "cell_type": "code",
   "execution_count": 15,
   "metadata": {},
   "outputs": [
    {
     "name": "stdout",
     "output_type": "stream",
     "text": [
      "Enter your name: Akshay\n",
      "Hello Nigga\n",
      "Welcome Dude Akshay\n",
      "Funtion sucessfully exited\n"
     ]
    }
   ],
   "source": [
    "if hello(input(\"Enter your name: \")):\n",
    "        print(\"Funtion sucessfully exited\")\n",
    "else :\n",
    "    print(\"there is an error in funtion\")"
   ]
  },
  {
   "cell_type": "code",
   "execution_count": 22,
   "metadata": {},
   "outputs": [
    {
     "name": "stdout",
     "output_type": "stream",
     "text": [
      "Enter the Number: 8\n",
      "8 is a Prime Number\n"
     ]
    },
    {
     "data": {
      "text/plain": [
       "True"
      ]
     },
     "execution_count": 22,
     "metadata": {},
     "output_type": "execute_result"
    }
   ],
   "source": [
    "#prime no using function\n",
    "def prime(num):\n",
    "    while num % 2 == 0:\n",
    "        print(num,\"is a Prime Number\")\n",
    "        return True\n",
    "    else :\n",
    "        print(num,\"is not a Prime Number\")\n",
    "        return False\n",
    "prime(int(input(\"Enter the Number: \")))"
   ]
  },
  {
   "cell_type": "code",
   "execution_count": 23,
   "metadata": {},
   "outputs": [],
   "source": [
    "#prime no exampe 2\n",
    "def prime(num):\n",
    "    from math import sqrt\n",
    "    check = round(sqrt(num)+1)\n",
    "    for ch in range(2,check):\n",
    "        if num % ch == 0:\n",
    "            return False\n",
    "        return True"
   ]
  },
  {
   "cell_type": "code",
   "execution_count": 26,
   "metadata": {},
   "outputs": [],
   "source": [
    "def main():\n",
    "    num = int(input(\"Enter a number :\"))\n",
    "    if prime(num):\n",
    "        print(\"{} is a Prime Number\".format(num))\n",
    "    else :\n",
    "        print(\"{} is not a Prime Number\".format(num))"
   ]
  },
  {
   "cell_type": "code",
   "execution_count": 27,
   "metadata": {},
   "outputs": [
    {
     "name": "stdout",
     "output_type": "stream",
     "text": [
      "Enter a number :56\n",
      "56 is not a Prime Number\n"
     ]
    }
   ],
   "source": [
    "main()"
   ]
  },
  {
   "cell_type": "markdown",
   "metadata": {},
   "source": []
  },
  {
   "cell_type": "code",
   "execution_count": 33,
   "metadata": {},
   "outputs": [
    {
     "data": {
      "text/plain": [
       "True"
      ]
     },
     "execution_count": 33,
     "metadata": {},
     "output_type": "execute_result"
    }
   ],
   "source": [
    "prime(8961)"
   ]
  },
  {
   "cell_type": "code",
   "execution_count": 45,
   "metadata": {},
   "outputs": [],
   "source": [
    "def prime_range(start,end):\n",
    "    c = 0\n",
    "    for var in range(start,end+1):\n",
    "        if prime(var):\n",
    "            print(var,end=\",\")\n",
    "            c = c + 1\n",
    "    print(\"\\nTotal {} Prime Numbers in Range({},{})\".format(c,start,end))\n",
    "    print()"
   ]
  },
  {
   "cell_type": "code",
   "execution_count": 35,
   "metadata": {},
   "outputs": [
    {
     "name": "stdout",
     "output_type": "stream",
     "text": [
      "5,7,9,11,13,15,17,19,\n"
     ]
    }
   ],
   "source": [
    "prime_range(5,20)"
   ]
  },
  {
   "cell_type": "code",
   "execution_count": 46,
   "metadata": {},
   "outputs": [
    {
     "name": "stdout",
     "output_type": "stream",
     "text": [
      "Enter Sarting , Ending point : 1 , 200\n",
      "3,5,7,9,11,13,15,17,19,21,23,25,27,29,31,33,35,37,39,41,43,45,47,49,51,53,55,57,59,61,63,65,67,69,71,73,75,77,79,81,83,85,87,89,91,93,95,97,99,101,103,105,107,109,111,113,115,117,119,121,123,125,127,129,131,133,135,137,139,141,143,145,147,149,151,153,155,157,159,161,163,165,167,169,171,173,175,177,179,181,183,185,187,189,191,193,195,197,199,\n",
      "Total 99 Prime Numbers in Range(1,200)\n",
      "\n"
     ]
    }
   ],
   "source": [
    "#map is used to apply sequence to a function \n",
    "s,e = map(int,input(\"Enter Sarting , Ending point : \").strip().split(','))\n",
    "prime_range(s,e)"
   ]
  },
  {
   "cell_type": "code",
   "execution_count": 47,
   "metadata": {},
   "outputs": [],
   "source": [
    "def mymap(func,seq):\n",
    "    r = []\n",
    "    for var in seq:\n",
    "        k = func(var)\n",
    "        r.append(k)\n",
    "    return r"
   ]
  },
  {
   "cell_type": "code",
   "execution_count": 49,
   "metadata": {},
   "outputs": [
    {
     "name": "stdout",
     "output_type": "stream",
     "text": [
      "Float values as , Seprated :1,2,3,5,7,8,9,4,6,1,3,2,15,6,8,7,9,31,3\n",
      "before X =  ['1', '2', '3', '5', '7', '8', '9', '4', '6', '1', '3', '2', '15', '6', '8', '7', '9', '31', '3']\n",
      "After X =  [1, 2, 3, 5, 7, 8, 9, 4, 6, 1, 3, 2, 15, 6, 8, 7, 9, 31, 3]\n"
     ]
    }
   ],
   "source": [
    "x = input(\"Float values as , Seprated :\").split(',')\n",
    "print(\"before X = \",x)\n",
    "x = mymap(int,x)\n",
    "print(\"After X = \",x)"
   ]
  },
  {
   "cell_type": "markdown",
   "metadata": {},
   "source": [
    "Types of Function as Precendence\n",
    "\n",
    "1. Postional Arguments : \n",
    "    def func(x,y):\n",
    "        return y,x\n",
    "      exmp: func(4,5)\n",
    "      \n",
    "2. Default Arguments :\n",
    "    def func(x,y=0)\n",
    "        return x,y\n",
    "        \n",
    "3. Keyword Arguments :\n",
    "    \n",
    "4. Var Length Arguments :\n",
    "    xargs\n",
    "    xxargs"
   ]
  },
  {
   "cell_type": "code",
   "execution_count": 56,
   "metadata": {},
   "outputs": [],
   "source": [
    "#example of Default argument\n",
    "def area(r,b=None,c=0):\n",
    "    if r and b and c :\n",
    "        from math import sqrt\n",
    "        s = (r + b + c)/2\n",
    "        A = sqrt(s*(s-r)*(s-b)*(s-c))\n",
    "        return A\n",
    "    elif r and b :\n",
    "        return r*b\n",
    "    else :\n",
    "        from math import pi\n",
    "        return r*r*pi\n",
    "    "
   ]
  },
  {
   "cell_type": "code",
   "execution_count": 51,
   "metadata": {},
   "outputs": [
    {
     "data": {
      "text/plain": [
       "3.141592653589793"
      ]
     },
     "execution_count": 51,
     "metadata": {},
     "output_type": "execute_result"
    }
   ],
   "source": [
    "from math import pi\n",
    "pi"
   ]
  },
  {
   "cell_type": "code",
   "execution_count": 53,
   "metadata": {},
   "outputs": [
    {
     "name": "stdout",
     "output_type": "stream",
     "text": [
      "28.274333882308138\n"
     ]
    }
   ],
   "source": [
    "print(area(3))"
   ]
  },
  {
   "cell_type": "code",
   "execution_count": 54,
   "metadata": {},
   "outputs": [
    {
     "name": "stdout",
     "output_type": "stream",
     "text": [
      "15\n"
     ]
    }
   ],
   "source": [
    "print(area(3,5))"
   ]
  },
  {
   "cell_type": "code",
   "execution_count": 57,
   "metadata": {},
   "outputs": [
    {
     "name": "stdout",
     "output_type": "stream",
     "text": [
      "1558.8457268119896\n"
     ]
    }
   ],
   "source": [
    "print(area(60,60,60))"
   ]
  },
  {
   "cell_type": "code",
   "execution_count": 58,
   "metadata": {},
   "outputs": [
    {
     "data": {
      "text/plain": [
       "True"
      ]
     },
     "execution_count": 58,
     "metadata": {},
     "output_type": "execute_result"
    }
   ],
   "source": [
    "#keyword Argument Example\n",
    "prime(num=123)"
   ]
  },
  {
   "cell_type": "code",
   "execution_count": 61,
   "metadata": {},
   "outputs": [],
   "source": [
    "def func(a,b=0,c=None):\n",
    "    print(\"A =\",a)\n",
    "    print(\"B =\",b)\n",
    "    print(\"C =\",c)"
   ]
  },
  {
   "cell_type": "code",
   "execution_count": 62,
   "metadata": {},
   "outputs": [
    {
     "name": "stdout",
     "output_type": "stream",
     "text": [
      "A = 22\n",
      "B = -20\n",
      "C = 30\n"
     ]
    }
   ],
   "source": [
    "func(c= 30,b=-20,a=22) #keyword arguments"
   ]
  },
  {
   "cell_type": "code",
   "execution_count": 63,
   "metadata": {},
   "outputs": [
    {
     "name": "stdout",
     "output_type": "stream",
     "text": [
      "\n"
     ]
    }
   ],
   "source": [
    "print() #\\n is the default argument for this function"
   ]
  },
  {
   "cell_type": "code",
   "execution_count": 71,
   "metadata": {},
   "outputs": [],
   "source": [
    "#variable Lenght Argument Example\n",
    "def even(*args):\n",
    "    for var in args:\n",
    "        if var % 2 == 0:\n",
    "            print(var,end=',')\n",
    "        else :\n",
    "            return False"
   ]
  },
  {
   "cell_type": "code",
   "execution_count": 65,
   "metadata": {},
   "outputs": [
    {
     "name": "stdout",
     "output_type": "stream",
     "text": [
      "2,4,8,2,4,6,6,6,4,6,"
     ]
    }
   ],
   "source": [
    "even(2,3,4,5,8,9,5,2,4,6,7,6,3,1,5,6,4,6)"
   ]
  },
  {
   "cell_type": "code",
   "execution_count": 74,
   "metadata": {},
   "outputs": [],
   "source": [
    "def main():\n",
    "    even(*map(int,input(\"Enter , Seprated values : \").split(',')))\n",
    "    if input(\"Press a key to Continue: \"):\n",
    "        main()\n",
    "        "
   ]
  },
  {
   "cell_type": "code",
   "execution_count": 76,
   "metadata": {},
   "outputs": [
    {
     "name": "stdout",
     "output_type": "stream",
     "text": [
      "Enter , Seprated values : 1,2,3,4,56,88,78,9,8,2,5,68,65,78\n",
      "Press a key to Continue:  \n",
      "Enter , Seprated values : 123,4,56,789\n",
      "Press a key to Continue: \n"
     ]
    }
   ],
   "source": [
    "main()"
   ]
  },
  {
   "cell_type": "code",
   "execution_count": null,
   "metadata": {},
   "outputs": [],
   "source": []
  }
 ],
 "metadata": {
  "kernelspec": {
   "display_name": "Python 3",
   "language": "python",
   "name": "python3"
  },
  "language_info": {
   "codemirror_mode": {
    "name": "ipython",
    "version": 3
   },
   "file_extension": ".py",
   "mimetype": "text/x-python",
   "name": "python",
   "nbconvert_exporter": "python",
   "pygments_lexer": "ipython3",
   "version": "3.6.5"
  }
 },
 "nbformat": 4,
 "nbformat_minor": 2
}
