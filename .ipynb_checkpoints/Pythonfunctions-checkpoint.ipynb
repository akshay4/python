{
 "cells": [
  {
   "cell_type": "markdown",
   "metadata": {},
   "source": [
    "# Functions in Python"
   ]
  },
  {
   "cell_type": "markdown",
   "metadata": {},
   "source": [
    "what is fucntion ?\n",
    "   collection of statements to solve a specific task.\n",
    "\n",
    "why functions not statements ?\n",
    "   because who just wants to write some code again and again , so reusability is the factor we use functions\n",
    "\n",
    "how does a functions really work ?\n",
    "   1. define (body) = knows what to do and how to do\n",
    "   2. calling = repat definition whenever needed \n",
    "   3. return value = always get somthing whenever we call a function\n",
    "   \n",
    "def syntax is used to define in funcitons in python\n",
    "\n",
    "def func_name(arg1,arg2):\n",
    "    step1\n",
    "    step2\n",
    "    step3\n",
    "    setp4\n",
    "    \n",
    "  return statement  \n",
    "   "
   ]
  },
  {
   "cell_type": "code",
   "execution_count": 1,
   "metadata": {},
   "outputs": [],
   "source": [
    "#functions example\n",
    "def hello():\n",
    "    print(\"Hello Tamatar\")\n",
    "    "
   ]
  },
  {
   "cell_type": "code",
   "execution_count": 4,
   "metadata": {},
   "outputs": [
    {
     "name": "stdout",
     "output_type": "stream",
     "text": [
      "hello Tamatar\n",
      "None\n"
     ]
    }
   ],
   "source": [
    "#this is how a function is called in python\n",
    "r = hello()\n",
    "print(r)"
   ]
  },
  {
   "cell_type": "code",
   "execution_count": 8,
   "metadata": {},
   "outputs": [
    {
     "name": "stdout",
     "output_type": "stream",
     "text": [
      "hello tamatar\n",
      "hello tamatar\n"
     ]
    }
   ],
   "source": [
    "#function can return also\n",
    "def akshay():\n",
    "    return \"hello tamatar\"\n",
    "akshay()\n",
    "msg = akshay()\n",
    "print(msg)\n",
    "print(akshay())"
   ]
  },
  {
   "cell_type": "code",
   "execution_count": 14,
   "metadata": {},
   "outputs": [],
   "source": [
    "#function can also take information to process\n",
    "def hello(name): #formal arguments or formal parameters\n",
    "        print(\"Hello Nigga\")\n",
    "        print(\"Welcome Dude\",name)\n",
    "        return True #exit status"
   ]
  },
  {
   "cell_type": "code",
   "execution_count": 15,
   "metadata": {},
   "outputs": [
    {
     "name": "stdout",
     "output_type": "stream",
     "text": [
      "Enter your name: Akshay\n",
      "Hello Nigga\n",
      "Welcome Dude Akshay\n",
      "Funtion sucessfully exited\n"
     ]
    }
   ],
   "source": [
    "if hello(input(\"Enter your name: \")):\n",
    "        print(\"Funtion sucessfully exited\")\n",
    "else :\n",
    "    print(\"there is an error in funtion\")"
   ]
  },
  {
   "cell_type": "code",
   "execution_count": 22,
   "metadata": {},
   "outputs": [
    {
     "name": "stdout",
     "output_type": "stream",
     "text": [
      "Enter the Number: 8\n",
      "8 is a Prime Number\n"
     ]
    },
    {
     "data": {
      "text/plain": [
       "True"
      ]
     },
     "execution_count": 22,
     "metadata": {},
     "output_type": "execute_result"
    }
   ],
   "source": [
    "#prime no using function\n",
    "def prime(num):\n",
    "    while num % 2 == 0:\n",
    "        print(num,\"is a Prime Number\")\n",
    "        return True\n",
    "    else :\n",
    "        print(num,\"is not a Prime Number\")\n",
    "        return False\n",
    "prime(int(input(\"Enter the Number: \")))"
   ]
  },
  {
   "cell_type": "code",
   "execution_count": 23,
   "metadata": {},
   "outputs": [],
   "source": [
    "#prime no exampe 2\n",
    "def prime(num):\n",
    "    from math import sqrt\n",
    "    check = round(sqrt(num)+1)\n",
    "    for ch in range(2,check):\n",
    "        if num % ch == 0:\n",
    "            return False\n",
    "        return True"
   ]
  },
  {
   "cell_type": "code",
   "execution_count": 26,
   "metadata": {},
   "outputs": [],
   "source": [
    "def main():\n",
    "    num = int(input(\"Enter a number :\"))\n",
    "    if prime(num):\n",
    "        print(\"{} is a Prime Number\".format(num))\n",
    "    else :\n",
    "        print(\"{} is not a Prime Number\".format(num))"
   ]
  },
  {
   "cell_type": "code",
   "execution_count": 27,
   "metadata": {},
   "outputs": [
    {
     "name": "stdout",
     "output_type": "stream",
     "text": [
      "Enter a number :56\n",
      "56 is not a Prime Number\n"
     ]
    }
   ],
   "source": [
    "main()"
   ]
  },
  {
   "cell_type": "markdown",
   "metadata": {},
   "source": []
  },
  {
   "cell_type": "code",
   "execution_count": 33,
   "metadata": {},
   "outputs": [
    {
     "data": {
      "text/plain": [
       "True"
      ]
     },
     "execution_count": 33,
     "metadata": {},
     "output_type": "execute_result"
    }
   ],
   "source": [
    "prime(8961)"
   ]
  },
  {
   "cell_type": "code",
   "execution_count": 45,
   "metadata": {},
   "outputs": [],
   "source": [
    "def prime_range(start,end):\n",
    "    c = 0\n",
    "    for var in range(start,end+1):\n",
    "        if prime(var):\n",
    "            print(var,end=\",\")\n",
    "            c = c + 1\n",
    "    print(\"\\nTotal {} Prime Numbers in Range({},{})\".format(c,start,end))\n",
    "    print()"
   ]
  },
  {
   "cell_type": "code",
   "execution_count": 35,
   "metadata": {},
   "outputs": [
    {
     "name": "stdout",
     "output_type": "stream",
     "text": [
      "5,7,9,11,13,15,17,19,\n"
     ]
    }
   ],
   "source": [
    "prime_range(5,20)"
   ]
  },
  {
   "cell_type": "code",
   "execution_count": 46,
   "metadata": {},
   "outputs": [
    {
     "name": "stdout",
     "output_type": "stream",
     "text": [
      "Enter Sarting , Ending point : 1 , 200\n",
      "3,5,7,9,11,13,15,17,19,21,23,25,27,29,31,33,35,37,39,41,43,45,47,49,51,53,55,57,59,61,63,65,67,69,71,73,75,77,79,81,83,85,87,89,91,93,95,97,99,101,103,105,107,109,111,113,115,117,119,121,123,125,127,129,131,133,135,137,139,141,143,145,147,149,151,153,155,157,159,161,163,165,167,169,171,173,175,177,179,181,183,185,187,189,191,193,195,197,199,\n",
      "Total 99 Prime Numbers in Range(1,200)\n",
      "\n"
     ]
    }
   ],
   "source": [
    "#map is used to apply sequence to a function \n",
    "s,e = map(int,input(\"Enter Sarting , Ending point : \").strip().split(','))\n",
    "prime_range(s,e)"
   ]
  },
  {
   "cell_type": "code",
   "execution_count": 47,
   "metadata": {},
   "outputs": [],
   "source": [
    "def mymap(func,seq):\n",
    "    r = []\n",
    "    for var in seq:\n",
    "        k = func(var)\n",
    "        r.append(k)\n",
    "    return r"
   ]
  },
  {
   "cell_type": "code",
   "execution_count": 49,
   "metadata": {},
   "outputs": [
    {
     "name": "stdout",
     "output_type": "stream",
     "text": [
      "Float values as , Seprated :1,2,3,5,7,8,9,4,6,1,3,2,15,6,8,7,9,31,3\n",
      "before X =  ['1', '2', '3', '5', '7', '8', '9', '4', '6', '1', '3', '2', '15', '6', '8', '7', '9', '31', '3']\n",
      "After X =  [1, 2, 3, 5, 7, 8, 9, 4, 6, 1, 3, 2, 15, 6, 8, 7, 9, 31, 3]\n"
     ]
    }
   ],
   "source": [
    "x = input(\"Float values as , Seprated :\").split(',')\n",
    "print(\"before X = \",x)\n",
    "x = mymap(int,x)\n",
    "print(\"After X = \",x)"
   ]
  },
  {
   "cell_type": "markdown",
   "metadata": {},
   "source": [
    "Types of Function as Precendence\n",
    "\n",
    "1. Postional Arguments : \n",
    "    def func(x,y):\n",
    "        return y,x\n",
    "      exmp: func(4,5)\n",
    "      \n",
    "2. Default Arguments :\n",
    "    def func(x,y=0)\n",
    "        return x,y\n",
    "        \n",
    "3. Keyword Arguments :\n",
    "    \n",
    "4. Var Length Arguments :\n",
    "    xargs\n",
    "    xxargs"
   ]
  },
  {
   "cell_type": "code",
   "execution_count": 56,
   "metadata": {},
   "outputs": [],
   "source": [
    "#example of Default argument\n",
    "def area(r,b=None,c=0):\n",
    "    if r and b and c :\n",
    "        from math import sqrt\n",
    "        s = (r + b + c)/2\n",
    "        A = sqrt(s*(s-r)*(s-b)*(s-c))\n",
    "        return A\n",
    "    elif r and b :\n",
    "        return r*b\n",
    "    else :\n",
    "        from math import pi\n",
    "        return r*r*pi\n",
    "    "
   ]
  },
  {
   "cell_type": "code",
   "execution_count": 51,
   "metadata": {},
   "outputs": [
    {
     "data": {
      "text/plain": [
       "3.141592653589793"
      ]
     },
     "execution_count": 51,
     "metadata": {},
     "output_type": "execute_result"
    }
   ],
   "source": [
    "from math import pi\n",
    "pi"
   ]
  },
  {
   "cell_type": "code",
   "execution_count": 53,
   "metadata": {},
   "outputs": [
    {
     "name": "stdout",
     "output_type": "stream",
     "text": [
      "28.274333882308138\n"
     ]
    }
   ],
   "source": [
    "print(area(3))"
   ]
  },
  {
   "cell_type": "code",
   "execution_count": 54,
   "metadata": {},
   "outputs": [
    {
     "name": "stdout",
     "output_type": "stream",
     "text": [
      "15\n"
     ]
    }
   ],
   "source": [
    "print(area(3,5))"
   ]
  },
  {
   "cell_type": "code",
   "execution_count": 57,
   "metadata": {},
   "outputs": [
    {
     "name": "stdout",
     "output_type": "stream",
     "text": [
      "1558.8457268119896\n"
     ]
    }
   ],
   "source": [
    "print(area(60,60,60))"
   ]
  },
  {
   "cell_type": "code",
   "execution_count": 58,
   "metadata": {},
   "outputs": [
    {
     "data": {
      "text/plain": [
       "True"
      ]
     },
     "execution_count": 58,
     "metadata": {},
     "output_type": "execute_result"
    }
   ],
   "source": [
    "#keyword Argument Example\n",
    "prime(num=123)"
   ]
  },
  {
   "cell_type": "code",
   "execution_count": 61,
   "metadata": {},
   "outputs": [],
   "source": [
    "def func(a,b=0,c=None):\n",
    "    print(\"A =\",a)\n",
    "    print(\"B =\",b)\n",
    "    print(\"C =\",c)"
   ]
  },
  {
   "cell_type": "code",
   "execution_count": 62,
   "metadata": {},
   "outputs": [
    {
     "name": "stdout",
     "output_type": "stream",
     "text": [
      "A = 22\n",
      "B = -20\n",
      "C = 30\n"
     ]
    }
   ],
   "source": [
    "func(c= 30,b=-20,a=22) #keyword arguments"
   ]
  },
  {
   "cell_type": "code",
   "execution_count": 63,
   "metadata": {},
   "outputs": [
    {
     "name": "stdout",
     "output_type": "stream",
     "text": [
      "\n"
     ]
    }
   ],
   "source": [
    "print() #\\n is the default argument for this function"
   ]
  },
  {
   "cell_type": "code",
   "execution_count": 71,
   "metadata": {},
   "outputs": [],
   "source": [
    "#variable Lenght Argument Example\n",
    "def even(*args):\n",
    "    for var in args:\n",
    "        if var % 2 == 0:\n",
    "            print(var,end=',')\n",
    "        else :\n",
    "            return False"
   ]
  },
  {
   "cell_type": "code",
   "execution_count": 65,
   "metadata": {},
   "outputs": [
    {
     "name": "stdout",
     "output_type": "stream",
     "text": [
      "2,4,8,2,4,6,6,6,4,6,"
     ]
    }
   ],
   "source": [
    "even(2,3,4,5,8,9,5,2,4,6,7,6,3,1,5,6,4,6)"
   ]
  },
  {
   "cell_type": "code",
   "execution_count": 74,
   "metadata": {},
   "outputs": [],
   "source": [
    "def main():\n",
    "    even(*map(int,input(\"Enter , Seprated values : \").split(',')))\n",
    "    if input(\"Press a key to Continue: \"):\n",
    "        main()\n",
    "        "
   ]
  },
  {
   "cell_type": "code",
   "execution_count": 78,
   "metadata": {},
   "outputs": [
    {
     "name": "stdout",
     "output_type": "stream",
     "text": [
      "Enter , Seprated values : 1,2,3,5,5\n",
      "Press a key to Continue: asdf\n",
      "Enter , Seprated values : 45,89\n",
      "Press a key to Continue: \n"
     ]
    }
   ],
   "source": [
    "main()"
   ]
  },
  {
   "cell_type": "code",
   "execution_count": 77,
   "metadata": {},
   "outputs": [
    {
     "name": "stdout",
     "output_type": "stream",
     "text": [
      "45\n",
      "<class 'str'>\n",
      "45\n"
     ]
    }
   ],
   "source": [
    "x = input()\n",
    "print(type(x))\n",
    "print(x)"
   ]
  },
  {
   "cell_type": "code",
   "execution_count": 4,
   "metadata": {},
   "outputs": [],
   "source": [
    "#key with arguments example\n",
    "def mydata(**kwrgs):\n",
    "    for key,value in kwrgs.items():\n",
    "        print(\"{}={}\".format(key,value))"
   ]
  },
  {
   "cell_type": "code",
   "execution_count": 5,
   "metadata": {},
   "outputs": [
    {
     "name": "stdout",
     "output_type": "stream",
     "text": [
      "name=python\n",
      "version=3.6\n",
      "scope=lol this amazing\n"
     ]
    }
   ],
   "source": [
    "mydata(name='python',version=3.6,scope='lol this amazing')"
   ]
  },
  {
   "cell_type": "code",
   "execution_count": 6,
   "metadata": {},
   "outputs": [],
   "source": [
    "d = {\n",
    "    '1':'one',\n",
    "    '2':'two',\n",
    "    '3':\"three\",\n",
    "    '4':\"four\",\n",
    "}"
   ]
  },
  {
   "cell_type": "code",
   "execution_count": 7,
   "metadata": {},
   "outputs": [
    {
     "name": "stdout",
     "output_type": "stream",
     "text": [
      "1=one\n",
      "2=two\n",
      "3=three\n",
      "4=four\n"
     ]
    }
   ],
   "source": [
    "mydata(**d)#to pass key with vaues or to pass a dictonary"
   ]
  },
  {
   "cell_type": "code",
   "execution_count": 18,
   "metadata": {},
   "outputs": [],
   "source": [
    "def last_func(pos,key,*args,**kwargs):\n",
    "    \"\"\" I Used to print all arguments.\"\"\" #doc-string\n",
    "    print(\"postional Arguments is \",pos)\n",
    "    print(\"Keyword/Default Arguments is\",key)\n",
    "    print(\"here are your multiple Arguments as Tuple\")\n",
    "    c = 0\n",
    "    for value in args:\n",
    "        print(\"Args[{}]:{}\".format(c,value))\n",
    "        c = c + 1\n",
    "    print(\"here are your Arguments as Dictonary\")\n",
    "    for key,value in kwargs.items():\n",
    "        print(\"{}={}\".format(key,value))\n",
    "    print('\\nThanks for using this function')"
   ]
  },
  {
   "cell_type": "code",
   "execution_count": 19,
   "metadata": {},
   "outputs": [
    {
     "name": "stdout",
     "output_type": "stream",
     "text": [
      " I Used to print all arguments.\n"
     ]
    }
   ],
   "source": [
    "print(last_func.__doc__)"
   ]
  },
  {
   "cell_type": "code",
   "execution_count": 20,
   "metadata": {},
   "outputs": [
    {
     "name": "stdout",
     "output_type": "stream",
     "text": [
      "postional Arguments is  Akshay\n",
      "Keyword/Default Arguments is Python\n",
      "here are your multiple Arguments as Tuple\n",
      "here are your Arguments as Dictonary\n",
      "\n",
      "Thanks for using this function\n"
     ]
    }
   ],
   "source": [
    "last_func(\"Akshay\",'Python')"
   ]
  },
  {
   "cell_type": "code",
   "execution_count": 23,
   "metadata": {},
   "outputs": [
    {
     "name": "stdout",
     "output_type": "stream",
     "text": [
      "postional Arguments is  Akshay\n",
      "Keyword/Default Arguments is Python\n",
      "here are your multiple Arguments as Tuple\n",
      "Args[0]:12\n",
      "Args[1]:3\n",
      "Args[2]:5\n",
      "Args[3]:64\n",
      "Args[4]:5\n",
      "Args[5]:64\n",
      "Args[6]:56\n",
      "Args[7]:48\n",
      "Args[8]:70\n",
      "here are your Arguments as Dictonary\n",
      "\n",
      "Thanks for using this function\n",
      "postional Arguments is  Akshay\n",
      "Keyword/Default Arguments is Python\n",
      "here are your multiple Arguments as Tuple\n",
      "Args[0]:12\n",
      "Args[1]:3\n",
      "Args[2]:5\n",
      "Args[3]:64\n",
      "Args[4]:5\n",
      "Args[5]:64\n",
      "Args[6]:56\n",
      "Args[7]:48\n",
      "Args[8]:70\n",
      "here are your Arguments as Dictonary\n",
      "\n",
      "Thanks for using this function\n"
     ]
    }
   ],
   "source": [
    "l=[12,3,5,64,5,64,56,48,70]\n",
    "last_func(\"Akshay\",'Python',12,3,5,64,5,64,56,48,70)\n",
    "last_func(\"Akshay\",'Python',*l)"
   ]
  },
  {
   "cell_type": "code",
   "execution_count": 24,
   "metadata": {},
   "outputs": [
    {
     "name": "stdout",
     "output_type": "stream",
     "text": [
      "postional Arguments is  Hi\n",
      "Keyword/Default Arguments is Hello\n",
      "here are your multiple Arguments as Tuple\n",
      "Args[0]:yolo\n",
      "Args[1]:tamatar\n",
      "here are your Arguments as Dictonary\n",
      "name=akshay\n",
      "subject=peethon\n",
      "year=2027\n",
      "\n",
      "Thanks for using this function\n"
     ]
    }
   ],
   "source": [
    "last_func(\"Hi\",'Hello','yolo','tamatar',name='akshay',subject='peethon',year=2027)"
   ]
  },
  {
   "cell_type": "code",
   "execution_count": null,
   "metadata": {},
   "outputs": [],
   "source": [
    "del function_name #to delete or remove a fucntion or data form the memory in the python"
   ]
  },
  {
   "cell_type": "code",
   "execution_count": 26,
   "metadata": {},
   "outputs": [],
   "source": [
    "del last_func"
   ]
  },
  {
   "cell_type": "code",
   "execution_count": 27,
   "metadata": {},
   "outputs": [
    {
     "ename": "NameError",
     "evalue": "name 'last_func' is not defined",
     "output_type": "error",
     "traceback": [
      "\u001b[1;31m---------------------------------------------------------------------------\u001b[0m",
      "\u001b[1;31mNameError\u001b[0m                                 Traceback (most recent call last)",
      "\u001b[1;32m<ipython-input-27-a2c6afc70961>\u001b[0m in \u001b[0;36m<module>\u001b[1;34m()\u001b[0m\n\u001b[1;32m----> 1\u001b[1;33m \u001b[0mlast_func\u001b[0m\u001b[1;33m\u001b[0m\u001b[0m\n\u001b[0m",
      "\u001b[1;31mNameError\u001b[0m: name 'last_func' is not defined"
     ]
    }
   ],
   "source": [
    "last_func"
   ]
  },
  {
   "cell_type": "code",
   "execution_count": 29,
   "metadata": {},
   "outputs": [
    {
     "data": {
      "text/plain": [
       "10"
      ]
     },
     "execution_count": 29,
     "metadata": {},
     "output_type": "execute_result"
    }
   ],
   "source": [
    "#Globar Scope valid untile the program runs after that its lost \n",
    "x = 5\n",
    "x = x + 5 \n",
    "x"
   ]
  },
  {
   "cell_type": "code",
   "execution_count": 30,
   "metadata": {},
   "outputs": [],
   "source": [
    "def fun():\n",
    "    #you can use any global variable in any class or function \n",
    "    #but not local that are only initialized into a function or class onky\n",
    "    print(x)"
   ]
  },
  {
   "cell_type": "code",
   "execution_count": 31,
   "metadata": {},
   "outputs": [
    {
     "name": "stdout",
     "output_type": "stream",
     "text": [
      "10\n"
     ]
    }
   ],
   "source": [
    "fun()"
   ]
  },
  {
   "cell_type": "code",
   "execution_count": 35,
   "metadata": {},
   "outputs": [],
   "source": [
    "#local variable\n",
    "def ishi():\n",
    "    i = 10\n",
    "    i = i + 5\n",
    "    print(i)"
   ]
  },
  {
   "cell_type": "code",
   "execution_count": 36,
   "metadata": {},
   "outputs": [
    {
     "name": "stdout",
     "output_type": "stream",
     "text": [
      "15\n"
     ]
    }
   ],
   "source": [
    "ishi()"
   ]
  },
  {
   "cell_type": "code",
   "execution_count": 38,
   "metadata": {},
   "outputs": [
    {
     "name": "stdout",
     "output_type": "stream",
     "text": [
      "10\n",
      "25\n",
      "10\n"
     ]
    }
   ],
   "source": [
    "def test():\n",
    "    x = 5\n",
    "    x = x ** 2\n",
    "    print(x)\n",
    "print(x)\n",
    "test()\n",
    "print(x)"
   ]
  },
  {
   "cell_type": "code",
   "execution_count": 42,
   "metadata": {},
   "outputs": [
    {
     "data": {
      "text/plain": [
       "5"
      ]
     },
     "execution_count": 42,
     "metadata": {},
     "output_type": "execute_result"
    }
   ],
   "source": [
    "i = 5\n",
    "i"
   ]
  },
  {
   "cell_type": "code",
   "execution_count": 43,
   "metadata": {},
   "outputs": [
    {
     "name": "stdout",
     "output_type": "stream",
     "text": [
      "5\n",
      "25\n",
      "25\n"
     ]
    }
   ],
   "source": [
    "def bae():\n",
    "    global i\n",
    "    i = i ** 2\n",
    "    print(i)\n",
    "print(i)\n",
    "bae()\n",
    "print(i)\n",
    "    "
   ]
  },
  {
   "cell_type": "code",
   "execution_count": 44,
   "metadata": {},
   "outputs": [],
   "source": [
    "msg = \"Hi i am a Global Messege\""
   ]
  },
  {
   "cell_type": "code",
   "execution_count": 45,
   "metadata": {},
   "outputs": [
    {
     "data": {
      "text/plain": [
       "'Hi i am a Global Messege'"
      ]
     },
     "execution_count": 45,
     "metadata": {},
     "output_type": "execute_result"
    }
   ],
   "source": [
    "msg"
   ]
  },
  {
   "cell_type": "code",
   "execution_count": 46,
   "metadata": {},
   "outputs": [],
   "source": [
    "def yolo():\n",
    "    print(\"Global Messege: \",msg)\n",
    "    "
   ]
  },
  {
   "cell_type": "code",
   "execution_count": 48,
   "metadata": {},
   "outputs": [],
   "source": [
    "def yolo2():\n",
    "    global msg\n",
    "    print(\"Previous Messege: \",msg)\n",
    "    msg = input(\"New Messege: \")"
   ]
  },
  {
   "cell_type": "code",
   "execution_count": 49,
   "metadata": {},
   "outputs": [
    {
     "name": "stdout",
     "output_type": "stream",
     "text": [
      "Global Messege:  Hi i am a Global Messege\n"
     ]
    }
   ],
   "source": [
    "yolo()"
   ]
  },
  {
   "cell_type": "code",
   "execution_count": 50,
   "metadata": {},
   "outputs": [
    {
     "name": "stdout",
     "output_type": "stream",
     "text": [
      "Previous Messege:  Hi i am a Global Messege\n",
      "New Messege: Pytho i can do it\n"
     ]
    }
   ],
   "source": [
    "yolo2()"
   ]
  },
  {
   "cell_type": "code",
   "execution_count": 52,
   "metadata": {},
   "outputs": [],
   "source": [
    "def fact(num):\n",
    "    if num == 1 :\n",
    "        return 1\n",
    "    return num*fact(num-1) #5x4x3x2xfact(1)=120"
   ]
  },
  {
   "cell_type": "code",
   "execution_count": 54,
   "metadata": {},
   "outputs": [
    {
     "name": "stdout",
     "output_type": "stream",
     "text": [
      "120\n"
     ]
    }
   ],
   "source": [
    "print(fact(5))"
   ]
  },
  {
   "cell_type": "code",
   "execution_count": 10,
   "metadata": {},
   "outputs": [],
   "source": [
    "#prime number through Recurrsion\n",
    "from math import sqrt\n",
    "def prime(num,i=2):\n",
    "    if i <= round(sqrt(num)) :\n",
    "        if num % i == 0:\n",
    "            return False\n",
    "    else:\n",
    "        return True\n",
    "    return prime(num,i+1)    "
   ]
  },
  {
   "cell_type": "code",
   "execution_count": 11,
   "metadata": {},
   "outputs": [
    {
     "data": {
      "text/plain": [
       "False"
      ]
     },
     "execution_count": 11,
     "metadata": {},
     "output_type": "execute_result"
    }
   ],
   "source": [
    "prime(121)"
   ]
  },
  {
   "cell_type": "code",
   "execution_count": 33,
   "metadata": {},
   "outputs": [],
   "source": [
    "#Magic Functions in Python\n",
    "#lambda =  Anonmymus Function or Inline Function\n",
    "#Map = (function,Sequence)\n",
    "#Filter = only need true & false for function else i wont store the value\n",
    "#Reduce = it only gives you single output from all"
   ]
  },
  {
   "cell_type": "code",
   "execution_count": 14,
   "metadata": {},
   "outputs": [
    {
     "data": {
      "text/plain": [
       "11"
      ]
     },
     "execution_count": 14,
     "metadata": {},
     "output_type": "execute_result"
    }
   ],
   "source": [
    "#labda function exapmple\n",
    "add = lambda x,y : x+y\n",
    "add(5,6)"
   ]
  },
  {
   "cell_type": "code",
   "execution_count": 23,
   "metadata": {},
   "outputs": [
    {
     "data": {
      "text/plain": [
       "125"
      ]
     },
     "execution_count": 23,
     "metadata": {},
     "output_type": "execute_result"
    }
   ],
   "source": [
    "power = lambda x,p : x**p\n",
    "power(5,3)"
   ]
  },
  {
   "cell_type": "code",
   "execution_count": 21,
   "metadata": {},
   "outputs": [
    {
     "data": {
      "text/plain": [
       "False"
      ]
     },
     "execution_count": 21,
     "metadata": {},
     "output_type": "execute_result"
    }
   ],
   "source": [
    "even_odd = lambda x:False if x % 2 else True\n",
    "even_odd(5)"
   ]
  },
  {
   "cell_type": "code",
   "execution_count": 22,
   "metadata": {},
   "outputs": [
    {
     "data": {
      "text/plain": [
       "True"
      ]
     },
     "execution_count": 22,
     "metadata": {},
     "output_type": "execute_result"
    }
   ],
   "source": [
    "even_odd(12)"
   ]
  },
  {
   "cell_type": "code",
   "execution_count": 22,
   "metadata": {},
   "outputs": [
    {
     "data": {
      "text/plain": [
       "120"
      ]
     },
     "execution_count": 22,
     "metadata": {},
     "output_type": "execute_result"
    }
   ],
   "source": [
    "fact = lambda x:1 if x == 1 else x*fact(x-1)\n",
    "fact(5)"
   ]
  },
  {
   "cell_type": "code",
   "execution_count": null,
   "metadata": {},
   "outputs": [],
   "source": [
    "#prime program using lambda\n",
    "prime = lambda "
   ]
  },
  {
   "cell_type": "code",
   "execution_count": 24,
   "metadata": {},
   "outputs": [
    {
     "name": "stdout",
     "output_type": "stream",
     "text": [
      "[1, 2, 3, 4, 5, 6, 7, 8, 9, 10, 11, 12, 13, 14, 15, 16, 17, 18, 19, 20]\n"
     ]
    }
   ],
   "source": [
    "#list example using range\n",
    "l = [var for var in range(1,21)]\n",
    "print(l)"
   ]
  },
  {
   "cell_type": "code",
   "execution_count": 26,
   "metadata": {},
   "outputs": [],
   "source": [
    "#Map function example\n",
    "def fx(x,y):\n",
    "    return x*y"
   ]
  },
  {
   "cell_type": "code",
   "execution_count": 27,
   "metadata": {},
   "outputs": [],
   "source": [
    "x =[5.5,4.5,5.10,6,6.2,4.8,5.2]\n",
    "f = [10,15,20,3,5,25,30]"
   ]
  },
  {
   "cell_type": "code",
   "execution_count": 28,
   "metadata": {},
   "outputs": [],
   "source": [
    "r = map(fx,x,f)"
   ]
  },
  {
   "cell_type": "code",
   "execution_count": 29,
   "metadata": {},
   "outputs": [
    {
     "name": "stdout",
     "output_type": "stream",
     "text": [
      "5.087962962962963\n"
     ]
    }
   ],
   "source": [
    "s_fx=sum(r)\n",
    "s_f=sum(f)\n",
    "mean = s_fx / s_f\n",
    "print(mean)"
   ]
  },
  {
   "cell_type": "code",
   "execution_count": 31,
   "metadata": {},
   "outputs": [
    {
     "name": "stdout",
     "output_type": "stream",
     "text": [
      "[70 84 60 82 77 58 68 59 56 50 45 51 69 82 82 81 82 62 66 49 48 84 59 54\n",
      " 45 78 45 52 49 57 70 47 65 84 64 59 49 50 84 49 58 81 71 76 48 75 63 79\n",
      " 64 71]\n"
     ]
    }
   ],
   "source": [
    "#Filter function example\n",
    "import numpy as np\n",
    "x = np.random.randint(45,85,50)\n",
    "print(x)"
   ]
  },
  {
   "cell_type": "code",
   "execution_count": 32,
   "metadata": {},
   "outputs": [
    {
     "name": "stdout",
     "output_type": "stream",
     "text": [
      "[True, True, True, True, False, True, True, False, True, True, False, False, False, True, True, False, True, True, True, False, True, True, False, True, False, True, False, True, False, False, True, False, False, True, True, False, False, True, True, False, True, False, False, True, True, False, False, False, True, False]\n"
     ]
    }
   ],
   "source": [
    "r = list(map(lambda x:True if x % 2 == 0 else False,x))\n",
    "print(r)"
   ]
  },
  {
   "cell_type": "code",
   "execution_count": 34,
   "metadata": {},
   "outputs": [
    {
     "name": "stdout",
     "output_type": "stream",
     "text": [
      "[59, 59, 47, 59, 71, 79, 71]\n"
     ]
    }
   ],
   "source": [
    "r = list(filter(prime,x))\n",
    "print(r)"
   ]
  },
  {
   "cell_type": "code",
   "execution_count": 38,
   "metadata": {},
   "outputs": [
    {
     "name": "stdout",
     "output_type": "stream",
     "text": [
      "445\n"
     ]
    }
   ],
   "source": [
    "#Reduce Function example\n",
    "from functools import reduce\n",
    "r = reduce(lambda x,y: x+y,filter(prime,x))\n",
    "print(r)"
   ]
  },
  {
   "cell_type": "code",
   "execution_count": 39,
   "metadata": {},
   "outputs": [
    {
     "name": "stdout",
     "output_type": "stream",
     "text": [
      "3211\n"
     ]
    }
   ],
   "source": [
    "print(sum(x))"
   ]
  },
  {
   "cell_type": "code",
   "execution_count": 2,
   "metadata": {},
   "outputs": [
    {
     "name": "stdout",
     "output_type": "stream",
     "text": [
      "133245\n"
     ]
    }
   ],
   "source": [
    "x = input()"
   ]
  },
  {
   "cell_type": "code",
   "execution_count": 3,
   "metadata": {},
   "outputs": [
    {
     "data": {
      "text/plain": [
       "str"
      ]
     },
     "execution_count": 3,
     "metadata": {},
     "output_type": "execute_result"
    }
   ],
   "source": [
    "type(x)"
   ]
  },
  {
   "cell_type": "code",
   "execution_count": 4,
   "metadata": {},
   "outputs": [],
   "source": [
    "y = x.split()"
   ]
  },
  {
   "cell_type": "code",
   "execution_count": 5,
   "metadata": {},
   "outputs": [
    {
     "data": {
      "text/plain": [
       "['133245']"
      ]
     },
     "execution_count": 5,
     "metadata": {},
     "output_type": "execute_result"
    }
   ],
   "source": [
    "y"
   ]
  },
  {
   "cell_type": "code",
   "execution_count": 6,
   "metadata": {},
   "outputs": [],
   "source": [
    "z = list(map(int,y))"
   ]
  },
  {
   "cell_type": "code",
   "execution_count": 7,
   "metadata": {},
   "outputs": [
    {
     "data": {
      "text/plain": [
       "[133245]"
      ]
     },
     "execution_count": 7,
     "metadata": {},
     "output_type": "execute_result"
    }
   ],
   "source": [
    "z"
   ]
  },
  {
   "cell_type": "code",
   "execution_count": 9,
   "metadata": {},
   "outputs": [
    {
     "name": "stdout",
     "output_type": "stream",
     "text": [
      "1,2,3,4,5,6,7,8,9\n"
     ]
    },
    {
     "data": {
      "text/plain": [
       "[1, 2, 3, 4, 5, 6, 7, 8, 9]"
      ]
     },
     "execution_count": 9,
     "metadata": {},
     "output_type": "execute_result"
    }
   ],
   "source": [
    "x = list(map(int,input().split(\",\")))\n",
    "x"
   ]
  },
  {
   "cell_type": "code",
   "execution_count": 10,
   "metadata": {},
   "outputs": [
    {
     "data": {
      "text/plain": [
       "136"
      ]
     },
     "execution_count": 10,
     "metadata": {},
     "output_type": "execute_result"
    }
   ],
   "source": [
    "x.__sizeof__()"
   ]
  },
  {
   "cell_type": "code",
   "execution_count": 12,
   "metadata": {},
   "outputs": [
    {
     "data": {
      "text/plain": [
       "48"
      ]
     },
     "execution_count": 12,
     "metadata": {},
     "output_type": "execute_result"
    }
   ],
   "source": [
    "y = range(1,9)\n",
    "y.__sizeof__()"
   ]
  },
  {
   "cell_type": "code",
   "execution_count": 13,
   "metadata": {},
   "outputs": [
    {
     "data": {
      "text/plain": [
       "range(1, 9)"
      ]
     },
     "execution_count": 13,
     "metadata": {},
     "output_type": "execute_result"
    }
   ],
   "source": [
    "y"
   ]
  },
  {
   "cell_type": "code",
   "execution_count": 14,
   "metadata": {},
   "outputs": [
    {
     "data": {
      "text/plain": [
       "[1, 2, 3, 4, 5, 6, 7, 8, 9]"
      ]
     },
     "execution_count": 14,
     "metadata": {},
     "output_type": "execute_result"
    }
   ],
   "source": [
    "x"
   ]
  },
  {
   "cell_type": "code",
   "execution_count": 15,
   "metadata": {},
   "outputs": [],
   "source": [
    "y = iter(y)"
   ]
  },
  {
   "cell_type": "code",
   "execution_count": 18,
   "metadata": {},
   "outputs": [
    {
     "data": {
      "text/plain": [
       "3"
      ]
     },
     "execution_count": 18,
     "metadata": {},
     "output_type": "execute_result"
    }
   ],
   "source": [
    "next(y)"
   ]
  },
  {
   "cell_type": "code",
   "execution_count": 20,
   "metadata": {},
   "outputs": [
    {
     "data": {
      "text/plain": [
       "[4, 5, 6, 7, 8]"
      ]
     },
     "execution_count": 20,
     "metadata": {},
     "output_type": "execute_result"
    }
   ],
   "source": [
    "list(y)"
   ]
  },
  {
   "cell_type": "code",
   "execution_count": 24,
   "metadata": {},
   "outputs": [
    {
     "name": "stdout",
     "output_type": "stream",
     "text": [
      "[False, True, False, True, False, True, False, True, False]\n",
      "[1, 2, 3, 4, 5, 6, 7, 8, 9]\n"
     ]
    }
   ],
   "source": [
    "k =list(map(even_odd,x))\n",
    "print(k)\n",
    "print(x)"
   ]
  },
  {
   "cell_type": "code",
   "execution_count": 26,
   "metadata": {},
   "outputs": [
    {
     "name": "stdout",
     "output_type": "stream",
     "text": [
      "[2, 4, 6, 8]\n"
     ]
    }
   ],
   "source": [
    "r = list(filter(even_odd,x))\n",
    "print(r)"
   ]
  },
  {
   "cell_type": "code",
   "execution_count": 27,
   "metadata": {},
   "outputs": [
    {
     "data": {
      "text/plain": [
       "45"
      ]
     },
     "execution_count": 27,
     "metadata": {},
     "output_type": "execute_result"
    }
   ],
   "source": [
    "from functools import reduce\n",
    "p = reduce(lambda m,n:m+n,x)\n",
    "p"
   ]
  },
  {
   "cell_type": "code",
   "execution_count": null,
   "metadata": {},
   "outputs": [],
   "source": []
  }
 ],
 "metadata": {
  "kernelspec": {
   "display_name": "Python 3",
   "language": "python",
   "name": "python3"
  },
  "language_info": {
   "codemirror_mode": {
    "name": "ipython",
    "version": 3
   },
   "file_extension": ".py",
   "mimetype": "text/x-python",
   "name": "python",
   "nbconvert_exporter": "python",
   "pygments_lexer": "ipython3",
   "version": "3.6.5"
  }
 },
 "nbformat": 4,
 "nbformat_minor": 2
}
