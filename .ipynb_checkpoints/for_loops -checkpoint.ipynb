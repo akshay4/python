{
 "cells": [
  {
   "cell_type": "markdown",
   "metadata": {},
   "source": [
    "# For Loops"
   ]
  },
  {
   "cell_type": "code",
   "execution_count": null,
   "metadata": {},
   "outputs": [],
   "source": [
    "#sequence\n",
    "list\n",
    "tuple\n",
    "#iterator\n",
    "#values are lost after it is used or take out form an iterator , can't be accessed again\n",
    "#they are stoped using stop itor function\n",
    "iter\n"
   ]
  },
  {
   "cell_type": "code",
   "execution_count": 4,
   "metadata": {},
   "outputs": [
    {
     "name": "stdout",
     "output_type": "stream",
     "text": [
      "Hell0 World\n",
      "dlroW 0lleH\n",
      "Hel\n"
     ]
    }
   ],
   "source": [
    "s = 'Hell0 World'\n",
    "print(s[:])\n",
    "print(s[::-1])\n",
    "print(s[:3])"
   ]
  },
  {
   "cell_type": "code",
   "execution_count": 8,
   "metadata": {},
   "outputs": [
    {
     "name": "stdout",
     "output_type": "stream",
     "text": [
      "<str_iterator object at 0x000001E2BFC557B8>\n"
     ]
    },
    {
     "data": {
      "text/plain": [
       "'y'"
      ]
     },
     "execution_count": 8,
     "metadata": {},
     "output_type": "execute_result"
    }
   ],
   "source": [
    "s = 'yolo world'\n",
    "s = iter(s)\n",
    "print(s)\n",
    "next(s)"
   ]
  },
  {
   "cell_type": "code",
   "execution_count": 9,
   "metadata": {},
   "outputs": [
    {
     "data": {
      "text/plain": [
       "'o'"
      ]
     },
     "execution_count": 9,
     "metadata": {},
     "output_type": "execute_result"
    }
   ],
   "source": [
    "next(s)"
   ]
  },
  {
   "cell_type": "code",
   "execution_count": 10,
   "metadata": {},
   "outputs": [
    {
     "data": {
      "text/plain": [
       "'l'"
      ]
     },
     "execution_count": 10,
     "metadata": {},
     "output_type": "execute_result"
    }
   ],
   "source": [
    "next(s)"
   ]
  },
  {
   "cell_type": "code",
   "execution_count": 11,
   "metadata": {},
   "outputs": [
    {
     "data": {
      "text/plain": [
       "'o'"
      ]
     },
     "execution_count": 11,
     "metadata": {},
     "output_type": "execute_result"
    }
   ],
   "source": [
    "next(s)"
   ]
  },
  {
   "cell_type": "code",
   "execution_count": 17,
   "metadata": {},
   "outputs": [
    {
     "name": "stdout",
     "output_type": "stream",
     "text": [
      "h\n",
      "e\n",
      "l\n",
      "l\n",
      "o\n",
      "N\n",
      "i\n",
      "g\n",
      "g\n",
      "a\n"
     ]
    }
   ],
   "source": [
    "#for loop example\n",
    "s = \"hello\"\n",
    "for x in s:\n",
    "    print(x)\n",
    "for y in \"Nigga\":\n",
    "    print(y)"
   ]
  },
  {
   "cell_type": "code",
   "execution_count": 18,
   "metadata": {},
   "outputs": [
    {
     "name": "stdout",
     "output_type": "stream",
     "text": [
      "hello\n",
      "yo\n",
      "1\n",
      "2\n",
      "3\n",
      "5\n",
      "4\n",
      "['nigger', 'yolo']\n",
      "123\n",
      "456\n",
      "789\n"
     ]
    }
   ],
   "source": [
    "l = ['hello','yo',1,2,3,5,4,['nigger','yolo'],123,456,789]\n",
    "for g in l:\n",
    "    print(g)"
   ]
  },
  {
   "cell_type": "code",
   "execution_count": 22,
   "metadata": {},
   "outputs": [
    {
     "name": "stdout",
     "output_type": "stream",
     "text": [
      "enter the value: 5\n",
      "5 x 1 = 5\n",
      "5 x 2 = 10\n",
      "5 x 3 = 15\n",
      "5 x 4 = 20\n",
      "5 x 5 = 25\n",
      "5 x 6 = 30\n",
      "5 x 7 = 35\n",
      "5 x 8 = 40\n",
      "5 x 9 = 45\n",
      "5 x 10 = 50\n"
     ]
    }
   ],
   "source": [
    "#table using for loop\n",
    "num = int(input(\"enter the value: \"))\n",
    "t = [1,2,3,4,5,6,7,8,9,10]\n",
    "for n in t:\n",
    "    print(num,\"x\",n,\"=\",num*n)"
   ]
  },
  {
   "cell_type": "code",
   "execution_count": 28,
   "metadata": {},
   "outputs": [
    {
     "name": "stdout",
     "output_type": "stream",
     "text": [
      "name = python\n",
      "version = 3.6\n",
      "father = GG boi\n",
      "named on = monty python\n",
      "type = iterpretor\n"
     ]
    }
   ],
   "source": [
    "#example for 2 using Dictonary\n",
    "d = {'name': 'python',\n",
    "    'version': '3.6',\n",
    "    \"father\" : \"GG boi\",\n",
    "     \"named on\": \"monty python\",\n",
    "    \"type\": \"oops\",\n",
    "    'type': 'iterpretor'}\n",
    "for var in d :\n",
    "    print(var,\"=\",d[var])"
   ]
  },
  {
   "cell_type": "code",
   "execution_count": 32,
   "metadata": {},
   "outputs": [
    {
     "name": "stdout",
     "output_type": "stream",
     "text": [
      "1\n",
      "2\n",
      "3\n",
      "4\n",
      "5\n",
      "gg\n",
      "hello\n",
      "hi\n",
      "lol\n",
      "56\n",
      "89\n",
      "bye\n"
     ]
    }
   ],
   "source": [
    "s = {'hello','hi',1,2,3,4,5,'bye','gg','lol',56,89}\n",
    "for var in s:\n",
    "    print(var)"
   ]
  },
  {
   "cell_type": "code",
   "execution_count": 38,
   "metadata": {},
   "outputs": [
    {
     "name": "stdout",
     "output_type": "stream",
     "text": [
      "Iteration:  0\n",
      "value:  1\n",
      "value:  2\n",
      "\n",
      "\n",
      "Iteration:  1\n",
      "value:  hello\n",
      "value:  hi\n",
      "\n",
      "\n",
      "Iteration:  2\n",
      "value:  how\n",
      "value:  are you\n",
      "\n",
      "\n",
      "Iteration:  3\n",
      "value:  3\n",
      "value:  4\n",
      "\n",
      "\n",
      "Iteration:  4\n",
      "value:  9\n",
      "value:  0\n",
      "\n",
      "\n",
      "Iteration:  5\n",
      "value:  java\n",
      "value:  python\n",
      "\n",
      "\n",
      "Iteration:  6\n",
      "value:  gg\n",
      "value:  pota\n",
      "\n",
      "\n"
     ]
    }
   ],
   "source": [
    "l = [(1,2),(\"hello\",\"hi\"),(\"how\",\"are you\"),(3,4),(9,0),('java',\"python\"),['gg','pota']] #sequence size must be same like if there are only 2 values the all much be 2 values in the bracketes\n",
    "c = 0\n",
    "for var1,var2 in l:\n",
    "    print(\"Iteration: \",c)\n",
    "    print(\"value: \",var1)\n",
    "    print(\"value: \",var2)\n",
    "    print(\"\\n\")\n",
    "    c = c + 1"
   ]
  },
  {
   "cell_type": "code",
   "execution_count": 41,
   "metadata": {},
   "outputs": [
    {
     "name": "stdout",
     "output_type": "stream",
     "text": [
      "name = python\n",
      "version = 3.6\n",
      "father = GG boi\n",
      "named on = monty python\n",
      "type = iterpretor\n"
     ]
    }
   ],
   "source": [
    "d = {'name': 'python',\n",
    "    'version': '3.6',\n",
    "    \"father\" : \"GG boi\",\n",
    "     \"named on\": \"monty python\",\n",
    "    \"type\": \"oops\",\n",
    "    'type': 'iterpretor'}\n",
    "for key,value in d.items() :\n",
    "    print(\"{} = {}\".format(key,value))"
   ]
  },
  {
   "cell_type": "code",
   "execution_count": 45,
   "metadata": {},
   "outputs": [
    {
     "name": "stdout",
     "output_type": "stream",
     "text": [
      "(1, 11)\n",
      "(2, 22)\n",
      "(3, 33)\n",
      "(4, 44)\n",
      "(5, 55)\n",
      "(6, 66)\n",
      "(7, 77)\n",
      "(8, 88)\n",
      "(9, 99)\n",
      "(10, 100)\n"
     ]
    }
   ],
   "source": [
    "#comparing list while printing them togeter but length must be same\n",
    "l1 = [1,2,3,4,5,6,7,8,9,10]\n",
    "l2 = [11,22,33,44,55,66,77,88,99,100]\n",
    "for x in zip(l1,l2):\n",
    "    print(x)"
   ]
  },
  {
   "cell_type": "code",
   "execution_count": 47,
   "metadata": {},
   "outputs": [
    {
     "name": "stdout",
     "output_type": "stream",
     "text": [
      "[1, 11]\n",
      "[2, 22]\n",
      "[3, 33]\n",
      "[4, 44]\n",
      "[5, 55]\n",
      "[6, 66]\n",
      "[7, 77]\n",
      "[8, 88]\n",
      "[9, 99]\n",
      "[10, 100]\n"
     ]
    }
   ],
   "source": [
    "l1 = [1,2,3,4,5,6,7,8,9,10]\n",
    "l2 = [11,22,33,44,55,66,77,88,99,100]\n",
    "for x in zip(l1,l2):\n",
    "    k = list(x)\n",
    "    print(k)"
   ]
  },
  {
   "cell_type": "code",
   "execution_count": 48,
   "metadata": {},
   "outputs": [
    {
     "name": "stdout",
     "output_type": "stream",
     "text": [
      "value 1:  1\n",
      "value 2: 11\n",
      "\t\n",
      "value 1:  2\n",
      "value 2: 22\n",
      "\t\n",
      "value 1:  3\n",
      "value 2: 33\n",
      "\t\n",
      "value 1:  4\n",
      "value 2: 44\n",
      "\t\n",
      "value 1:  5\n",
      "value 2: 55\n",
      "\t\n",
      "value 1:  6\n",
      "value 2: 66\n",
      "\t\n",
      "value 1:  7\n",
      "value 2: 77\n",
      "\t\n",
      "value 1:  8\n",
      "value 2: 88\n",
      "\t\n",
      "value 1:  9\n",
      "value 2: 99\n",
      "\t\n",
      "value 1:  10\n",
      "value 2: 100\n",
      "\t\n"
     ]
    }
   ],
   "source": [
    "l1 = [1,2,3,4,5,6,7,8,9,10]\n",
    "l2 = [11,22,33,44,55,66,77,88,99,100]\n",
    "for x,y in zip(l1,l2):\n",
    "    print(\"value 1: \",x)\n",
    "    print(\"value 2:\",y)\n",
    "    print(\"\\t\")"
   ]
  },
  {
   "cell_type": "code",
   "execution_count": null,
   "metadata": {},
   "outputs": [],
   "source": [
    "x = input(\"Enter the key: \").split(',')\n",
    "y = input(\"Enter the value: \").split(',')\n",
    "v1 = dict(zip(x,y))\n",
    "print(\"Dictonary:\",v1)"
   ]
  },
  {
   "cell_type": "code",
   "execution_count": null,
   "metadata": {},
   "outputs": [],
   "source": []
  }
 ],
 "metadata": {
  "kernelspec": {
   "display_name": "Python 3",
   "language": "python",
   "name": "python3"
  },
  "language_info": {
   "codemirror_mode": {
    "name": "ipython",
    "version": 3
   },
   "file_extension": ".py",
   "mimetype": "text/x-python",
   "name": "python",
   "nbconvert_exporter": "python",
   "pygments_lexer": "ipython3",
   "version": "3.6.5"
  }
 },
 "nbformat": 4,
 "nbformat_minor": 2
}
