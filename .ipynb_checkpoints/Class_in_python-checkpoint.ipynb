{
 "cells": [
  {
   "cell_type": "markdown",
   "metadata": {},
   "source": [
    "# Class in Python"
   ]
  },
  {
   "cell_type": "markdown",
   "metadata": {},
   "source": [
    "OOPS common concepts\n",
    "\n",
    "    1.Encapsulation\n",
    "    2.Abstraction\n",
    "    3.Data Hiding / information Hiding\n",
    "    4.Inheritence\n",
    "    5.Polymorphism\n",
    "    6.Messege Passing\n",
    "    7.Dynamic Binding\n",
    "    8.Class\n",
    "    9.Objects"
   ]
  },
  {
   "cell_type": "markdown",
   "metadata": {},
   "source": [
    "multipal inheritence in java causes this and to solve abmiquity in java we suse MRO - Method Resoluton Order "
   ]
  },
  {
   "cell_type": "code",
   "execution_count": 4,
   "metadata": {},
   "outputs": [],
   "source": [
    "#example\n",
    "class robot :\n",
    "    \"\"\"Robot class is used to print details and shows working of objects\"\"\" #docstring of this class\n",
    "    pass"
   ]
  },
  {
   "cell_type": "code",
   "execution_count": 7,
   "metadata": {},
   "outputs": [
    {
     "name": "stdout",
     "output_type": "stream",
     "text": [
      "<class 'type'>\n"
     ]
    }
   ],
   "source": [
    "print(type(robot))"
   ]
  },
  {
   "cell_type": "code",
   "execution_count": 8,
   "metadata": {},
   "outputs": [
    {
     "name": "stdout",
     "output_type": "stream",
     "text": [
      "<class '__main__.robot'>\n"
     ]
    }
   ],
   "source": [
    "r1 = robot()\n",
    "print(type(r1))"
   ]
  },
  {
   "cell_type": "markdown",
   "metadata": {},
   "source": [
    "# to make a package in python\n",
    "    use command __init__.py to define what to use in the packagae\n",
    "\n",
    "    example:\n",
    "        from math import sqrt\n",
    "        from .hello import hello --> . before module name signifies the current path to import them from current folder insted of home folder of python\n",
    "        from .comman import even_odd, prime, pat\n",
    "    "
   ]
  },
  {
   "cell_type": "code",
   "execution_count": 9,
   "metadata": {},
   "outputs": [
    {
     "data": {
      "text/plain": [
       "'Robot class is used to print details and shows working of objects'"
      ]
     },
     "execution_count": 9,
     "metadata": {},
     "output_type": "execute_result"
    }
   ],
   "source": [
    "r1.__doc__"
   ]
  },
  {
   "cell_type": "code",
   "execution_count": 10,
   "metadata": {},
   "outputs": [],
   "source": [
    "class Akshay:\n",
    "    \"\"\"Doc string your Akshay class\"\"\"\n",
    "    def show(self): #it is the self memory allocation of the currernt class\n",
    "        print(\"hi this is Akshay but right now he is a robot\")        "
   ]
  },
  {
   "cell_type": "code",
   "execution_count": 13,
   "metadata": {},
   "outputs": [],
   "source": [
    "a1 = Akshay()\n",
    "a2 = Akshay()"
   ]
  },
  {
   "cell_type": "code",
   "execution_count": 14,
   "metadata": {},
   "outputs": [
    {
     "name": "stdout",
     "output_type": "stream",
     "text": [
      "hi this is Akshay but right now he is a robot\n",
      "hi this is Akshay but right now he is a robot\n"
     ]
    }
   ],
   "source": [
    "a1.show()\n",
    "a2.show()"
   ]
  },
  {
   "cell_type": "code",
   "execution_count": 16,
   "metadata": {},
   "outputs": [],
   "source": [
    "a1.name = 'yolo this is class akshay'"
   ]
  },
  {
   "cell_type": "code",
   "execution_count": 18,
   "metadata": {},
   "outputs": [
    {
     "data": {
      "text/plain": [
       "'yolo this is class akshay'"
      ]
     },
     "execution_count": 18,
     "metadata": {},
     "output_type": "execute_result"
    }
   ],
   "source": [
    "a1.name #will return name of the class if defined else will return error \"object has no attribut name\""
   ]
  },
  {
   "cell_type": "code",
   "execution_count": 30,
   "metadata": {},
   "outputs": [],
   "source": [
    "class robot :\n",
    "    def __init__(self,x,y,z,p) : #to initialize the constructor in python to allocate attributes while object creation\n",
    "        self.name = x\n",
    "        self.height = y\n",
    "        self.weight = z\n",
    "        self.color = p\n",
    "    def show(self) :\n",
    "        print(\"Name : \",self.name)\n",
    "        print(\"Height : \",self.height)\n",
    "        print(\"Weight : \",self.weight)\n",
    "        print(\"Color : \",self.color)\n"
   ]
  },
  {
   "cell_type": "code",
   "execution_count": 31,
   "metadata": {},
   "outputs": [],
   "source": [
    "robot1 = robot('robot1',6.1,67,\"Brown\")\n",
    "robot2 = robot(\"robot2\",5.5,75,'White')\n",
    "robot3 = robot(\"robot3\",5.11,63,'Black')"
   ]
  },
  {
   "cell_type": "code",
   "execution_count": 32,
   "metadata": {},
   "outputs": [
    {
     "name": "stdout",
     "output_type": "stream",
     "text": [
      "Name :  robot1\n",
      "Height :  6.1\n",
      "Weight :  67\n",
      "Color :  Brown\n"
     ]
    }
   ],
   "source": [
    "robot1.show()"
   ]
  },
  {
   "cell_type": "code",
   "execution_count": 33,
   "metadata": {},
   "outputs": [
    {
     "name": "stdout",
     "output_type": "stream",
     "text": [
      "Name :  robot2\n",
      "Height :  5.5\n",
      "Weight :  75\n",
      "Color :  White\n"
     ]
    }
   ],
   "source": [
    "robot2.show()"
   ]
  },
  {
   "cell_type": "code",
   "execution_count": 34,
   "metadata": {},
   "outputs": [
    {
     "name": "stdout",
     "output_type": "stream",
     "text": [
      "Name :  robot3\n",
      "Height :  5.11\n",
      "Weight :  63\n",
      "Color :  Black\n"
     ]
    }
   ],
   "source": [
    "robot3.show()"
   ]
  },
  {
   "cell_type": "code",
   "execution_count": null,
   "metadata": {},
   "outputs": [],
   "source": []
  }
 ],
 "metadata": {
  "kernelspec": {
   "display_name": "Python 3",
   "language": "python",
   "name": "python3"
  },
  "language_info": {
   "codemirror_mode": {
    "name": "ipython",
    "version": 3
   },
   "file_extension": ".py",
   "mimetype": "text/x-python",
   "name": "python",
   "nbconvert_exporter": "python",
   "pygments_lexer": "ipython3",
   "version": "3.6.5"
  }
 },
 "nbformat": 4,
 "nbformat_minor": 2
}
