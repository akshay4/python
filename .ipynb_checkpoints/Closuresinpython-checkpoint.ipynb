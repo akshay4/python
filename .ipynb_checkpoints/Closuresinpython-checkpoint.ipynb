{
 "cells": [
  {
   "cell_type": "markdown",
   "metadata": {},
   "source": [
    "# Closures in Python"
   ]
  },
  {
   "cell_type": "code",
   "execution_count": 5,
   "metadata": {},
   "outputs": [],
   "source": [
    "#Example\n",
    "def hello(x):\n",
    "    def hi():\n",
    "        print('Hello ,',x)\n",
    "    return hi"
   ]
  },
  {
   "cell_type": "code",
   "execution_count": 8,
   "metadata": {},
   "outputs": [
    {
     "name": "stdout",
     "output_type": "stream",
     "text": [
      "Hello , Akshay\n"
     ]
    }
   ],
   "source": [
    "k = hello('Akshay')\n",
    "k()"
   ]
  },
  {
   "cell_type": "code",
   "execution_count": 17,
   "metadata": {},
   "outputs": [],
   "source": [
    "#exmaple 2\n",
    "def hello(x):\n",
    "    def hi():\n",
    "        nonlocal x\n",
    "        x = 'hello , '+x\n",
    "        print(x)\n",
    "    return hi"
   ]
  },
  {
   "cell_type": "code",
   "execution_count": 18,
   "metadata": {},
   "outputs": [],
   "source": [
    "z = hello('Akshay')"
   ]
  },
  {
   "cell_type": "code",
   "execution_count": 19,
   "metadata": {},
   "outputs": [
    {
     "name": "stdout",
     "output_type": "stream",
     "text": [
      "hello , Akshay\n"
     ]
    }
   ],
   "source": [
    "z()"
   ]
  },
  {
   "cell_type": "code",
   "execution_count": 46,
   "metadata": {},
   "outputs": [],
   "source": [
    " def hello(myfun):\n",
    "        def hi(*name):\n",
    "            print(\"*\"*50)\n",
    "            myfun(*name)\n",
    "            print(\"*\"*(len(name)*3))\n",
    "        return hi"
   ]
  },
  {
   "cell_type": "code",
   "execution_count": 47,
   "metadata": {},
   "outputs": [],
   "source": [
    "def hey(var):\n",
    "    print(var.center(len(var*3)))"
   ]
  },
  {
   "cell_type": "code",
   "execution_count": 48,
   "metadata": {},
   "outputs": [
    {
     "name": "stdout",
     "output_type": "stream",
     "text": [
      "**************************************************\n",
      "                     Akshay Sing Shekhawat                     \n",
      "**************************************************\n"
     ]
    }
   ],
   "source": [
    "n_hi = hello(hey)\n",
    "n_hi('Akshay Sing Shekhawat')"
   ]
  },
  {
   "cell_type": "code",
   "execution_count": 49,
   "metadata": {},
   "outputs": [],
   "source": [
    "#decorator\n",
    "def decorate(oldfunc):\n",
    "    def worker(*name):\n",
    "        k = 50\n",
    "        print(\"-\"*k)\n",
    "        print()\n",
    "        oldfunc(*name)\n",
    "        print(\"-\"*k)\n",
    "        print()\n",
    "    return worker"
   ]
  },
  {
   "cell_type": "code",
   "execution_count": 50,
   "metadata": {},
   "outputs": [],
   "source": [
    "def oldfunc(var):\n",
    "    print()"
   ]
  },
  {
   "cell_type": "code",
   "execution_count": 51,
   "metadata": {},
   "outputs": [],
   "source": [
    "@decorate\n",
    "@hello\n",
    "def add(x,y):\n",
    "    print()\n",
    "    print(\"x =\",x)\n",
    "    print(\"Y =\",y)\n",
    "    print(\"{} + {} = {}\".format(x,y,x+y))\n",
    "    print()"
   ]
  },
  {
   "cell_type": "code",
   "execution_count": 52,
   "metadata": {},
   "outputs": [
    {
     "name": "stdout",
     "output_type": "stream",
     "text": [
      "--------------------------------------------------\n",
      "\n",
      "**************************************************\n",
      "\n",
      "x = 5\n",
      "Y = 5\n",
      "5 + 5 = 10\n",
      "\n",
      "**************************************************\n",
      "--------------------------------------------------\n",
      "\n"
     ]
    }
   ],
   "source": [
    "add(5,5)"
   ]
  },
  {
   "cell_type": "code",
   "execution_count": null,
   "metadata": {},
   "outputs": [],
   "source": []
  },
  {
   "cell_type": "code",
   "execution_count": null,
   "metadata": {},
   "outputs": [],
   "source": []
  }
 ],
 "metadata": {
  "kernelspec": {
   "display_name": "Python 3",
   "language": "python",
   "name": "python3"
  },
  "language_info": {
   "codemirror_mode": {
    "name": "ipython",
    "version": 3
   },
   "file_extension": ".py",
   "mimetype": "text/x-python",
   "name": "python",
   "nbconvert_exporter": "python",
   "pygments_lexer": "ipython3",
   "version": "3.6.5"
  }
 },
 "nbformat": 4,
 "nbformat_minor": 2
}
