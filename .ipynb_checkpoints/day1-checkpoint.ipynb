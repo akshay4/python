{
 "cells": [
  {
   "cell_type": "markdown",
   "metadata": {
    "_cell_guid": "21aa0e56-0f60-49e2-9cf8-6a035b492d9a",
    "_uuid": "06dbc1e66ffe3d2e7e776b5dff5026d0bd8b96c2"
   },
   "source": [
    "Welcome to day 1 of the Python Challenge! \n",
    "\n",
    "If you're here to learn Python, you've come to the right place.\n",
    "\n",
    "If you already have some Python experience, I hope I can teach you at least a few new tricks, or throw you a few challenging problems.\n",
    "\n",
    "If you're here to learn how to use Python for machine learning, data analysis, or visualization, then bad news: I won't be teaching any of that. Good news: we have [several tracks on Kaggle Learn](https://www.kaggle.com/learn/overview) for just that purpose. The goal of this challenge is to quickly cover the fundamentals of the language - which will hopefully stand you in good stead whether you use Python for deep learning, data cleaning, or cheating at Scrabble.\n",
    "\n",
    "Each day of the Python Challenge will consist of two parts:\n",
    "- A **tutorial** notebook explaining Python concepts and showing example code. That's where you are now.\n",
    "- An [**exercise**](https://www.kaggle.com/kernels/fork/969424) notebook with questions and coding problems to test your new knowledge.\n",
    "\n",
    "Today's tutorial includes a brief overview of Python syntax, variable assignment, and arithmetic operators. If you have previous Python experience, day 1 might not hold anything new for you, so feel free to [skip straight to the exercise](https://www.kaggle.com/kernels/fork/969424).\n",
    "\n",
    "> These lessons borrow and adapt some content from [A Whirlwind Tour of Python](https://www.kaggle.com/sohier/whirlwind-tour-of-python-index). Thanks to the author, Jake VanderPlas, for releasing it under a permissive license. If you're interested in a more thorough, theoretical grounding in Python, I encourage you to check out WTOP.\n"
   ]
  },
  {
   "cell_type": "markdown",
   "metadata": {
    "_cell_guid": "9ce15076-b27f-4137-81b9-4ab16a36d185",
    "_uuid": "ba2e1c598027d356ce00e85b044bc16b10035897"
   },
   "source": [
    "# Hello, Python!\n",
    "\n",
    "Python was named for the British comedy troupe [Monty Python](https://en.wikipedia.org/wiki/Monty_Python), so why not make our first Python program an homage to their famous [Spam](https://en.wikipedia.org/wiki/Spam_(Monty_Python%29) skit?\n",
    "\n",
    "<!-- todo: maybe a little side note on spam metasyntactic variables in Python -->\n",
    "\n",
    "Just for fun, try reading over the code below and predicting what it's going to do when run. (If you have no idea, that's fine!)\n",
    "\n",
    "Then click the \"output\" button to see the results of our program."
   ]
  },
  {
   "cell_type": "code",
   "execution_count": 1,
   "metadata": {
    "_cell_guid": "52070170-5c53-4220-9aef-26244ec71da2",
    "_kg_hide-output": true,
    "_uuid": "be8bd544a52eef68f7c11e376f96c28e1d537abd"
   },
   "outputs": [
    {
     "name": "stdout",
     "output_type": "stream",
     "text": [
      "0\n",
      "But I don't want ANY spam!\n",
      "Spam Spam Spam Spam \n"
     ]
    }
   ],
   "source": [
    "spam_amount = 0\n",
    "print(spam_amount)\n",
    "\n",
    "# Ordering Spam, egg, Spam, Spam, bacon and Spam (4 more servings of Spam)\n",
    "spam_amount = spam_amount + 4\n",
    "\n",
    "if spam_amount > 0:\n",
    "    print(\"But I don't want ANY spam!\")\n",
    "\n",
    "viking_song = \"Spam \" * spam_amount\n",
    "print(viking_song)"
   ]
  },
  {
   "cell_type": "markdown",
   "metadata": {
    "_cell_guid": "dcff0895-8f3a-4feb-9e67-f5f1b83cf5e0",
    "_uuid": "b9ebc311213062417a1f128c4f1ca853dcf7ee17"
   },
   "source": [
    "There's a lot to unpack here! This silly program demonstrates many important aspects of what Python code looks like (its *syntax*) and how it works (its *semantics*). Let's run down the code from top to bottom."
   ]
  },
  {
   "cell_type": "code",
   "execution_count": 6,
   "metadata": {
    "_cell_guid": "0df317cb-6aff-4d64-8726-9db88a291207",
    "_uuid": "5fe4a6a231db95c8f3edc79cb56242ea26daa019",
    "collapsed": true
   },
   "outputs": [],
   "source": [
    "spam_amount = 0"
   ]
  },
  {
   "cell_type": "markdown",
   "metadata": {
    "_cell_guid": "b2cfb028-9796-4f97-9863-66502c64f4fb",
    "_uuid": "fea0c7b8bda505fc112cf6749d47cf26887178e8"
   },
   "source": [
    "**Variable assignment!** Here we create a variable called `spam_amount` and assign it the value of 0 using `=`, Python's assignment operator.\n",
    "\n",
    "> **Aside**: If you've programmed in certain other languages (like Java or C++), you might be noticing some things Python *doesn't* require us to do here:  \n",
    "- we don't need to \"declare\" `spam_amount` before assigning to it\n",
    "- we don't need to tell Python what type of value `spam_amount` is going to refer to. In fact, we can even go on to reassign `spam_amount` to refer to a different sort of thing like a string or a boolean."
   ]
  },
  {
   "cell_type": "code",
   "execution_count": 7,
   "metadata": {
    "_cell_guid": "1e4d792c-e833-497c-853d-8ce70d8140d8",
    "_kg_hide-output": false,
    "_uuid": "d4069c9c149e2529a95583dc665e7a6b820d3a66",
    "collapsed": true
   },
   "outputs": [],
   "source": [
    "print(spam_amount)"
   ]
  },
  {
   "cell_type": "markdown",
   "metadata": {
    "_cell_guid": "dd2cf075-8d0b-4b15-b84f-1ce52a2aab36",
    "_uuid": "0020b50a574036ef4c46cfdcded407b2c9fc655b"
   },
   "source": [
    "A **function call**. `print` is an extremely useful builtin Python function that displays the value passed to it on the screen. We call functions by putting parentheses after their name, with the inputs to the function (or *arguments*) in between."
   ]
  },
  {
   "cell_type": "code",
   "execution_count": 8,
   "metadata": {
    "_cell_guid": "75b2b138-328b-4968-bbb8-6d8425a4f112",
    "_kg_hide-output": false,
    "_uuid": "a38344673ff5f5f6b5923123b70981fa290377c5",
    "collapsed": true
   },
   "outputs": [],
   "source": [
    "# Ordering Spam, egg, Spam, Spam, bacon and Spam (4 more servings of Spam)\n",
    "spam_amount = spam_amount + 4"
   ]
  },
  {
   "cell_type": "markdown",
   "metadata": {
    "_cell_guid": "4237c241-5a2f-4d01-a13f-82207fa7a962",
    "_uuid": "c8b5a9c2c8caf8325f03e0dd4421dc21926a7d9a"
   },
   "source": [
    "The first line above is a **comment**. In Python, comments begin with the `#` symbol.\n",
    "\n",
    "Next we see an example of reassignment. Reassigning the value of an existing variable looks just the same as creating a variable - it still uses the `=` assignment operator.\n",
    "\n",
    "In this case, the value we're assigning to `spam_amount` involves a little simple arithmetic on its previous value. When it encounters this line, Python evaluates the expression on the right-hand-side of the `=` (0 + 4 = 4), and then assigns that value to the variable on the left-hand-side."
   ]
  },
  {
   "cell_type": "code",
   "execution_count": 9,
   "metadata": {
    "_cell_guid": "dc17cbd7-7d36-414a-8459-c898bcf207c3",
    "_kg_hide-output": false,
    "_uuid": "5deb2a075a2815586ed08dbac633d1cde2a856f1",
    "collapsed": true
   },
   "outputs": [],
   "source": [
    "if spam_amount > 0:\n",
    "    print(\"But I don't want ANY spam!\")"
   ]
  },
  {
   "cell_type": "markdown",
   "metadata": {
    "_cell_guid": "3f62946e-12c9-44bd-baaf-03e044532e4f",
    "_uuid": "f6f1caff4343b7ea033d8907ac2d6255d3ad94ce"
   },
   "source": [
    "We won't talk much about conditionals until later, but, even if you've never coded before, you can probably guess what this does. Python is prized for its readability and the simplicity of its syntax (with some going as far as to call it \"executable pseudocode\"). \n",
    "\n",
    "Note how we indicated which code belongs to the `if`. `\"But I don't want ANY spam!\"` is only supposed to be printed if `spam_amount` is positive. But the later code (like `print(viking_song)`) should be executed no matter what. How do we (and Python) know that?\n",
    "\n",
    "The colon (`:`) at the end of the `if` line indicates that a new \"code block\" is coming up. Subsequent lines which are **indented** (beginning with an extra 4 spaces) are part of that code block. You may be familiar with other languages which use `{`curly braces`}` to mark the beginning and end of code blocks. Python's use of meaningful whitespace often is surprising to programmers who are accustomed to other languages, but in practice it can lead to more consistent and readable code than languages that do not enforce indentation of code blocks. \n",
    "\n",
    "The later lines dealing with `viking_song` are not indented with an extra 4 spaces, so they're not a part of the `if`'s code block. We'll see more examples of indented code blocks later when we start defining functions and using loops.\n",
    "\n",
    "This code snippet is also our first sighting of a **string** in Python:\n",
    "\n",
    "```python\n",
    "\"But I don't want ANY spam!\"\n",
    "```\n",
    "\n",
    "Strings can be marked either by double or single quotation marks. (But because this particular string *contains* a single-quote character, we might confuse Python by trying to surround it with single-quotes, unless we're careful.)"
   ]
  },
  {
   "cell_type": "code",
   "execution_count": 10,
   "metadata": {
    "_cell_guid": "8e82b428-cd56-490c-b179-e2105f148234",
    "_kg_hide-output": false,
    "_uuid": "a0b705e7b50076c66b46f0107c1da09aed75e16c",
    "collapsed": true
   },
   "outputs": [],
   "source": [
    "viking_song = \"Spam \" * spam_amount\n",
    "print(viking_song)"
   ]
  },
  {
   "cell_type": "markdown",
   "metadata": {
    "_cell_guid": "4d9d94a5-cf48-4a9c-a7ee-95771705f437",
    "_uuid": "06ac2979339fc354dd8516cb415df478dbc0f39e"
   },
   "source": [
    "The `*` operator can be used to multiply two numbers (`3 * 3` evaluates to 9), but amusingly enough, we can also multiply a string by a number, to get a version that's been repeated that many times. Python offers a number of cheeky little time-saving tricks like this where operators like `*` and `+` have a different meaning depending on what kind of thing they're applied to. (The technical term for this is [operator overloading](https://en.wikipedia.org/wiki/Operator_overloading))"
   ]
  },
  {
   "cell_type": "markdown",
   "metadata": {
    "_cell_guid": "e6b118a6-e48d-49df-a1a4-057b491fc4cd",
    "_uuid": "f85f510c139be123b34eade6c8160b6504f9a6aa"
   },
   "source": [
    "<hr>"
   ]
  },
  {
   "cell_type": "markdown",
   "metadata": {
    "_cell_guid": "98e43137-7d5a-4cb8-b50a-4d82fed09611",
    "_uuid": "fa8819c99468bcac800bcf9aba676c9144326bbe"
   },
   "source": [
    "## Numbers and arithmetic in Python\n",
    "\n",
    "We've already seen an example of a variable containing a number above:"
   ]
  },
  {
   "cell_type": "code",
   "execution_count": 11,
   "metadata": {
    "_cell_guid": "11303400-9cfc-457c-8f3d-14396249950d",
    "_uuid": "3a9652bcd4b7e1e8954660dbd8460eee4bec1418",
    "collapsed": true
   },
   "outputs": [],
   "source": [
    "spam_amount = 0"
   ]
  },
  {
   "cell_type": "markdown",
   "metadata": {
    "_cell_guid": "5f0f785f-a33c-46cf-aabc-6ec90405e61c",
    "_uuid": "f9fb15a463d119d1be9794048a40edaa18d4cfd7"
   },
   "source": [
    "\"Number\" is a fine informal name for the kind of thing, but if we wanted to be more technical, we could ask Python how it would describe the type of thing that `spam_amount` is:"
   ]
  },
  {
   "cell_type": "code",
   "execution_count": 12,
   "metadata": {
    "_cell_guid": "8671c786-7fa1-4ba4-9b48-8846696f6b49",
    "_uuid": "66c474ae6a8c06d8869332fc93f021b3442ecd0a",
    "collapsed": true
   },
   "outputs": [],
   "source": [
    "type(spam_amount)"
   ]
  },
  {
   "cell_type": "markdown",
   "metadata": {
    "_cell_guid": "5209fd83-ee61-496f-84e6-f498d85b50d7",
    "_uuid": "5fdf5571970def6289c27cffa4916b474aa58b75"
   },
   "source": [
    "It's an `int` - short for integer. There's another sort of number we commonly encounter in Python:"
   ]
  },
  {
   "cell_type": "code",
   "execution_count": 13,
   "metadata": {
    "_cell_guid": "6456334e-3038-4610-b4aa-538655bc76b8",
    "_uuid": "7d394557ce482d05a9b84d4f74d7d71809668c05",
    "collapsed": true
   },
   "outputs": [],
   "source": [
    "type(19.95)"
   ]
  },
  {
   "cell_type": "markdown",
   "metadata": {
    "_cell_guid": "a8f9b1e0-5862-4905-a9be-c3d804ff88c0",
    "_uuid": "92d8bcb751e439ca773c1f617f1af1c4e1d079d2"
   },
   "source": [
    "A `float` is a number with a decimal place - very useful for representing things like weights or proportions.\n",
    "\n",
    "`type()` is the second built-in function we've seen (after `print()`), and it's another good one to remember. It's very useful to be able to ask Python \"what kind of thing is this?\". "
   ]
  },
  {
   "cell_type": "markdown",
   "metadata": {
    "_cell_guid": "3db30775-d8ae-4515-9f8d-40a69535def1",
    "_uuid": "f4a243f21af9a73468daec3694af7af9223bd8ae"
   },
   "source": [
    "A natural thing to want to do with numbers is perform arithmetic. We've seen the `+` operator for addition, and the `*` operator for multiplication (of a sort). Python also has us covered for the rest of the basic buttons on your calculator:\n",
    "\n",
    "| Operator     | Name           | Description                                            |\n",
    "|--------------|----------------|--------------------------------------------------------|\n",
    "| ``a + b``    | Addition       | Sum of ``a`` and ``b``                                 |\n",
    "| ``a - b``    | Subtraction    | Difference of ``a`` and ``b``                          |\n",
    "| ``a * b``    | Multiplication | Product of ``a`` and ``b``                             |\n",
    "| ``a / b``    | True division  | Quotient of ``a`` and ``b``                            |\n",
    "| ``a // b``   | Floor division | Quotient of ``a`` and ``b``, removing fractional parts |\n",
    "| ``a % b``    | Modulus        | Integer remainder after division of ``a`` by ``b``     |\n",
    "| ``a ** b``   | Exponentiation | ``a`` raised to the power of ``b``                     |\n",
    "| ``-a``       | Negation       | The negative of ``a``                                  |\n",
    "\n",
    "<span style=\"display:none\">hack</span>\n",
    "\n",
    "One interesting observation here is that, whereas your calculator probably just has one button for division, Python can do two kinds. \"True division\" is basically what your calculator does:"
   ]
  },
  {
   "cell_type": "code",
   "execution_count": 14,
   "metadata": {
    "_cell_guid": "db0e7dad-9754-4aaf-b629-0dfcc264cf7d",
    "_uuid": "974497e26cf49f519d208d5f9814eb44419ff370",
    "collapsed": true
   },
   "outputs": [],
   "source": [
    "print(5 / 2)\n",
    "print(6 / 2)"
   ]
  },
  {
   "cell_type": "markdown",
   "metadata": {
    "_cell_guid": "f8749590-161f-4d06-a796-6bbf13397eab",
    "_uuid": "250510f56a14a24d04bb2e8e6c5549bd0892ecfc"
   },
   "source": [
    "It always gives us a `float`. \n",
    "\n",
    "The `//` operator gives us a result that's rounded down to the next integer."
   ]
  },
  {
   "cell_type": "code",
   "execution_count": 15,
   "metadata": {
    "_cell_guid": "ec475aa5-fb89-4996-8583-782dcbf29ea4",
    "_uuid": "2fe41d5e2dd1ff22d74e65aeed0ae4eb9c56be94",
    "collapsed": true
   },
   "outputs": [],
   "source": [
    "print(5 // 2)\n",
    "print(6 // 2)"
   ]
  },
  {
   "cell_type": "markdown",
   "metadata": {
    "_cell_guid": "cc8ac64c-a766-477f-ba5d-476e97aad8b5",
    "_uuid": "1e90519d4f4eed22eac4b4d25e651326b0b9c2a7"
   },
   "source": [
    "Can you think of where this would be useful? You may see an example soon in the coding problems."
   ]
  },
  {
   "cell_type": "markdown",
   "metadata": {
    "_cell_guid": "05007349-3978-4ec1-aadc-1dc19d0a3b17",
    "_uuid": "90fb898c7aefe0f6e747936a52511d862d67fedb"
   },
   "source": [
    "### Order of operations\n",
    "\n",
    "The arithmetic we learned in primary school has conventions about the order in which operations are evaluated. Some remember these by a mnemonic such as **PEMDAS** - **P**arentheses, **E**xponents, **M**ultiplication/**D**ivision, **A**ddition/**S**ubtraction.\n",
    "\n",
    "Python follows similar rules about which calculations to perform first. They're mostly pretty intuitive."
   ]
  },
  {
   "cell_type": "code",
   "execution_count": 16,
   "metadata": {
    "_cell_guid": "bc1e5d24-088a-41d3-9d31-b16c7d563fe0",
    "_uuid": "3c7d5c8d52bb0dcac9b4d55dbec94dc09527244e",
    "collapsed": true
   },
   "outputs": [],
   "source": [
    "8 - 3 + 2"
   ]
  },
  {
   "cell_type": "code",
   "execution_count": 17,
   "metadata": {
    "_cell_guid": "c0b268ba-3c79-4104-bc9d-2424e413b9e6",
    "_uuid": "c9550537fdf953fd67bb5113ffde0256a439bf45",
    "collapsed": true
   },
   "outputs": [],
   "source": [
    "-3 + 4 * 2"
   ]
  },
  {
   "cell_type": "markdown",
   "metadata": {
    "_cell_guid": "b0ad1c72-bdf7-46cd-b90d-6cf6cb52d6e6",
    "_uuid": "c7772278ec18c1fbbb142687f508f86d018f5192"
   },
   "source": [
    "Sometimes the default order of operations isn't what we want:"
   ]
  },
  {
   "cell_type": "code",
   "execution_count": 18,
   "metadata": {
    "_cell_guid": "16d98fba-82a9-450c-aa6e-6eeaaa8d18b5",
    "_uuid": "0d604f8af1d69106f5f7b05eafd807a534434012",
    "collapsed": true
   },
   "outputs": [],
   "source": [
    "hat_height_cm = 25\n",
    "my_height_cm = 190\n",
    "# How tall am I, in meters, when wearing my hat?\n",
    "total_height_meters = hat_height_cm + my_height_cm / 100\n",
    "print(\"Height in meters =\", total_height_meters, \"?\")"
   ]
  },
  {
   "cell_type": "markdown",
   "metadata": {
    "_cell_guid": "c0544d70-b89a-4947-b783-a3b94afc754b",
    "_uuid": "781fe6a82c383f39c51ac2420bdb9dc014f391e0"
   },
   "source": [
    "Parentheses are your trump card. You can add them to force Python to evaluate sub-expressions in a different order (or just to make your code easier to read)."
   ]
  },
  {
   "cell_type": "code",
   "execution_count": 19,
   "metadata": {
    "_cell_guid": "10c71932-0ed6-4f99-b200-64cb0054ce07",
    "_uuid": "b6a4440d470dcc84dff9455648774318e3a4689c",
    "collapsed": true
   },
   "outputs": [],
   "source": [
    "total_height_meters = (hat_height_cm + my_height_cm) / 100\n",
    "print(\"Height in meters =\", total_height_meters)"
   ]
  },
  {
   "cell_type": "markdown",
   "metadata": {
    "_uuid": "df9ff2b6e08885ab0a820183596191181344fbf5"
   },
   "source": [
    "### Builtin functions for working with numbers\n",
    "\n",
    "`min` and `max` return the minimum and maximum of their arguments, respectively..."
   ]
  },
  {
   "cell_type": "code",
   "execution_count": 20,
   "metadata": {
    "_uuid": "1687dd5ede63de887acf6a3f4296b1e429e1c92e",
    "collapsed": true
   },
   "outputs": [],
   "source": [
    "print(min(1, 2, 3))\n",
    "print(max(1, 2, 3))"
   ]
  },
  {
   "cell_type": "markdown",
   "metadata": {
    "_uuid": "054069c011830eb72f1aa7d7926e3e4056424420"
   },
   "source": [
    "`abs` returns the absolute value of it argument:"
   ]
  },
  {
   "cell_type": "code",
   "execution_count": 21,
   "metadata": {
    "_uuid": "ebc942b80a49c666102d308695d5df033dd89a59",
    "collapsed": true
   },
   "outputs": [],
   "source": [
    "print(abs(32))\n",
    "print(abs(-32))"
   ]
  },
  {
   "cell_type": "markdown",
   "metadata": {
    "_uuid": "d0e906fd7efed79cd0e90efb3d3161e515a55eb6"
   },
   "source": [
    "In addition to being the names of Python's two main numerical types, `int` and `float` can also be called as functions which convert their arguments to the corresponding type:"
   ]
  },
  {
   "cell_type": "code",
   "execution_count": 22,
   "metadata": {
    "_uuid": "54ec8633f33d770d47dc1e73da2708c89dbf3f60",
    "collapsed": true
   },
   "outputs": [],
   "source": [
    "print(float(10))\n",
    "print(int(3.33))\n",
    "# They can even be called on strings!\n",
    "print(int('807') + 1)"
   ]
  },
  {
   "cell_type": "markdown",
   "metadata": {
    "_cell_guid": "1137dd6f-d206-4197-9e57-21d06d4fc3bc",
    "_uuid": "6e05a5667f568f2cef2e99bf71568ecb8bfb3dbe"
   },
   "source": [
    "## Your turn!\n",
    "\n",
    "Head over to the [Exercises](https://www.kaggle.com/kernels/fork/969424) notebook to get some hands-on practice writing Python."
   ]
  }
 ],
 "metadata": {
  "anaconda-cloud": {},
  "kernelspec": {
   "display_name": "Python 3",
   "language": "python",
   "name": "python3"
  },
  "language_info": {
   "codemirror_mode": {
    "name": "ipython",
    "version": 3
   },
   "file_extension": ".py",
   "mimetype": "text/x-python",
   "name": "python",
   "nbconvert_exporter": "python",
   "pygments_lexer": "ipython3",
   "version": "3.6.3"
  }
 },
 "nbformat": 4,
 "nbformat_minor": 1
}
