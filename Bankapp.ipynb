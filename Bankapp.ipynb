{
 "cells": [
  {
   "cell_type": "markdown",
   "metadata": {},
   "source": [
    "# Bank Application Using Python"
   ]
  },
  {
   "cell_type": "code",
   "execution_count": 1,
   "metadata": {},
   "outputs": [],
   "source": [
    "#this is application made without using Python function moduel"
   ]
  },
  {
   "cell_type": "code",
   "execution_count": null,
   "metadata": {},
   "outputs": [],
   "source": [
    "from getpass import getpass\n",
    "entry = {1001{\"name\":\"akshay\",'password':\"123\"},1002{\"name\":\"ishita\",\"password\":'456'},1003{\"name\":\"urmil\",'password':'789'}}\n",
    "password = getpass()\n",
    "print(\"Welcome to the Python Bank Portal  \\nFollow options below :\\n\")\n",
    "print(\"Login\\n\")\n",
    "print(\"Signup\\n\")\n",
    "print('Exit\\n')\n",
    "front = input(\"Enter the choice \\n login: \\n Signup: \\n\")\n",
    "if front == 'login' :\n",
    "    print(\"Welcom to Login:\\n\")\n",
    "    acc = input(\"Enter the Account No: \")\n",
    "    if acc in entry.key :\n",
    "\n",
    "    psd = input(\"Enter the Password: \")\n",
    "    if acc == key(entry) and psd == value(entry):\n",
    "        print(\"welcome User\")\n",
    "    else:\n",
    "        print(\"invalid Entry\\n Signup First\")\n",
    "elif front == 'signup':\n",
    "    print(\"Welcome to Singup in Bank\\n Enter the info below:\")\n",
    "    name = input(\"Enter Your name: \")\n",
    "    Acc = input(\"Enter Account No you Desire: \")\n",
    "    Psd = input(\"Enter Password of your Choice: \")\n",
    "    blnc = input(\"Enter Initial Balance: \")\n",
    "    \n",
    "else : \n",
    "    print(\"Invalid Input\")\n",
    "    "
   ]
  },
  {
   "cell_type": "code",
   "execution_count": null,
   "metadata": {},
   "outputs": [],
   "source": [
    "make a dictornary with list of the content in it wich sync with all the data\n",
    "data[balance].append()\n",
    "data = {name[],acc[],pass[],blnc[]} #data structure required for this program\n"
   ]
  },
  {
   "cell_type": "code",
   "execution_count": null,
   "metadata": {},
   "outputs": [],
   "source": []
  }
 ],
 "metadata": {
  "kernelspec": {
   "display_name": "Python 3",
   "language": "python",
   "name": "python3"
  },
  "language_info": {
   "codemirror_mode": {
    "name": "ipython",
    "version": 3
   },
   "file_extension": ".py",
   "mimetype": "text/x-python",
   "name": "python",
   "nbconvert_exporter": "python",
   "pygments_lexer": "ipython3",
   "version": "3.6.5"
  }
 },
 "nbformat": 4,
 "nbformat_minor": 2
}
