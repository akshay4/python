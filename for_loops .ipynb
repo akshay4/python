{
 "cells": [
  {
   "cell_type": "markdown",
   "metadata": {},
   "source": [
    "# For Loops"
   ]
  },
  {
   "cell_type": "code",
   "execution_count": null,
   "metadata": {},
   "outputs": [],
   "source": [
    "#sequence\n",
    "list\n",
    "tuple\n",
    "#iterator\n",
    "#values are lost after it is used or take out form an iterator , can't be accessed again\n",
    "#they are stoped using stop itor function\n",
    "iter\n"
   ]
  },
  {
   "cell_type": "code",
   "execution_count": 4,
   "metadata": {},
   "outputs": [
    {
     "name": "stdout",
     "output_type": "stream",
     "text": [
      "Hell0 World\n",
      "dlroW 0lleH\n",
      "Hel\n"
     ]
    }
   ],
   "source": [
    "s = 'Hell0 World'\n",
    "print(s[:])\n",
    "print(s[::-1])\n",
    "print(s[:3])"
   ]
  },
  {
   "cell_type": "code",
   "execution_count": 8,
   "metadata": {},
   "outputs": [
    {
     "name": "stdout",
     "output_type": "stream",
     "text": [
      "<str_iterator object at 0x000001E2BFC557B8>\n"
     ]
    },
    {
     "data": {
      "text/plain": [
       "'y'"
      ]
     },
     "execution_count": 8,
     "metadata": {},
     "output_type": "execute_result"
    }
   ],
   "source": [
    "s = 'yolo world'\n",
    "s = iter(s)\n",
    "print(s)\n",
    "next(s)"
   ]
  },
  {
   "cell_type": "code",
   "execution_count": 9,
   "metadata": {},
   "outputs": [
    {
     "data": {
      "text/plain": [
       "'o'"
      ]
     },
     "execution_count": 9,
     "metadata": {},
     "output_type": "execute_result"
    }
   ],
   "source": [
    "next(s)"
   ]
  },
  {
   "cell_type": "code",
   "execution_count": 10,
   "metadata": {},
   "outputs": [
    {
     "data": {
      "text/plain": [
       "'l'"
      ]
     },
     "execution_count": 10,
     "metadata": {},
     "output_type": "execute_result"
    }
   ],
   "source": [
    "next(s)"
   ]
  },
  {
   "cell_type": "code",
   "execution_count": 11,
   "metadata": {},
   "outputs": [
    {
     "data": {
      "text/plain": [
       "'o'"
      ]
     },
     "execution_count": 11,
     "metadata": {},
     "output_type": "execute_result"
    }
   ],
   "source": [
    "next(s)"
   ]
  },
  {
   "cell_type": "code",
   "execution_count": 17,
   "metadata": {},
   "outputs": [
    {
     "name": "stdout",
     "output_type": "stream",
     "text": [
      "h\n",
      "e\n",
      "l\n",
      "l\n",
      "o\n",
      "N\n",
      "i\n",
      "g\n",
      "g\n",
      "a\n"
     ]
    }
   ],
   "source": [
    "#for loop example\n",
    "s = \"hello\"\n",
    "for x in s:\n",
    "    print(x)\n",
    "for y in \"Nigga\":\n",
    "    print(y)"
   ]
  },
  {
   "cell_type": "code",
   "execution_count": 18,
   "metadata": {},
   "outputs": [
    {
     "name": "stdout",
     "output_type": "stream",
     "text": [
      "hello\n",
      "yo\n",
      "1\n",
      "2\n",
      "3\n",
      "5\n",
      "4\n",
      "['nigger', 'yolo']\n",
      "123\n",
      "456\n",
      "789\n"
     ]
    }
   ],
   "source": [
    "l = ['hello','yo',1,2,3,5,4,['nigger','yolo'],123,456,789]\n",
    "for g in l:\n",
    "    print(g)"
   ]
  },
  {
   "cell_type": "code",
   "execution_count": 22,
   "metadata": {},
   "outputs": [
    {
     "name": "stdout",
     "output_type": "stream",
     "text": [
      "enter the value: 5\n",
      "5 x 1 = 5\n",
      "5 x 2 = 10\n",
      "5 x 3 = 15\n",
      "5 x 4 = 20\n",
      "5 x 5 = 25\n",
      "5 x 6 = 30\n",
      "5 x 7 = 35\n",
      "5 x 8 = 40\n",
      "5 x 9 = 45\n",
      "5 x 10 = 50\n"
     ]
    }
   ],
   "source": [
    "#table using for loop\n",
    "num = int(input(\"enter the value: \"))\n",
    "t = [1,2,3,4,5,6,7,8,9,10]\n",
    "for n in t:\n",
    "    print(num,\"x\",n,\"=\",num*n)"
   ]
  },
  {
   "cell_type": "code",
   "execution_count": 28,
   "metadata": {},
   "outputs": [
    {
     "name": "stdout",
     "output_type": "stream",
     "text": [
      "name = python\n",
      "version = 3.6\n",
      "father = GG boi\n",
      "named on = monty python\n",
      "type = iterpretor\n"
     ]
    }
   ],
   "source": [
    "#example for 2 using Dictonary\n",
    "d = {'name': 'python',\n",
    "    'version': '3.6',\n",
    "    \"father\" : \"GG boi\",\n",
    "     \"named on\": \"monty python\",\n",
    "    \"type\": \"oops\",\n",
    "    'type': 'iterpretor'}\n",
    "for var in d :\n",
    "    print(var,\"=\",d[var])"
   ]
  },
  {
   "cell_type": "code",
   "execution_count": 32,
   "metadata": {},
   "outputs": [
    {
     "name": "stdout",
     "output_type": "stream",
     "text": [
      "1\n",
      "2\n",
      "3\n",
      "4\n",
      "5\n",
      "gg\n",
      "hello\n",
      "hi\n",
      "lol\n",
      "56\n",
      "89\n",
      "bye\n"
     ]
    }
   ],
   "source": [
    "s = {'hello','hi',1,2,3,4,5,'bye','gg','lol',56,89}\n",
    "for var in s:\n",
    "    print(var)"
   ]
  },
  {
   "cell_type": "code",
   "execution_count": 38,
   "metadata": {},
   "outputs": [
    {
     "name": "stdout",
     "output_type": "stream",
     "text": [
      "Iteration:  0\n",
      "value:  1\n",
      "value:  2\n",
      "\n",
      "\n",
      "Iteration:  1\n",
      "value:  hello\n",
      "value:  hi\n",
      "\n",
      "\n",
      "Iteration:  2\n",
      "value:  how\n",
      "value:  are you\n",
      "\n",
      "\n",
      "Iteration:  3\n",
      "value:  3\n",
      "value:  4\n",
      "\n",
      "\n",
      "Iteration:  4\n",
      "value:  9\n",
      "value:  0\n",
      "\n",
      "\n",
      "Iteration:  5\n",
      "value:  java\n",
      "value:  python\n",
      "\n",
      "\n",
      "Iteration:  6\n",
      "value:  gg\n",
      "value:  pota\n",
      "\n",
      "\n"
     ]
    }
   ],
   "source": [
    "l = [(1,2),(\"hello\",\"hi\"),(\"how\",\"are you\"),(3,4),(9,0),('java',\"python\"),['gg','pota']] #sequence size must be same like if there are only 2 values the all much be 2 values in the bracketes\n",
    "c = 0\n",
    "for var1,var2 in l:\n",
    "    print(\"Iteration: \",c)\n",
    "    print(\"value: \",var1)\n",
    "    print(\"value: \",var2)\n",
    "    print(\"\\n\")\n",
    "    c = c + 1"
   ]
  },
  {
   "cell_type": "code",
   "execution_count": 41,
   "metadata": {},
   "outputs": [
    {
     "name": "stdout",
     "output_type": "stream",
     "text": [
      "name = python\n",
      "version = 3.6\n",
      "father = GG boi\n",
      "named on = monty python\n",
      "type = iterpretor\n"
     ]
    }
   ],
   "source": [
    "d = {'name': 'python',\n",
    "    'version': '3.6',\n",
    "    \"father\" : \"GG boi\",\n",
    "     \"named on\": \"monty python\",\n",
    "    \"type\": \"oops\",\n",
    "    'type': 'iterpretor'}\n",
    "for key,value in d.items() :\n",
    "    print(\"{} = {}\".format(key,value))"
   ]
  },
  {
   "cell_type": "code",
   "execution_count": 45,
   "metadata": {},
   "outputs": [
    {
     "name": "stdout",
     "output_type": "stream",
     "text": [
      "(1, 11)\n",
      "(2, 22)\n",
      "(3, 33)\n",
      "(4, 44)\n",
      "(5, 55)\n",
      "(6, 66)\n",
      "(7, 77)\n",
      "(8, 88)\n",
      "(9, 99)\n",
      "(10, 100)\n"
     ]
    }
   ],
   "source": [
    "#comparing list while printing them togeter but length must be same\n",
    "l1 = [1,2,3,4,5,6,7,8,9,10]\n",
    "l2 = [11,22,33,44,55,66,77,88,99,100]\n",
    "for x in zip(l1,l2):\n",
    "    print(x)"
   ]
  },
  {
   "cell_type": "code",
   "execution_count": 47,
   "metadata": {},
   "outputs": [
    {
     "name": "stdout",
     "output_type": "stream",
     "text": [
      "[1, 11]\n",
      "[2, 22]\n",
      "[3, 33]\n",
      "[4, 44]\n",
      "[5, 55]\n",
      "[6, 66]\n",
      "[7, 77]\n",
      "[8, 88]\n",
      "[9, 99]\n",
      "[10, 100]\n"
     ]
    }
   ],
   "source": [
    "l1 = [1,2,3,4,5,6,7,8,9,10]\n",
    "l2 = [11,22,33,44,55,66,77,88,99,100]\n",
    "for x in zip(l1,l2):\n",
    "    k = list(x)\n",
    "    print(k)"
   ]
  },
  {
   "cell_type": "code",
   "execution_count": 48,
   "metadata": {},
   "outputs": [
    {
     "name": "stdout",
     "output_type": "stream",
     "text": [
      "value 1:  1\n",
      "value 2: 11\n",
      "\t\n",
      "value 1:  2\n",
      "value 2: 22\n",
      "\t\n",
      "value 1:  3\n",
      "value 2: 33\n",
      "\t\n",
      "value 1:  4\n",
      "value 2: 44\n",
      "\t\n",
      "value 1:  5\n",
      "value 2: 55\n",
      "\t\n",
      "value 1:  6\n",
      "value 2: 66\n",
      "\t\n",
      "value 1:  7\n",
      "value 2: 77\n",
      "\t\n",
      "value 1:  8\n",
      "value 2: 88\n",
      "\t\n",
      "value 1:  9\n",
      "value 2: 99\n",
      "\t\n",
      "value 1:  10\n",
      "value 2: 100\n",
      "\t\n"
     ]
    }
   ],
   "source": [
    "l1 = [1,2,3,4,5,6,7,8,9,10]\n",
    "l2 = [11,22,33,44,55,66,77,88,99,100]\n",
    "for x,y in zip(l1,l2):\n",
    "    print(\"value 1: \",x)\n",
    "    print(\"value 2:\",y)\n",
    "    print(\"\\t\")"
   ]
  },
  {
   "cell_type": "code",
   "execution_count": 1,
   "metadata": {},
   "outputs": [
    {
     "name": "stdout",
     "output_type": "stream",
     "text": [
      "Enter the key: yolo,gg,lol\n",
      "Enter the value: 1,2,3\n",
      "Dictonary: {'yolo': '1', 'gg': '2', 'lol': '3'}\n"
     ]
    }
   ],
   "source": [
    "#dictonary printing through input\n",
    "x,y = input(\"Enter the key: \").split(','),input(\"Enter the value: \").split(',')\n",
    "v1 = dict(zip(x,y))\n",
    "print(\"Dictonary:\",v1)"
   ]
  },
  {
   "cell_type": "code",
   "execution_count": 3,
   "metadata": {},
   "outputs": [
    {
     "name": "stdout",
     "output_type": "stream",
     "text": [
      "1,2,3,4,5,6,7,8,9,10,11,12,13,14,15,16,17,18,19,20,21,22,23,24,25,26,27,28,29,30,31,32,33,34,35,36,37,38,39,40,41,42,43,44,45,46,47,48,49,50,51,52,53,54,55,56,57,58,59,60,61,62,63,64,65,66,67,68,69,70,71,72,73,74,75,76,77,78,79,80,81,82,83,84,85,86,87,88,89,90,91,92,93,94,95,96,97,98,99,100,101,102,103,104,105,106,107,108,109,110,111,112,113,114,115,116,117,118,119,120,121,122,123,124,125,126,127,128,129,130,131,132,133,134,135,136,137,138,139,140,141,142,143,144,145,146,147,148,149,150,151,152,153,154,155,156,157,158,159,160,161,162,163,164,165,166,167,168,169,170,171,172,173,174,175,176,177,178,179,180,181,182,183,184,185,186,187,188,189,190,191,192,193,194,195,196,197,198,199,200,201,202,203,204,205,206,207,208,209,210,211,212,213,214,215,216,217,218,219,220,221,222,223,224,225,226,227,228,229,230,231,232,233,234,235,236,237,238,239,240,241,242,243,244,245,246,247,248,249,250,251,252,253,254,255,256,257,258,259,260,261,262,263,264,265,266,267,268,269,270,271,272,273,274,275,276,277,278,279,280,281,282,283,284,285,286,287,288,289,290,291,292,293,294,295,296,297,298,299,300,301,302,303,304,305,306,307,308,309,310,311,312,313,314,315,316,317,318,319,320,321,322,323,324,325,326,327,328,329,330,331,332,333,334,335,336,337,338,339,340,341,342,343,344,345,346,347,348,349,350,351,352,353,354,355,356,357,358,359,360,361,362,363,364,365,366,367,368,369,370,371,372,373,374,375,376,377,378,379,380,381,382,383,384,385,386,387,388,389,390,391,392,393,394,395,396,397,398,399,400,401,402,403,404,405,406,407,408,409,410,411,412,413,414,415,416,417,418,419,420,421,422,423,424,425,426,427,428,429,430,431,432,433,434,435,436,437,438,439,440,441,442,443,444,445,446,447,448,449,450,451,452,453,454,455,456,457,458,459,460,461,462,463,464,465,466,467,468,469,470,471,472,473,474,475,476,477,478,479,480,481,482,483,484,485,486,487,488,489,490,491,492,493,494,495,496,497,498,499,500,"
     ]
    }
   ],
   "source": [
    "#Range funtion\n",
    "for var in range(1,501):\n",
    "    print(var,end=\",\")"
   ]
  },
  {
   "cell_type": "code",
   "execution_count": 18,
   "metadata": {},
   "outputs": [
    {
     "name": "stdout",
     "output_type": "stream",
     "text": [
      "990\t960\t930\t900\t870\t840\t810\t780\t750\t720\t690\t660\t630\t600\t570\t540\t510\t480\t450\t420\t390\t360\t330\t300\t270\t240\t210\t180\t150\t120\t90\t60\t30\t"
     ]
    }
   ],
   "source": [
    "for v in range (1001,1,-1):\n",
    "    if v%2==0 and v%3==0 and v%5==0 :\n",
    "        print(v,end=\"\\t\")"
   ]
  },
  {
   "cell_type": "code",
   "execution_count": 28,
   "metadata": {},
   "outputs": [
    {
     "name": "stdout",
     "output_type": "stream",
     "text": [
      "[2, 10, 12, 12, 23, 34, 34, 44, 45, 56, 76, 213, 232, 345, 456, 567]\n"
     ]
    }
   ],
   "source": [
    "#sort list withour using sort function\n",
    "l = [10,34,2,56,23,567,34,232,12,345,76,44,213,45,12,456]\n",
    "for var in range(len(l)-1) :\n",
    "    for var2 in range(var+1,len(l)) :\n",
    "        if l[var] >= l[var2] :\n",
    "            l[var],l[var2] = l[var2],l[var]\n",
    "print(l)            "
   ]
  },
  {
   "cell_type": "code",
   "execution_count": 50,
   "metadata": {},
   "outputs": [
    {
     "name": "stdout",
     "output_type": "stream",
     "text": [
      "Enter the number: 63\n",
      "63  is not a prime number\n"
     ]
    }
   ],
   "source": [
    "#Prime Number using for loop\n",
    "num = int(input(\"Enter the number: \"))\n",
    "from math import sqrt\n",
    "for var in range(2,round(sqrt(num)+1)):\n",
    "    if num % var == 0:\n",
    "        print(num,\" is not a prime number\")\n",
    "        break\n",
    "else:\n",
    "    print(num,\" is a prime number\")"
   ]
  },
  {
   "cell_type": "code",
   "execution_count": null,
   "metadata": {},
   "outputs": [],
   "source": []
  }
 ],
 "metadata": {
  "kernelspec": {
   "display_name": "Python 3",
   "language": "python",
   "name": "python3"
  },
  "language_info": {
   "codemirror_mode": {
    "name": "ipython",
    "version": 3
   },
   "file_extension": ".py",
   "mimetype": "text/x-python",
   "name": "python",
   "nbconvert_exporter": "python",
   "pygments_lexer": "ipython3",
   "version": "3.6.5"
  }
 },
 "nbformat": 4,
 "nbformat_minor": 2
}
