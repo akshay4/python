{
 "cells": [
  {
   "cell_type": "code",
   "execution_count": null,
   "metadata": {},
   "outputs": [],
   "source": [
    "import pandas as pd\n",
    "import numpy as np\n",
    "import matplotlib.pyplot as plt\n",
    "data = pd.read_csv('fifa.csv')"
   ]
  },
  {
   "cell_type": "code",
   "execution_count": null,
   "metadata": {},
   "outputs": [],
   "source": [
    "print(data)"
   ]
  },
  {
   "cell_type": "code",
   "execution_count": null,
   "metadata": {},
   "outputs": [],
   "source": [
    "polynomial equaltion program in python\n",
    "#def poly (*args)"
   ]
  },
  {
   "cell_type": "code",
   "execution_count": null,
   "metadata": {},
   "outputs": [],
   "source": [
    "import math\n",
    "print(\"Enter the coefficients of the form ax^3 + bx^2 + cx + d\")\n",
    "lst=[]\n",
    "for i in range(0,4):\n",
    "    a=int(input(\"Enter coefficient:\"))\n",
    "    lst.append(a)\n",
    "x=int(input(\"Enter the value of x:\"))\n",
    "sum1=0\n",
    "j=3\n",
    "for i in range(0,3):\n",
    "    while(j>0):\n",
    "        sum1=sum1+(lst[i]*math.pow(x,j))\n",
    "        break\n",
    "    j=j-1\n",
    "sum1=sum1+lst[3]\n",
    "print(\"The value of the polynomial is:\",sum1)"
   ]
  },
  {
   "cell_type": "code",
   "execution_count": null,
   "metadata": {},
   "outputs": [],
   "source": [
    "# ax**2 + bx + c = 0\n",
    "import cmath\n",
    "a = float(input('Enter a: '))\n",
    "b = float(input('Enter b: '))\n",
    "c = float(input('Enter c: '))\n",
    "d = (b**2) - (4*a*c)\n",
    "s1 = (-b-cmath.sqrt(d))/(2*a)\n",
    "s2 = (-b+cmath.sqrt(d))/(2*a)\n",
    "\n",
    "print('The solution are {0} and {1}'.format(s1,s2))"
   ]
  },
  {
   "cell_type": "code",
   "execution_count": null,
   "metadata": {},
   "outputs": [],
   "source": [
    "def poly(p):\n",
    "    n = float(input('Enter n:'))\n",
    "    a = float(input('Enter a:'))\n",
    "    x = int(input('Enter x:'))\n",
    "    ans = 0\n",
    "    for n,a in enumerate(a_list):\n",
    "        ans += a*x**n\n",
    "    return ans"
   ]
  },
  {
   "cell_type": "code",
   "execution_count": null,
   "metadata": {},
   "outputs": [],
   "source": []
  },
  {
   "cell_type": "code",
   "execution_count": null,
   "metadata": {},
   "outputs": [],
   "source": [
    "def squarefree(n):\n",
    "    \"\"\"\n",
    "    Check if n is a square-free number, i.e. is divisible by no other perfect square than 1.\n",
    "\n",
    "    Args:\n",
    "        n     positive integer to check\n",
    "    Returns:\n",
    "        n     if n is a square-free number\n",
    "        False else\n",
    "    \"\"\"\n",
    "    for i in range(2, round(n**0.5)):\n",
    "        if n % (i**2) == 0:\n",
    "            return False\n",
    "    return n\n",
    "\n",
    "\n",
    "def square_free_sieve(limit):\n",
    "    \"\"\"Generator that yields all square free numbers less than limit\"\"\"\n",
    "    a = [True] * limit\n",
    "    # Needed so we don't mark off multiples of 1^2\n",
    "    yield 1\n",
    "    a[0] = a[1] = False\n",
    "    for i, is_square_free in enumerate(a):\n",
    "        if is_square_free:\n",
    "            yield i\n",
    "            i2 = i * i\n",
    "            # Start at 2 * i**2 to allow first square free number, like 9\n",
    "            for n in range(2 * i2, limit, i2):\n",
    "                a[n] = False\n",
    "\n",
    "test1 = [n for n in range(100) if squarefree(n)]\n",
    "test2 = list(square_free_sieve(100))\n",
    "assert test1 == test2"
   ]
  },
  {
   "cell_type": "code",
   "execution_count": null,
   "metadata": {},
   "outputs": [],
   "source": [
    "#square free no\n",
    "def square(n):\n",
    "    for i in range(2, round(n**0.5)):\n",
    "        if n % (i**2) == 0:\n",
    "            return False\n",
    "        return n\n",
    "def squarelist(limit):\n",
    "    s = [True] * limit\n",
    "    yield 1\n",
    "    s[0] = s[1] = False\n",
    "    for i, squarefreelist in enumerate(s):\n",
    "        if squarefreelist:\n",
    "            yield i\n",
    "            i2 = i * i\n",
    "            for n in range(2 * i2, limit, i2):\n",
    "                s[n] = False\n",
    "\n",
    "a = [n for n in range(100) if square(n)]\n",
    "b = list(squarelist(100))"
   ]
  },
  {
   "cell_type": "code",
   "execution_count": null,
   "metadata": {},
   "outputs": [],
   "source": [
    "import random\n",
    "\n",
    "no =[]\n",
    "n = random.randint(0,9)\n",
    "while n < 12:\n",
    "    no.append(n)\n",
    "    print(no)\n",
    "    \n",
    "    \n"
   ]
  },
  {
   "cell_type": "code",
   "execution_count": null,
   "metadata": {},
   "outputs": [],
   "source": []
  },
  {
   "cell_type": "code",
   "execution_count": null,
   "metadata": {},
   "outputs": [],
   "source": []
  }
 ],
 "metadata": {
  "kernelspec": {
   "display_name": "Python 3",
   "language": "python",
   "name": "python3"
  },
  "language_info": {
   "codemirror_mode": {
    "name": "ipython",
    "version": 3
   },
   "file_extension": ".py",
   "mimetype": "text/x-python",
   "name": "python",
   "nbconvert_exporter": "python",
   "pygments_lexer": "ipython3",
   "version": "3.6.6"
  }
 },
 "nbformat": 4,
 "nbformat_minor": 2
}
