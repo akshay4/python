{
 "cells": [
  {
   "cell_type": "markdown",
   "metadata": {},
   "source": [
    "# Class in Python"
   ]
  },
  {
   "cell_type": "markdown",
   "metadata": {},
   "source": [
    "OOPS common concepts\n",
    "\n",
    "    1.Encapsulation\n",
    "    2.Abstraction\n",
    "    3.Data Hiding / information Hiding\n",
    "    4.Inheritence\n",
    "    5.Polymorphism\n",
    "    6.Messege Passing\n",
    "    7.Dynamic Binding\n",
    "    8.Class\n",
    "    9.Objects"
   ]
  },
  {
   "cell_type": "markdown",
   "metadata": {},
   "source": [
    "multipal inheritence in java causes this and to solve abmiquity in java we suse MRO - Method Resoluton Order "
   ]
  },
  {
   "cell_type": "code",
   "execution_count": null,
   "metadata": {},
   "outputs": [],
   "source": [
    "#example\n",
    "class robot :\n",
    "    \"\"\"Robot class is used to print details and shows working of objects\"\"\"\n",
    "    "
   ]
  }
 ],
 "metadata": {
  "kernelspec": {
   "display_name": "Python 3",
   "language": "python",
   "name": "python3"
  },
  "language_info": {
   "codemirror_mode": {
    "name": "ipython",
    "version": 3
   },
   "file_extension": ".py",
   "mimetype": "text/x-python",
   "name": "python",
   "nbconvert_exporter": "python",
   "pygments_lexer": "ipython3",
   "version": "3.6.5"
  }
 },
 "nbformat": 4,
 "nbformat_minor": 2
}
