{
 "cells": [
  {
   "cell_type": "markdown",
   "metadata": {},
   "source": [
    "# Class in Python"
   ]
  },
  {
   "cell_type": "markdown",
   "metadata": {},
   "source": [
    "OOPS common concepts\n",
    "\n",
    "    1.Encapsulation\n",
    "    2.Abstraction\n",
    "    3.Data Hiding / information Hiding\n",
    "    4.Inheritence\n",
    "    5.Polymorphism\n",
    "    6.Messege Passing\n",
    "    7.Dynamic Binding\n",
    "    8.Class\n",
    "    9.Objects"
   ]
  },
  {
   "cell_type": "markdown",
   "metadata": {},
   "source": [
    "multipal inheritence in java causes this and to solve abmiquity in java we suse MRO - Method Resoluton Order "
   ]
  },
  {
   "cell_type": "code",
   "execution_count": 4,
   "metadata": {},
   "outputs": [],
   "source": [
    "#example\n",
    "class robot :\n",
    "    \"\"\"Robot class is used to print details and shows working of objects\"\"\" #docstring of this class\n",
    "    pass"
   ]
  },
  {
   "cell_type": "code",
   "execution_count": 7,
   "metadata": {},
   "outputs": [
    {
     "name": "stdout",
     "output_type": "stream",
     "text": [
      "<class 'type'>\n"
     ]
    }
   ],
   "source": [
    "print(type(robot))"
   ]
  },
  {
   "cell_type": "code",
   "execution_count": 8,
   "metadata": {},
   "outputs": [
    {
     "name": "stdout",
     "output_type": "stream",
     "text": [
      "<class '__main__.robot'>\n"
     ]
    }
   ],
   "source": [
    "r1 = robot()\n",
    "print(type(r1))"
   ]
  },
  {
   "cell_type": "markdown",
   "metadata": {},
   "source": [
    "# to make a package in python\n",
    "    use command __init__.py to define what to use in the packagae\n",
    "\n",
    "    example:\n",
    "        from math import sqrt\n",
    "        from .hello import hello --> . before module name signifies the current path to import them from current folder insted of home folder of python\n",
    "        from .comman import even_odd, prime, pat\n",
    "    "
   ]
  },
  {
   "cell_type": "code",
   "execution_count": 9,
   "metadata": {},
   "outputs": [
    {
     "data": {
      "text/plain": [
       "'Robot class is used to print details and shows working of objects'"
      ]
     },
     "execution_count": 9,
     "metadata": {},
     "output_type": "execute_result"
    }
   ],
   "source": [
    "r1.__doc__"
   ]
  },
  {
   "cell_type": "code",
   "execution_count": 10,
   "metadata": {},
   "outputs": [],
   "source": [
    "class Akshay:\n",
    "    \"\"\"Doc string your Akshay class\"\"\"\n",
    "    def show(self): #it is the self memory allocation of the currernt class\n",
    "        print(\"hi this is Akshay but right now he is a robot\")        "
   ]
  },
  {
   "cell_type": "code",
   "execution_count": 13,
   "metadata": {},
   "outputs": [],
   "source": [
    "a1 = Akshay()\n",
    "a2 = Akshay()"
   ]
  },
  {
   "cell_type": "code",
   "execution_count": 14,
   "metadata": {},
   "outputs": [
    {
     "name": "stdout",
     "output_type": "stream",
     "text": [
      "hi this is Akshay but right now he is a robot\n",
      "hi this is Akshay but right now he is a robot\n"
     ]
    }
   ],
   "source": [
    "a1.show()\n",
    "a2.show()"
   ]
  },
  {
   "cell_type": "code",
   "execution_count": 16,
   "metadata": {},
   "outputs": [],
   "source": [
    "a1.name = 'yolo this is class akshay'"
   ]
  },
  {
   "cell_type": "code",
   "execution_count": 18,
   "metadata": {},
   "outputs": [
    {
     "data": {
      "text/plain": [
       "'yolo this is class akshay'"
      ]
     },
     "execution_count": 18,
     "metadata": {},
     "output_type": "execute_result"
    }
   ],
   "source": [
    "a1.name #will return name of the class if defined else will return error \"object has no attribut name\""
   ]
  },
  {
   "cell_type": "code",
   "execution_count": 30,
   "metadata": {},
   "outputs": [],
   "source": [
    "class robot :\n",
    "    def __init__(self,x,y,z,p) : #to initialize the constructor in python to allocate attributes while object creation\n",
    "        self.name = x\n",
    "        self.height = y\n",
    "        self.weight = z\n",
    "        self.color = p\n",
    "    def show(self) :\n",
    "        print(\"Name : \",self.name)\n",
    "        print(\"Height : \",self.height)\n",
    "        print(\"Weight : \",self.weight)\n",
    "        print(\"Color : \",self.color)\n"
   ]
  },
  {
   "cell_type": "code",
   "execution_count": 31,
   "metadata": {},
   "outputs": [],
   "source": [
    "robot1 = robot('robot1',6.1,67,\"Brown\")\n",
    "robot2 = robot(\"robot2\",5.5,75,'White')\n",
    "robot3 = robot(\"robot3\",5.11,63,'Black')"
   ]
  },
  {
   "cell_type": "code",
   "execution_count": 32,
   "metadata": {},
   "outputs": [
    {
     "name": "stdout",
     "output_type": "stream",
     "text": [
      "Name :  robot1\n",
      "Height :  6.1\n",
      "Weight :  67\n",
      "Color :  Brown\n"
     ]
    }
   ],
   "source": [
    "robot1.show()"
   ]
  },
  {
   "cell_type": "code",
   "execution_count": 33,
   "metadata": {},
   "outputs": [
    {
     "name": "stdout",
     "output_type": "stream",
     "text": [
      "Name :  robot2\n",
      "Height :  5.5\n",
      "Weight :  75\n",
      "Color :  White\n"
     ]
    }
   ],
   "source": [
    "robot2.show()"
   ]
  },
  {
   "cell_type": "code",
   "execution_count": 34,
   "metadata": {},
   "outputs": [
    {
     "name": "stdout",
     "output_type": "stream",
     "text": [
      "Name :  robot3\n",
      "Height :  5.11\n",
      "Weight :  63\n",
      "Color :  Black\n"
     ]
    }
   ],
   "source": [
    "robot3.show()"
   ]
  },
  {
   "cell_type": "code",
   "execution_count": 13,
   "metadata": {},
   "outputs": [],
   "source": [
    "#scope of objects and class\n",
    "class Person :\n",
    "    x = \"hi i am public\" #public variable in python\n",
    "    _y = \"HI is am protected\" #Proteced variable in python\n",
    "    __z = \"Hi i am private\" #private variable in python cannot be accessed outside of the class\n",
    "    def show(self) :\n",
    "        print('Public = ',Person.x)\n",
    "        print('Protected = ',Person._y)\n",
    "        print('Private = ',Person.__z)\n",
    "    def change(self,x,y,z) :\n",
    "        Person.x = x\n",
    "        Person._y = y\n",
    "        Person.__z = z\n"
   ]
  },
  {
   "cell_type": "code",
   "execution_count": 14,
   "metadata": {},
   "outputs": [
    {
     "name": "stdout",
     "output_type": "stream",
     "text": [
      "Public =  hi i am public\n",
      "Protected =  HI is am protected\n",
      "Private =  Hi i am private\n",
      "Public =  hi i am public\n",
      "Protected =  HI is am protected\n",
      "Private =  Hi i am private\n"
     ]
    }
   ],
   "source": [
    "one = Person()\n",
    "two = Person()\n",
    "Person.__z = \"I've Hackd you\"\n",
    "one.show()\n",
    "two.show()"
   ]
  },
  {
   "cell_type": "code",
   "execution_count": 30,
   "metadata": {},
   "outputs": [],
   "source": [
    "class  Test:\n",
    "    def __init__(self,name):\n",
    "        self.name = name\n",
    "    def show(self):\n",
    "            print(\"Name = \",self.name)\n",
    "    def __str__(self):\n",
    "            return \"HI i am {}\".format(self.name)"
   ]
  },
  {
   "cell_type": "code",
   "execution_count": 31,
   "metadata": {},
   "outputs": [
    {
     "name": "stdout",
     "output_type": "stream",
     "text": [
      "HI i am object1\n"
     ]
    }
   ],
   "source": [
    "k = Test('object1')\n",
    "print(k)"
   ]
  },
  {
   "cell_type": "code",
   "execution_count": 32,
   "metadata": {},
   "outputs": [
    {
     "name": "stdout",
     "output_type": "stream",
     "text": [
      "Name =  object1\n"
     ]
    }
   ],
   "source": [
    "k.show()"
   ]
  },
  {
   "cell_type": "code",
   "execution_count": 33,
   "metadata": {},
   "outputs": [],
   "source": [
    "class A:\n",
    "    pass\n",
    "class B(A):\n",
    "    pass"
   ]
  },
  {
   "cell_type": "code",
   "execution_count": 34,
   "metadata": {},
   "outputs": [
    {
     "data": {
      "text/plain": [
       "False"
      ]
     },
     "execution_count": 34,
     "metadata": {},
     "output_type": "execute_result"
    }
   ],
   "source": [
    "issubclass(A,B)"
   ]
  },
  {
   "cell_type": "code",
   "execution_count": 36,
   "metadata": {},
   "outputs": [
    {
     "data": {
      "text/plain": [
       "True"
      ]
     },
     "execution_count": 36,
     "metadata": {},
     "output_type": "execute_result"
    }
   ],
   "source": [
    "issubclass(B,A)"
   ]
  },
  {
   "cell_type": "code",
   "execution_count": 37,
   "metadata": {},
   "outputs": [
    {
     "data": {
      "text/plain": [
       "True"
      ]
     },
     "execution_count": 37,
     "metadata": {},
     "output_type": "execute_result"
    }
   ],
   "source": [
    "issubclass(A,object)"
   ]
  },
  {
   "cell_type": "code",
   "execution_count": 47,
   "metadata": {},
   "outputs": [],
   "source": [
    "#overriding\n",
    "class Vector:\n",
    "    def __init__(self,x,y):\n",
    "        self.x = x\n",
    "        self.y = y\n",
    "    def __str__(self):\n",
    "        return 'Vector ({},{})'.format(self.x,self.y)\n",
    "    def __add__(self,vector):\n",
    "        x = self.x + vector.x\n",
    "        y = self.y + vector.y\n",
    "        return Vector(x,y)"
   ]
  },
  {
   "cell_type": "code",
   "execution_count": 48,
   "metadata": {},
   "outputs": [
    {
     "name": "stdout",
     "output_type": "stream",
     "text": [
      "Vector1 =  Vector (5,6)\n",
      "Vector2 =  Vector (7,10)\n"
     ]
    }
   ],
   "source": [
    "v1 = Vector(5,6)\n",
    "v2 = Vector(7,10)\n",
    "print(\"Vector1 = \",v1)\n",
    "print(\"Vector2 = \",v2)"
   ]
  },
  {
   "cell_type": "code",
   "execution_count": 50,
   "metadata": {},
   "outputs": [
    {
     "name": "stdout",
     "output_type": "stream",
     "text": [
      "Vector (12,16)\n"
     ]
    }
   ],
   "source": [
    "v3 = v1+v2\n",
    "print(v3)"
   ]
  },
  {
   "cell_type": "code",
   "execution_count": 53,
   "metadata": {},
   "outputs": [
    {
     "name": "stdout",
     "output_type": "stream",
     "text": [
      "Vector (19,26)\n"
     ]
    }
   ],
   "source": [
    "v1 = v3+v2\n",
    "print(v1)"
   ]
  },
  {
   "cell_type": "code",
   "execution_count": null,
   "metadata": {},
   "outputs": [],
   "source": []
  }
 ],
 "metadata": {
  "kernelspec": {
   "display_name": "Python 3",
   "language": "python",
   "name": "python3"
  },
  "language_info": {
   "codemirror_mode": {
    "name": "ipython",
    "version": 3
   },
   "file_extension": ".py",
   "mimetype": "text/x-python",
   "name": "python",
   "nbconvert_exporter": "python",
   "pygments_lexer": "ipython3",
   "version": "3.6.5"
  }
 },
 "nbformat": 4,
 "nbformat_minor": 2
}
