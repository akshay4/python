{
 "cells": [
  {
   "cell_type": "markdown",
   "metadata": {},
   "source": [
    "# Control Statements"
   ]
  },
  {
   "cell_type": "code",
   "execution_count": 2,
   "metadata": {},
   "outputs": [],
   "source": [
    "# : --> indentation operator\n",
    "#if condition:\n",
    "# statement 1\n",
    "#elif :\n",
    "#statement 2\n",
    "#else :\n",
    "#statement 3\n",
    "#"
   ]
  },
  {
   "cell_type": "code",
   "execution_count": 4,
   "metadata": {},
   "outputs": [
    {
     "name": "stdout",
     "output_type": "stream",
     "text": [
      "enter the number: 5\n",
      "odd\n"
     ]
    }
   ],
   "source": [
    "#even odd\n",
    "\n",
    "num = int(input(\"enter the number: \"))\n",
    "if num % 2 :\n",
    "    print(\"odd\")\n",
    "else:\n",
    "    print(\"even\")\n",
    "    \n",
    "        "
   ]
  },
  {
   "cell_type": "code",
   "execution_count": 7,
   "metadata": {},
   "outputs": [
    {
     "name": "stdout",
     "output_type": "stream",
     "text": [
      "Enter a String: lol\n",
      "foo | bar\n"
     ]
    }
   ],
   "source": [
    "s = input(\"Enter a String: \")\n",
    "if s == \"foo\":\n",
    "    print(\"bar\")\n",
    "elif s == \"bar\":\n",
    "    print(\"foo\")\n",
    "else :\n",
    "    print(\"foo | bar\")\n",
    "    "
   ]
  },
  {
   "cell_type": "code",
   "execution_count": 9,
   "metadata": {},
   "outputs": [
    {
     "name": "stdout",
     "output_type": "stream",
     "text": [
      "Enter a String:    FOO   \n",
      "bar\n"
     ]
    }
   ],
   "source": [
    "#different condtion\n",
    "\n",
    "f = input(\"Enter a String: \").strip().lower() # will remove all leading spaces and then turn the string into lower case\n",
    "if f == \"foo\" :\n",
    "    print(\"bar\")\n",
    "elif f == \"bar\":\n",
    "    print(\"foo\")\n",
    "else :\n",
    "    print(\"foo | bar\")\n",
    "    "
   ]
  },
  {
   "cell_type": "code",
   "execution_count": 18,
   "metadata": {},
   "outputs": [
    {
     "name": "stdout",
     "output_type": "stream",
     "text": [
      "Enter a No: 5\n",
      "Enter another No:6\n",
      "Enter another No:3\n",
      "6 is the greatest\n"
     ]
    }
   ],
   "source": [
    "#greatest among three\n",
    "x = int(input(\"Enter a No: \"))\n",
    "y = int(input (\"Enter another No:\"))\n",
    "z = int(input (\"Enter another No:\"))\n",
    "if x >= y and x >= z:\n",
    "    print(\"{} is the Greatest\".format(x))\n",
    "elif y >= x and y >= z:\n",
    "    print(\"{} is the greatest\".format(y))\n",
    "else :\n",
    "    print(\"{} is the greatest\".format(z))\n",
    "    "
   ]
  },
  {
   "cell_type": "code",
   "execution_count": 21,
   "metadata": {},
   "outputs": [
    {
     "name": "stdout",
     "output_type": "stream",
     "text": [
      "Enter a No: 5\n",
      "Enter another No:6\n",
      "Enter another No:8\n",
      "8 is the greatest.\n"
     ]
    }
   ],
   "source": [
    "x = int(input(\"Enter a No: \"))\n",
    "y = int(input (\"Enter another No:\"))\n",
    "z = int(input (\"Enter another No:\"))\n",
    "if x > y :\n",
    "    if x > z :\n",
    "        print(\"%d is the greatest.\"%(x))\n",
    "    else :\n",
    "        print(\"%d is the greatest.\"%(z))\n",
    "elif y > z :\n",
    "        print(\"%d is the greatest.\"%(y))\n",
    "else :\n",
    "        print(\"%d is the greatest.\"%(z))\n",
    "        "
   ]
  },
  {
   "cell_type": "code",
   "execution_count": 32,
   "metadata": {},
   "outputs": [
    {
     "name": "stdout",
     "output_type": "stream",
     "text": [
      "Value 1: 5\n",
      "Value 2: 5\n",
      "Enter the type:+\n",
      "10.0\n"
     ]
    }
   ],
   "source": [
    "#calculator\n",
    "x = float(input(\"Value 1: \"))\n",
    "y = float(input(\"Value 2: \"))\n",
    "z = input(\"Enter the type:\")\n",
    "if z == '+' :\n",
    "    print(x+y)\n",
    "elif z == '-' :\n",
    "    print(x-y)\n",
    "elif z == '*' :\n",
    "    print(x*y)\n",
    "elif z == '/' :\n",
    "    print(x/y)\n",
    "elif z == '%':\n",
    "    print(x%y)\n",
    "elif z == '**':\n",
    "    print(x**y)\n",
    "elif z == '//':\n",
    "    print(x//y)\n",
    "else :\n",
    "    print(\"Wrong Input\")\n",
    "    \n"
   ]
  },
  {
   "cell_type": "code",
   "execution_count": 36,
   "metadata": {},
   "outputs": [
    {
     "name": "stdout",
     "output_type": "stream",
     "text": [
      "Enter the Value:5\n",
      "your month is : May\n"
     ]
    }
   ],
   "source": [
    "mon = int(input(\"Enter the Value:\"))\n",
    "if mon == 1:\n",
    "    p = \"January\"\n",
    "elif mon == 2:\n",
    "       p = 'Feb'\n",
    "elif mon == 3:\n",
    "        p = 'March'\n",
    "elif mon == 4:\n",
    "        p = 'April'\n",
    "elif mon == 5:\n",
    "        p = 'May'\n",
    "elif mon == 6:\n",
    "        p = 'June'\n",
    "elif mon == 7:\n",
    "        p = 'july'\n",
    "elif mon == 8:\n",
    "        p = 'August'\n",
    "elif mon == 9:\n",
    "        p = 'Sept'\n",
    "elif mon == 10:\n",
    "        p = 'Oct'\n",
    "elif mon == 11:\n",
    "        p = 'Nov'\n",
    "elif mon == 12:\n",
    "        p = 'Dec'\n",
    "else :\n",
    "    p = 'wrong Choise'\n",
    "\n",
    "print (\"your month is :\",p)\n"
   ]
  },
  {
   "cell_type": "code",
   "execution_count": 38,
   "metadata": {},
   "outputs": [
    {
     "name": "stdout",
     "output_type": "stream",
     "text": [
      "month no 1-12:8\n",
      "aug\n"
     ]
    }
   ],
   "source": [
    "#short program for calender\n",
    "l = ['jan','feb','mar','apr','may','june','july','aug','sept','oct','nov','dec']\n",
    "m = int(input(\"month no 1-12:\"))\n",
    "if m >= 1 and m <=12 :\n",
    "    print (l[m-1])\n",
    "else :\n",
    "    print(\"input error\")"
   ]
  },
  {
   "cell_type": "code",
   "execution_count": 50,
   "metadata": {},
   "outputs": [
    {
     "name": "stdout",
     "output_type": "stream",
     "text": [
      "Month No 1-12: 5\n",
      "Months Before This are: Jan Feb Mar Apr\n",
      "Current Choise of Month is: May\n",
      "Months After This are: June July Aug Sept Oct Nov Dec\n"
     ]
    }
   ],
   "source": [
    "#Print the previous month using list\n",
    "l = ['Jan','Feb','Mar','Apr','May','June','July','Aug','Sept','Oct','Nov','Dec']\n",
    "m = int(input(\"Month No 1-12: \"))\n",
    "if m >= 1 and m <=12 :\n",
    "    a = l[0:m-1]\n",
    "    b = l[m:]\n",
    "    print ('Months Before This are:',*a)\n",
    "    print ('Current Choise of Month is:',l[m-1])\n",
    "    print ('Months After This are:',*b)\n",
    "else :\n",
    "    print(\"Input Error\")"
   ]
  },
  {
   "cell_type": "code",
   "execution_count": 70,
   "metadata": {},
   "outputs": [
    {
     "name": "stdout",
     "output_type": "stream",
     "text": [
      "Enter the month to check if leap year or not:2013\n",
      "this is not a leap year\n"
     ]
    }
   ],
   "source": [
    "#to check if there is leap year or not\n",
    "m = int(input(\"Enter the month to check if leap year or not:\"))\n",
    "if ((m % 100 and) (m % 4 == 0 )) or ( m % 400 == 0 ) :\n",
    "    print ('this is a leap year')\n",
    "else :\n",
    "    print('this is not a leap year')"
   ]
  },
  {
   "cell_type": "code",
   "execution_count": 81,
   "metadata": {},
   "outputs": [
    {
     "name": "stdout",
     "output_type": "stream",
     "text": [
      "Enter a String:abc\n"
     ]
    },
    {
     "data": {
      "text/plain": [
       "True"
      ]
     },
     "execution_count": 81,
     "metadata": {},
     "output_type": "execute_result"
    }
   ],
   "source": [
    "s = input(\"Enter a String:\")\n",
    "s.isalnum()"
   ]
  },
  {
   "cell_type": "code",
   "execution_count": 82,
   "metadata": {},
   "outputs": [
    {
     "data": {
      "text/plain": [
       "['__add__',\n",
       " '__class__',\n",
       " '__contains__',\n",
       " '__delattr__',\n",
       " '__dir__',\n",
       " '__doc__',\n",
       " '__eq__',\n",
       " '__format__',\n",
       " '__ge__',\n",
       " '__getattribute__',\n",
       " '__getitem__',\n",
       " '__getnewargs__',\n",
       " '__gt__',\n",
       " '__hash__',\n",
       " '__init__',\n",
       " '__init_subclass__',\n",
       " '__iter__',\n",
       " '__le__',\n",
       " '__len__',\n",
       " '__lt__',\n",
       " '__mod__',\n",
       " '__mul__',\n",
       " '__ne__',\n",
       " '__new__',\n",
       " '__reduce__',\n",
       " '__reduce_ex__',\n",
       " '__repr__',\n",
       " '__rmod__',\n",
       " '__rmul__',\n",
       " '__setattr__',\n",
       " '__sizeof__',\n",
       " '__str__',\n",
       " '__subclasshook__',\n",
       " 'capitalize',\n",
       " 'casefold',\n",
       " 'center',\n",
       " 'count',\n",
       " 'encode',\n",
       " 'endswith',\n",
       " 'expandtabs',\n",
       " 'find',\n",
       " 'format',\n",
       " 'format_map',\n",
       " 'index',\n",
       " 'isalnum',\n",
       " 'isalpha',\n",
       " 'isdecimal',\n",
       " 'isdigit',\n",
       " 'isidentifier',\n",
       " 'islower',\n",
       " 'isnumeric',\n",
       " 'isprintable',\n",
       " 'isspace',\n",
       " 'istitle',\n",
       " 'isupper',\n",
       " 'join',\n",
       " 'ljust',\n",
       " 'lower',\n",
       " 'lstrip',\n",
       " 'maketrans',\n",
       " 'partition',\n",
       " 'replace',\n",
       " 'rfind',\n",
       " 'rindex',\n",
       " 'rjust',\n",
       " 'rpartition',\n",
       " 'rsplit',\n",
       " 'rstrip',\n",
       " 'split',\n",
       " 'splitlines',\n",
       " 'startswith',\n",
       " 'strip',\n",
       " 'swapcase',\n",
       " 'title',\n",
       " 'translate',\n",
       " 'upper',\n",
       " 'zfill']"
      ]
     },
     "execution_count": 82,
     "metadata": {},
     "output_type": "execute_result"
    }
   ],
   "source": [
    "dir(s)"
   ]
  },
  {
   "cell_type": "code",
   "execution_count": null,
   "metadata": {},
   "outputs": [],
   "source": []
  }
 ],
 "metadata": {
  "kernelspec": {
   "display_name": "Python 3",
   "language": "python",
   "name": "python3"
  },
  "language_info": {
   "codemirror_mode": {
    "name": "ipython",
    "version": 3
   },
   "file_extension": ".py",
   "mimetype": "text/x-python",
   "name": "python",
   "nbconvert_exporter": "python",
   "pygments_lexer": "ipython3",
   "version": "3.6.5"
  }
 },
 "nbformat": 4,
 "nbformat_minor": 2
}
