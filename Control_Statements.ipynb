{
 "cells": [
  {
   "cell_type": "markdown",
   "metadata": {},
   "source": [
    "# Control Statements"
   ]
  },
  {
   "cell_type": "code",
   "execution_count": 2,
   "metadata": {},
   "outputs": [],
   "source": [
    "# : --> indentation operator\n",
    "#if condition:\n",
    "# statement 1\n",
    "#elif :\n",
    "#statement 2\n",
    "#else :\n",
    "#statement 3\n",
    "#"
   ]
  },
  {
   "cell_type": "code",
   "execution_count": 4,
   "metadata": {},
   "outputs": [
    {
     "name": "stdout",
     "output_type": "stream",
     "text": [
      "enter the number: 5\n",
      "odd\n"
     ]
    }
   ],
   "source": [
    "#even odd\n",
    "\n",
    "num = int(input(\"enter the number: \"))\n",
    "if num % 2 :\n",
    "    print(\"odd\")\n",
    "else:\n",
    "    print(\"even\")\n",
    "    \n",
    "        "
   ]
  },
  {
   "cell_type": "code",
   "execution_count": 7,
   "metadata": {},
   "outputs": [
    {
     "name": "stdout",
     "output_type": "stream",
     "text": [
      "Enter a String: lol\n",
      "foo | bar\n"
     ]
    }
   ],
   "source": [
    "s = input(\"Enter a String: \")\n",
    "if s == \"foo\":\n",
    "    print(\"bar\")\n",
    "elif s == \"bar\":\n",
    "    print(\"foo\")\n",
    "else :\n",
    "    print(\"foo | bar\")\n",
    "    "
   ]
  },
  {
   "cell_type": "code",
   "execution_count": 9,
   "metadata": {},
   "outputs": [
    {
     "name": "stdout",
     "output_type": "stream",
     "text": [
      "Enter a String:    FOO   \n",
      "bar\n"
     ]
    }
   ],
   "source": [
    "#different condtion\n",
    "\n",
    "f = input(\"Enter a String: \").strip().lower() # will remove all leading spaces and then turn the string into lower case\n",
    "if f == \"foo\" :\n",
    "    print(\"bar\")\n",
    "elif f == \"bar\":\n",
    "    print(\"foo\")\n",
    "else :\n",
    "    print(\"foo | bar\")\n",
    "    "
   ]
  },
  {
   "cell_type": "code",
   "execution_count": 18,
   "metadata": {},
   "outputs": [
    {
     "name": "stdout",
     "output_type": "stream",
     "text": [
      "Enter a No: 5\n",
      "Enter another No:6\n",
      "Enter another No:3\n",
      "6 is the greatest\n"
     ]
    }
   ],
   "source": [
    "#greatest among three\n",
    "x = int(input(\"Enter a No: \"))\n",
    "y = int(input (\"Enter another No:\"))\n",
    "z = int(input (\"Enter another No:\"))\n",
    "if x >= y and x >= z:\n",
    "    print(\"{} is the Greatest\".format(x))\n",
    "elif y >= x and y >= z:\n",
    "    print(\"{} is the greatest\".format(y))\n",
    "else :\n",
    "    print(\"{} is the greatest\".format(z))\n",
    "    "
   ]
  },
  {
   "cell_type": "code",
   "execution_count": 21,
   "metadata": {},
   "outputs": [
    {
     "name": "stdout",
     "output_type": "stream",
     "text": [
      "Enter a No: 5\n",
      "Enter another No:6\n",
      "Enter another No:8\n",
      "8 is the greatest.\n"
     ]
    }
   ],
   "source": [
    "x = int(input(\"Enter a No: \"))\n",
    "y = int(input (\"Enter another No:\"))\n",
    "z = int(input (\"Enter another No:\"))\n",
    "if x > y :\n",
    "    if x > z :\n",
    "        print(\"%d is the greatest.\"%(x))\n",
    "    else :\n",
    "        print(\"%d is the greatest.\"%(z))\n",
    "elif y > z :\n",
    "        print(\"%d is the greatest.\"%(y))\n",
    "else :\n",
    "        print(\"%d is the greatest.\"%(z))\n",
    "        "
   ]
  },
  {
   "cell_type": "code",
   "execution_count": 32,
   "metadata": {},
   "outputs": [
    {
     "name": "stdout",
     "output_type": "stream",
     "text": [
      "Value 1: 5\n",
      "Value 2: 5\n",
      "Enter the type:+\n",
      "10.0\n"
     ]
    }
   ],
   "source": [
    "#calculator\n",
    "x = float(input(\"Value 1: \"))\n",
    "y = float(input(\"Value 2: \"))\n",
    "z = input(\"Enter the type:\")\n",
    "if z == '+' :\n",
    "    print(x+y)\n",
    "elif z == '-' :\n",
    "    print(x-y)\n",
    "elif z == '*' :\n",
    "    print(x*y)\n",
    "elif z == '/' :\n",
    "    print(x/y)\n",
    "elif z == '%':\n",
    "    print(x%y)\n",
    "elif z == '**':\n",
    "    print(x**y)\n",
    "elif z == '//':\n",
    "    print(x//y)\n",
    "else :\n",
    "    print(\"Wrong Input\")\n",
    "    \n"
   ]
  },
  {
   "cell_type": "code",
   "execution_count": 36,
   "metadata": {},
   "outputs": [
    {
     "name": "stdout",
     "output_type": "stream",
     "text": [
      "Enter the Value:5\n",
      "your month is : May\n"
     ]
    }
   ],
   "source": [
    "mon = int(input(\"Enter the Value:\"))\n",
    "if mon == 1:\n",
    "    p = \"January\"\n",
    "elif mon == 2:\n",
    "       p = 'Feb'\n",
    "elif mon == 3:\n",
    "        p = 'March'\n",
    "elif mon == 4:\n",
    "        p = 'April'\n",
    "elif mon == 5:\n",
    "        p = 'May'\n",
    "elif mon == 6:\n",
    "        p = 'June'\n",
    "elif mon == 7:\n",
    "        p = 'july'\n",
    "elif mon == 8:\n",
    "        p = 'August'\n",
    "elif mon == 9:\n",
    "        p = 'Sept'\n",
    "elif mon == 10:\n",
    "        p = 'Oct'\n",
    "elif mon == 11:\n",
    "        p = 'Nov'\n",
    "elif mon == 12:\n",
    "        p = 'Dec'\n",
    "else :\n",
    "    p = 'wrong Choise'\n",
    "\n",
    "print (\"your month is :\",p)\n"
   ]
  },
  {
   "cell_type": "code",
   "execution_count": 38,
   "metadata": {},
   "outputs": [
    {
     "name": "stdout",
     "output_type": "stream",
     "text": [
      "month no 1-12:8\n",
      "aug\n"
     ]
    }
   ],
   "source": [
    "#short program for calender\n",
    "l = ['jan','feb','mar','apr','may','june','july','aug','sept','oct','nov','dec']\n",
    "m = int(input(\"month no 1-12:\"))\n",
    "if m >= 1 and m <=12 :\n",
    "    print (l[m-1])\n",
    "else :\n",
    "    print(\"input error\")"
   ]
  },
  {
   "cell_type": "code",
   "execution_count": 50,
   "metadata": {},
   "outputs": [
    {
     "name": "stdout",
     "output_type": "stream",
     "text": [
      "Month No 1-12: 5\n",
      "Months Before This are: Jan Feb Mar Apr\n",
      "Current Choise of Month is: May\n",
      "Months After This are: June July Aug Sept Oct Nov Dec\n"
     ]
    }
   ],
   "source": [
    "#Print the previous month using list\n",
    "l = ['Jan','Feb','Mar','Apr','May','June','July','Aug','Sept','Oct','Nov','Dec']\n",
    "m = int(input(\"Month No 1-12: \"))\n",
    "if m >= 1 and m <=12 :\n",
    "    a = l[0:m-1]\n",
    "    b = l[m:]\n",
    "    print ('Months Before This are:',*a)\n",
    "    print ('Current Choise of Month is:',l[m-1])\n",
    "    print ('Months After This are:',*b)\n",
    "else :\n",
    "    print(\"Input Error\")"
   ]
  },
  {
   "cell_type": "code",
   "execution_count": 70,
   "metadata": {},
   "outputs": [
    {
     "name": "stdout",
     "output_type": "stream",
     "text": [
      "Enter the month to check if leap year or not:2013\n",
      "this is not a leap year\n"
     ]
    }
   ],
   "source": [
    "#to check if there is leap year or not\n",
    "m = int(input(\"Enter the month to check if leap year or not:\"))\n",
    "if ((m % 100 and) (m % 4 == 0 )) or ( m % 400 == 0 ) :\n",
    "    print ('this is a leap year')\n",
    "else :\n",
    "    print('this is not a leap year')"
   ]
  },
  {
   "cell_type": "code",
   "execution_count": 81,
   "metadata": {},
   "outputs": [
    {
     "name": "stdout",
     "output_type": "stream",
     "text": [
      "Enter a String:abc\n"
     ]
    },
    {
     "data": {
      "text/plain": [
       "True"
      ]
     },
     "execution_count": 81,
     "metadata": {},
     "output_type": "execute_result"
    }
   ],
   "source": [
    "s = input(\"Enter a String:\")\n",
    "s.isalnum()"
   ]
  },
  {
   "cell_type": "code",
   "execution_count": 19,
   "metadata": {},
   "outputs": [
    {
     "name": "stdout",
     "output_type": "stream",
     "text": [
      "['__add__', '__class__', '__contains__', '__delattr__', '__dir__', '__doc__', '__eq__', '__format__', '__ge__', '__getattribute__', '__getitem__', '__getnewargs__', '__gt__', '__hash__', '__init__', '__init_subclass__', '__iter__', '__le__', '__len__', '__lt__', '__mul__', '__ne__', '__new__', '__reduce__', '__reduce_ex__', '__repr__', '__rmul__', '__setattr__', '__sizeof__', '__str__', '__subclasshook__', 'count', 'index']\n"
     ]
    }
   ],
   "source": [
    "print(dir(s))"
   ]
  },
  {
   "cell_type": "code",
   "execution_count": 23,
   "metadata": {},
   "outputs": [
    {
     "name": "stdout",
     "output_type": "stream",
     "text": [
      "{'name': 'yolo', 'year': '1945', 'lol': 'gg', 'framework': {'gg': 'yolo', 'raw': ['xps', 'zz', {'ishita': '89', 'age': 4567, 'akshay': 789}]}}\n"
     ]
    }
   ],
   "source": [
    "info = {'name': 'yolo',\n",
    "       'year':'1945',\n",
    "       'lol':'gg',\n",
    "       'framework':{\n",
    "                       'gg':'yolo','raw': ['xps','zz',{'ishita':'89','age':12,'akshay':789} ]\n",
    "                   }\n",
    "       }\n",
    "print(info)"
   ]
  },
  {
   "cell_type": "code",
   "execution_count": 3,
   "metadata": {},
   "outputs": [
    {
     "name": "stdout",
     "output_type": "stream",
     "text": [
      "yolo\n"
     ]
    }
   ],
   "source": [
    "name = info['name']\n",
    "print(name)"
   ]
  },
  {
   "cell_type": "code",
   "execution_count": 24,
   "metadata": {},
   "outputs": [
    {
     "name": "stdout",
     "output_type": "stream",
     "text": [
      "4567\n"
     ]
    }
   ],
   "source": [
    "name = info ['framework']['raw'][2]['age']\n",
    "print(name)"
   ]
  },
  {
   "cell_type": "code",
   "execution_count": 26,
   "metadata": {},
   "outputs": [
    {
     "name": "stdout",
     "output_type": "stream",
     "text": [
      "{'name': 'yolo', 'year': '1945', 'lol': 'gg', 'framework': {'gg': 'yolo', 'raw': ['xps', 'zz', {'ishita': '89', 'age': 4567, 'akshay': 789}]}, 'xx': 594}\n"
     ]
    }
   ],
   "source": [
    "info ['xx'] = 594\n",
    "print (info)"
   ]
  },
  {
   "cell_type": "code",
   "execution_count": 27,
   "metadata": {},
   "outputs": [
    {
     "name": "stdout",
     "output_type": "stream",
     "text": [
      "{'name': 'yolo', 'year': '1945', 'lol': 'gg', 'framework': {'gg': 'yolo', 'raw': ['xps', 'zz', {'ishita': '89', 'age': 4567, 'akshay': 789}]}, 'xx': 789}\n"
     ]
    }
   ],
   "source": [
    "info ['xx'] = 789\n",
    "print (info)"
   ]
  },
  {
   "cell_type": "code",
   "execution_count": 36,
   "metadata": {},
   "outputs": [
    {
     "name": "stdout",
     "output_type": "stream",
     "text": [
      "None\n"
     ]
    }
   ],
   "source": [
    "info.get('name')\n",
    "k = info.get('name3')\n",
    "print(k)"
   ]
  },
  {
   "cell_type": "code",
   "execution_count": 39,
   "metadata": {},
   "outputs": [
    {
     "name": "stdout",
     "output_type": "stream",
     "text": [
      "Enter your string: ishi\n",
      "None\n"
     ]
    }
   ],
   "source": [
    "key = input(\"Enter your string: \").strip()\n",
    "value = info.get(key)\n",
    "print(value)"
   ]
  },
  {
   "cell_type": "code",
   "execution_count": 41,
   "metadata": {},
   "outputs": [
    {
     "name": "stdout",
     "output_type": "stream",
     "text": [
      "dict_keys(['name', 'year', 'lol', 'framework', 'xx'])\n",
      "dict_values(['yolo', '1945', 'gg', {'gg': 'yolo', 'raw': ['xps', 'zz', {'ishita': '89', 'age': 4567, 'akshay': 789}]}, 789])\n"
     ]
    }
   ],
   "source": [
    "print(info.keys())\n",
    "print(info.values())"
   ]
  },
  {
   "cell_type": "code",
   "execution_count": 43,
   "metadata": {},
   "outputs": [
    {
     "data": {
      "text/plain": [
       "6"
      ]
     },
     "execution_count": 43,
     "metadata": {},
     "output_type": "execute_result"
    }
   ],
   "source": [
    "#alwasys sepetrate tupples with comma\n",
    "l = [\n",
    "    ('key','lol'),\n",
    "    ('gg', 6),\n",
    "    ('fool','zoom','helo'),\n",
    "    (9,0)\n",
    "]\n",
    "l[1][1]\n"
   ]
  },
  {
   "cell_type": "code",
   "execution_count": 61,
   "metadata": {},
   "outputs": [
    {
     "name": "stdout",
     "output_type": "stream",
     "text": [
      "{1, 2, 3, 4, 5, 7, 8, 9}\n",
      "{0, 34, 2, 5, 7, 8, 9, 87}\n",
      "{0, 34, 87}\n",
      "{0, 1, 34, 2, 3, 5, 4, 7, 8, 9, 87}\n",
      "False\n",
      "{2, 5, 7, 8, 9}\n"
     ]
    }
   ],
   "source": [
    "#sets are unorderded and cannot be pridected that what will be the output\n",
    "s1 = {5,5,8,8,9,9,7,7,5,1,2,3,4}\n",
    "print(s1)\n",
    "s = {8,0,34,87,2,9,0,5,7,2,}\n",
    "print(s)\n",
    "print(s.difference(s1))\n",
    "print(s.union(s1))\n",
    "print(s.issubset(s1))\n",
    "print(s.intersection(s1))"
   ]
  },
  {
   "cell_type": "markdown",
   "metadata": {},
   "source": [
    "# Type Conversion"
   ]
  },
  {
   "cell_type": "code",
   "execution_count": null,
   "metadata": {},
   "outputs": [],
   "source": [
    "x = input(\"X : \")\n",
    "print(x)"
   ]
  },
  {
   "cell_type": "code",
   "execution_count": 5,
   "metadata": {},
   "outputs": [
    {
     "name": "stdout",
     "output_type": "stream",
     "text": [
      "d\n",
      "13\n"
     ]
    }
   ],
   "source": [
    "z = input()\n",
    "z = int(z,16)\n",
    "print(z)"
   ]
  },
  {
   "cell_type": "code",
   "execution_count": 6,
   "metadata": {},
   "outputs": [
    {
     "name": "stdout",
     "output_type": "stream",
     "text": [
      "60259627\n"
     ]
    }
   ],
   "source": [
    "x = \"345676453\"\n",
    "y =int(x, 8)\n",
    "print(y)"
   ]
  },
  {
   "cell_type": "code",
   "execution_count": 8,
   "metadata": {},
   "outputs": [
    {
     "name": "stdout",
     "output_type": "stream",
     "text": [
      "7894656\n",
      "0b11110000111011010000000\n",
      "0x787680\n",
      "0o36073200\n"
     ]
    }
   ],
   "source": [
    "x = 7894656\n",
    "y = bin(x)\n",
    "z = hex(x)\n",
    "p = oct(x)\n",
    "print(x)\n",
    "print(y)\n",
    "print(z)\n",
    "print(p)"
   ]
  },
  {
   "cell_type": "code",
   "execution_count": 10,
   "metadata": {},
   "outputs": [
    {
     "name": "stdout",
     "output_type": "stream",
     "text": [
      "ey': \n",
      "}3 :'eerht' ,'mooz' :'gg' ,321 :'yek'{\n"
     ]
    }
   ],
   "source": [
    "a = str({'key':123,\"gg\":\"zoom\",\"three\":3})\n",
    "print(a[3:8])\n",
    "print(a[::-1])"
   ]
  },
  {
   "cell_type": "code",
   "execution_count": 12,
   "metadata": {},
   "outputs": [
    {
     "name": "stdout",
     "output_type": "stream",
     "text": [
      "[1, 2, 3, 5, 'hello', 'hi']\n",
      "['y', 'o', 'l', 'o', ' ', 'm', 'a', 'n']\n",
      "['one', 'two', 'three']\n",
      "[1, 2, 3, 'hello']\n",
      "('y', 'o', 'l', 'o', ' ', 'm', 'a', 'n')\n"
     ]
    }
   ],
   "source": [
    "#list(sequence) & tuple (immutable)\n",
    "t = (1,2,3,5,'hello','hi')\n",
    "s = 'yolo man'\n",
    "d = {'one':1, 'two':2,'three':3}\n",
    "s1 = {1,2,3,'hello'}\n",
    "a = list(t)\n",
    "b = list(s)\n",
    "c = list(d)\n",
    "d = list(s1)\n",
    "s = tuple(s)\n",
    "print(a)\n",
    "print(b)\n",
    "print(c)\n",
    "print(d)\n",
    "print(s)"
   ]
  },
  {
   "cell_type": "code",
   "execution_count": 27,
   "metadata": {},
   "outputs": [
    {
     "name": "stdout",
     "output_type": "stream",
     "text": [
      "{'one': 1, ('two', 2): 'three', 'version': 3, 'p': 'y'}\n"
     ]
    }
   ],
   "source": [
    "#list()\n",
    "#tuple()\n",
    "l = [('one',1),(('two', 2),'three'),(\"version\",3),'py']\n",
    "z = dict(l)\n",
    "print(z)\n",
    "\n"
   ]
  },
  {
   "cell_type": "code",
   "execution_count": 29,
   "metadata": {},
   "outputs": [
    {
     "name": "stdout",
     "output_type": "stream",
     "text": [
      "{'y', 't', 'h', 'p', 'n', 'o'}\n",
      "{1, 2, 3}\n"
     ]
    }
   ],
   "source": [
    "#sets\n",
    "l = set(\"python\")\n",
    "print(l)\n",
    "d = set ({1:'o', 2 :'t', 3:'th'})\n",
    "y = set(d)\n",
    "print(y)\n",
    "\n"
   ]
  },
  {
   "cell_type": "code",
   "execution_count": null,
   "metadata": {},
   "outputs": [],
   "source": []
  }
 ],
 "metadata": {
  "kernelspec": {
   "display_name": "Python 3",
   "language": "python",
   "name": "python3"
  },
  "language_info": {
   "codemirror_mode": {
    "name": "ipython",
    "version": 3
   },
   "file_extension": ".py",
   "mimetype": "text/x-python",
   "name": "python",
   "nbconvert_exporter": "python",
   "pygments_lexer": "ipython3",
   "version": "3.6.5"
  }
 },
 "nbformat": 4,
 "nbformat_minor": 2
}
