{
 "cells": [
  {
   "cell_type": "code",
   "execution_count": 10,
   "metadata": {},
   "outputs": [
    {
     "name": "stdout",
     "output_type": "stream",
     "text": [
      "Enter the terms: 10\n",
      "Enter the terms you want sum: 2\n",
      "0\n",
      "1\tSum:  1\n",
      "1\tSum:  1\n",
      "2\tSum:  1\n",
      "3\tSum:  1\n",
      "5\tSum:  1\n",
      "8\tSum:  1\n",
      "13\tSum:  1\n",
      "21\tSum:  1\n",
      "34\tSum:  1\n"
     ]
    }
   ],
   "source": [
    "#fobonicai serise\n",
    "a,b = 0,1\n",
    "num = int(input('Enter the terms: '))\n",
    "terms = int(input(\"Enter the terms you want sum: \"))\n",
    "c = 1 \n",
    "print(0)\n",
    "sum = 0\n",
    "while c < num :\n",
    "    print(b,end='\\t')\n",
    "    if c < terms :\n",
    "        sum = sum + b\n",
    "    a,b = b, a+b\n",
    "    c = c+ 1\n",
    "    print('Sum: ',sum)"
   ]
  },
  {
   "cell_type": "code",
   "execution_count": 16,
   "metadata": {},
   "outputs": [
    {
     "name": "stdout",
     "output_type": "stream",
     "text": [
      "enter the sum of terms:10\n",
      "0\t1\t1\t2\t3\t5\t"
     ]
    }
   ],
   "source": [
    "\n",
    "a, b = 0,1\n",
    "num = int(input('enter the sum of terms:') )\n",
    "s = 0\n",
    "print(0,end='\\t')\n",
    "while s < num :\n",
    "    s += b\n",
    "    print(b,end=\"\\t\")\n",
    "    a,b = b ,a+b"
   ]
  },
  {
   "cell_type": "code",
   "execution_count": 2,
   "metadata": {},
   "outputs": [
    {
     "name": "stdout",
     "output_type": "stream",
     "text": [
      "1\n",
      "hello world\n",
      "hello world\n",
      "3\n",
      "hello world\n",
      "hello world\n",
      "5\n",
      "hello world\n",
      "hello world\n",
      "7\n",
      "hello world\n",
      "hello world\n",
      "9\n",
      "hello world\n",
      "hello world\n",
      "I will not execute beacuse loop will break\n"
     ]
    }
   ],
   "source": [
    "c = 1\n",
    "while c <= 10 :\n",
    "    if c % 2:\n",
    "        print(c)\n",
    "    elif c == 5 :\n",
    "        break\n",
    "    c = c + 1\n",
    "    if c % 3 or c % 4 :\n",
    "        print(\"hello world\")\n",
    "else :\n",
    "     print(\"I will not execute beacuse loop will break\")\n",
    "    "
   ]
  },
  {
   "cell_type": "code",
   "execution_count": 5,
   "metadata": {},
   "outputs": [
    {
     "name": "stdout",
     "output_type": "stream",
     "text": [
      "1\n"
     ]
    }
   ],
   "source": [
    "x = 1\n",
    "if x <= 10 :\n",
    "    if x % 2 :\n",
    "        y = 1\n",
    "    else :\n",
    "        y = 2\n",
    "    print(x)\n",
    "    x = x + y\n",
    "else :\n",
    "    print(\"do or die\")"
   ]
  },
  {
   "cell_type": "code",
   "execution_count": null,
   "metadata": {},
   "outputs": [],
   "source": []
  }
 ],
 "metadata": {
  "kernelspec": {
   "display_name": "Python 3",
   "language": "python",
   "name": "python3"
  },
  "language_info": {
   "codemirror_mode": {
    "name": "ipython",
    "version": 3
   },
   "file_extension": ".py",
   "mimetype": "text/x-python",
   "name": "python",
   "nbconvert_exporter": "python",
   "pygments_lexer": "ipython3",
   "version": "3.6.5"
  }
 },
 "nbformat": 4,
 "nbformat_minor": 2
}
