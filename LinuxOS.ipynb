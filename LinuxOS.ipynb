{
 "cells": [
  {
   "cell_type": "markdown",
   "metadata": {},
   "source": [
    "# Linux Operating System"
   ]
  },
  {
   "cell_type": "code",
   "execution_count": null,
   "metadata": {},
   "outputs": [],
   "source": [
    "Importan Commands"
   ]
  },
  {
   "cell_type": "code",
   "execution_count": null,
   "metadata": {},
   "outputs": [],
   "source": [
    "WC #word count \n",
    "ls | wc # reads the commands word count tells you how many commands you have\n",
    "\n",
    "grep #pattern searching utility\n",
    "grep #searches the pattern of the word in the current directory\n",
    "\n",
    "du # shows the usage of every file on the sytem\n",
    "du -h #this shows the data into human read able form\n",
    "\n",
    "bashrc # defines the command on the system , can be used to create the new commands , command must be on the top of the file entry\n",
    "\n",
    "useradd nameoftheuser #this is used to create new users in the linux\n",
    "passwd nameoftheuser #this is used to set password for the user in linux\n",
    "\n",
    "mount /dev/sdb1 /mnt #to mount a drive on the current system\n",
    "umount #to unmount a drive on the current system\n",
    "mkfs. #to show all the file system avilabes on the current system\n",
    "mkfs. selectedfilesystem # to make a file system to use on the system\n",
    "\n",
    "touch #to create a new file\n",
    "touch a#initial {1..10}#limit\n",
    "\n",
    "mkdir #to create a new dir\n",
    "mkdir akshay#initial {1..5}#limit\n",
    "\n",
    "rm #to remove a target\n",
    "rm -f #to remove wiht force\n",
    "rm -f*[1-9] #example\n",
    "rm -rf *[1-9] #example for directory\n",
    "rm -rf * #delets everything on the current working direcotry\n",
    "rm -rf */ #destruction of the current system you are working on\n",
    "\n",
    "!mo #to use the last known command in the current terminal\n",
    "\n",
    "df -h #to show diskt useage in the filesystem of the current system into human readable form\n",
    "df -m #to check the current mounted devices in human readbale form\n",
    "\n",
    "mail username #to mail to someone using terminal\n",
    ". #into to the end of the file to end it\n",
    "mailq #to check the outsanding mails on the current system or terminal\n",
    "get mailorusername #to check the mail you sent recently or previous\n",
    "\n",
    "ps -aux #to show the current processes on the current system\n",
    "ps -aux | less #to filter the current data shown by the ps -aux\n",
    "\n",
    "processname & #to run it in the current system\n",
    "jobs #to show the current running applications by the user \n",
    "fg id #to bring any process in the forground of the system\n",
    "\n",
    "ps -aux | wc -l #list the number of the current processes on the system\n",
    "\n",
    "\n"
   ]
  }
 ],
 "metadata": {
  "kernelspec": {
   "display_name": "Python 3",
   "language": "python",
   "name": "python3"
  },
  "language_info": {
   "codemirror_mode": {
    "name": "ipython",
    "version": 3
   },
   "file_extension": ".py",
   "mimetype": "text/x-python",
   "name": "python",
   "nbconvert_exporter": "python",
   "pygments_lexer": "ipython3",
   "version": "3.6.5"
  }
 },
 "nbformat": 4,
 "nbformat_minor": 2
}
