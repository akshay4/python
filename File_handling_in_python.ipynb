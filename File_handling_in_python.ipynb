{
 "cells": [
  {
   "cell_type": "markdown",
   "metadata": {},
   "source": [
    "# File Handling in Python"
   ]
  },
  {
   "cell_type": "code",
   "execution_count": 1,
   "metadata": {},
   "outputs": [],
   "source": [
    "#type of files\n",
    "# text & Binary File"
   ]
  },
  {
   "cell_type": "code",
   "execution_count": null,
   "metadata": {},
   "outputs": [],
   "source": [
    "fp = open (\"pathtofile\",'mode','buffer')\n",
    "fp.read() #reads till end\n",
    "fp.readline() #reads a single line\n",
    "fp.write(srting) #wites string to file\n",
    "fp.seek(byte#20) #defiens positon of pointer to that line or character\n",
    "fp.tell()\n",
    "fp.name()#to get file name\n",
    "fp.readable() #returns true or false\n",
    "fp.writeable() #return true or false\n",
    "fp.mode#returns the mode of file\n",
    "    \n"
   ]
  }
 ],
 "metadata": {
  "kernelspec": {
   "display_name": "Python 3",
   "language": "python",
   "name": "python3"
  },
  "language_info": {
   "codemirror_mode": {
    "name": "ipython",
    "version": 3
   },
   "file_extension": ".py",
   "mimetype": "text/x-python",
   "name": "python",
   "nbconvert_exporter": "python",
   "pygments_lexer": "ipython3",
   "version": "3.6.5"
  }
 },
 "nbformat": 4,
 "nbformat_minor": 2
}
