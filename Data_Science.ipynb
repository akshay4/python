{
 "cells": [
  {
   "cell_type": "markdown",
   "metadata": {},
   "source": [
    "# Data Science"
   ]
  },
  {
   "cell_type": "code",
   "execution_count": 6,
   "metadata": {},
   "outputs": [
    {
     "name": "stdout",
     "output_type": "stream",
     "text": [
      "Counter({92: 4, 11: 3, 68: 3, 1: 2, 12: 2, 13: 2, 18: 2, 20: 2, 24: 2, 29: 2, 30: 2, 34: 2, 35: 2, 46: 2, 47: 2, 59: 2, 62: 2, 71: 2, 73: 2, 76: 2, 78: 2, 81: 2, 82: 2, 86: 2, 93: 2, 95: 2, 100: 2, 4: 1, 5: 1, 6: 1, 10: 1, 15: 1, 16: 1, 17: 1, 19: 1, 21: 1, 22: 1, 26: 1, 27: 1, 28: 1, 36: 1, 37: 1, 38: 1, 40: 1, 42: 1, 48: 1, 49: 1, 50: 1, 54: 1, 56: 1, 57: 1, 60: 1, 63: 1, 65: 1, 67: 1, 69: 1, 70: 1, 72: 1, 77: 1, 80: 1, 84: 1, 88: 1, 89: 1, 90: 1, 94: 1, 96: 1, 97: 1, 98: 1, 99: 1})\n"
     ]
    }
   ],
   "source": [
    "#to find frequencey of data in a random data list\n",
    "from random import randint\n",
    "from collections import Counter\n",
    "l = []\n",
    "for var in range(100):\n",
    "    l.append(randint(1,100))\n",
    "l.sort()\n",
    "print(Counter(l))"
   ]
  },
  {
   "cell_type": "code",
   "execution_count": 21,
   "metadata": {},
   "outputs": [
    {
     "name": "stdout",
     "output_type": "stream",
     "text": [
      "Items:  [1, 1, 2, 3, 4, 4, 4, 4, 5, 5, 7, 7, 7, 7, 8, 8, 9, 10, 10, 10]\n",
      "\n",
      "Items:\t\tFrequency:\n",
      "1 \t\t 2\n",
      "2 \t\t 1\n",
      "3 \t\t 1\n",
      "4 \t\t 4\n",
      "5 \t\t 2\n",
      "7 \t\t 4\n",
      "8 \t\t 2\n",
      "9 \t\t 1\n",
      "10 \t\t 3\n"
     ]
    }
   ],
   "source": [
    "#to find frequencey of data in a random data list\n",
    "from random import randint\n",
    "l = []\n",
    "i = 0\n",
    "c = []\n",
    "j = None\n",
    "for var in range(20): # no of intergers\n",
    "    l.append(randint(1,10)) # limiti of numbers\n",
    "l.sort()\n",
    "print(\"Items: \",l)\n",
    "print()\n",
    "print(\"Items:\\t\\tFrequency:\")\n",
    "for f in l :\n",
    "    if f != j :\n",
    "        c.append(l.count(f))\n",
    "        print(f,\"\\t\\t\",c[i])\n",
    "        i += 1\n",
    "    j = f"
   ]
  },
  {
   "cell_type": "code",
   "execution_count": 15,
   "metadata": {},
   "outputs": [
    {
     "name": "stdout",
     "output_type": "stream",
     "text": [
      "Enter the no of Observations: 1000\n",
      "from 1000 observations we get classes : 11 \n"
     ]
    }
   ],
   "source": [
    "import math\n",
    "n = int(input(\"Enter the no of Observations: \"))\n",
    "k = 1 + (3.22*math.log10(n))\n",
    "print(\"from {} observations we get classes : {} \".format(n,round(k)))"
   ]
  },
  {
   "cell_type": "code",
   "execution_count": 17,
   "metadata": {},
   "outputs": [],
   "source": [
    "#mean of group data table\n",
    "import math\n"
   ]
  },
  {
   "cell_type": "code",
   "execution_count": 38,
   "metadata": {},
   "outputs": [
    {
     "name": "stdout",
     "output_type": "stream",
     "text": [
      "20\n",
      "5.402000000000001\n",
      "[5, 5.1, 5.1, 5.1, 5.11, 5.11, 5.11, 5.11, 5.3, 5.3, 5.3, 5.4, 5.4, 5.6, 5.6, 5.8, 5.8, 5.8, 5.9, 6.1]\n",
      "\n",
      "{5.11, 5.1, 5, 5.4, 5.3, 5.6, 5.8, 5.9, 6.1}\n",
      "\n",
      "[[5.11, 4], [5.1, 3], [5, 1], [5.4, 2], [5.3, 3], [5.6, 2], [5.8, 3], [5.9, 1], [6.1, 1]]\n",
      "\n",
      "5.11 4\n",
      "5.1 3\n",
      "5 1\n",
      "5.4 2\n",
      "5.3 3\n",
      "5.6 2\n",
      "5.8 3\n",
      "5.9 1\n",
      "6.1 1\n"
     ]
    }
   ],
   "source": [
    "l = [5.11,5.10,5.8,5.8,5.10,5.6,6.1,5.1,5.3,5.6,5.11,5.3,5.11,5.11,5.9,5,5.4,5.3,5.8,5.4]\n",
    "n=len(l)\n",
    "print(n) \n",
    "arthmeatic_mean = sum(l)/n\n",
    "print(arthmeatic_mean)\n",
    "sorted_data = sorted(l)\n",
    "print(sorted_data)\n",
    "print()\n",
    "keys = set(sorted_data)\n",
    "print(keys)\n",
    "print()\n",
    "freq = []\n",
    "for var in keys :\n",
    "    freq.append([var,sorted_data.count(var)])\n",
    "print(freq)\n",
    "print()\n",
    "for var in freq:\n",
    "    print(*var)"
   ]
  },
  {
   "cell_type": "code",
   "execution_count": null,
   "metadata": {},
   "outputs": [],
   "source": [
    "for"
   ]
  }
 ],
 "metadata": {
  "kernelspec": {
   "display_name": "Python 3",
   "language": "python",
   "name": "python3"
  },
  "language_info": {
   "codemirror_mode": {
    "name": "ipython",
    "version": 3
   },
   "file_extension": ".py",
   "mimetype": "text/x-python",
   "name": "python",
   "nbconvert_exporter": "python",
   "pygments_lexer": "ipython3",
   "version": "3.6.6"
  }
 },
 "nbformat": 4,
 "nbformat_minor": 2
}
