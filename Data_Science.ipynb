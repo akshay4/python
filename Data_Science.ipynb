{
 "cells": [
  {
   "cell_type": "markdown",
   "metadata": {},
   "source": [
    "# Data Science"
   ]
  },
  {
   "cell_type": "code",
   "execution_count": 6,
   "metadata": {},
   "outputs": [
    {
     "name": "stdout",
     "output_type": "stream",
     "text": [
      "Counter({92: 4, 11: 3, 68: 3, 1: 2, 12: 2, 13: 2, 18: 2, 20: 2, 24: 2, 29: 2, 30: 2, 34: 2, 35: 2, 46: 2, 47: 2, 59: 2, 62: 2, 71: 2, 73: 2, 76: 2, 78: 2, 81: 2, 82: 2, 86: 2, 93: 2, 95: 2, 100: 2, 4: 1, 5: 1, 6: 1, 10: 1, 15: 1, 16: 1, 17: 1, 19: 1, 21: 1, 22: 1, 26: 1, 27: 1, 28: 1, 36: 1, 37: 1, 38: 1, 40: 1, 42: 1, 48: 1, 49: 1, 50: 1, 54: 1, 56: 1, 57: 1, 60: 1, 63: 1, 65: 1, 67: 1, 69: 1, 70: 1, 72: 1, 77: 1, 80: 1, 84: 1, 88: 1, 89: 1, 90: 1, 94: 1, 96: 1, 97: 1, 98: 1, 99: 1})\n"
     ]
    }
   ],
   "source": [
    "#to find frequencey of data in a random data list\n",
    "from random import randint\n",
    "from collections import Counter\n",
    "l = []\n",
    "for var in range(100):\n",
    "    l.append(randint(1,100))\n",
    "l.sort()\n",
    "print(Counter(l))"
   ]
  },
  {
   "cell_type": "code",
   "execution_count": 10,
   "metadata": {},
   "outputs": [
    {
     "name": "stdout",
     "output_type": "stream",
     "text": [
      "12\n"
     ]
    },
    {
     "ename": "SyntaxError",
     "evalue": "'break' outside loop (<ipython-input-10-2bd0258008b6>, line 9)",
     "output_type": "error",
     "traceback": [
      "\u001b[1;36m  File \u001b[1;32m\"<ipython-input-10-2bd0258008b6>\"\u001b[1;36m, line \u001b[1;32m9\u001b[0m\n\u001b[1;33m    break\u001b[0m\n\u001b[1;37m    ^\u001b[0m\n\u001b[1;31mSyntaxError\u001b[0m\u001b[1;31m:\u001b[0m 'break' outside loop\n"
     ]
    }
   ],
   "source": [
    "import math\n",
    "n = int(input())\n",
    "k = 1\n",
    "while (2 **n) <=k :\n",
    "    k += 1 \n",
    "    print(n)\n",
    "    pass\n",
    "else :\n",
    "    break"
   ]
  },
  {
   "cell_type": "code",
   "execution_count": 15,
   "metadata": {},
   "outputs": [
    {
     "name": "stdout",
     "output_type": "stream",
     "text": [
      "Enter the no of Observations: 1000\n",
      "from 1000 observations we get classes : 11 \n"
     ]
    }
   ],
   "source": [
    "import math\n",
    "n = int(input(\"Enter the no of Observations: \"))\n",
    "k = 1 + (3.22*math.log10(n))\n",
    "print(\"from {} observations we get classes : {} \".format(n,round(k)))"
   ]
  },
  {
   "cell_type": "code",
   "execution_count": null,
   "metadata": {},
   "outputs": [],
   "source": [
    "#frequency table\n",
    "n = 10000\n",
    "l = 1\n",
    "h = 100\n",
    "k = "
   ]
  }
 ],
 "metadata": {
  "kernelspec": {
   "display_name": "Python 3",
   "language": "python",
   "name": "python3"
  },
  "language_info": {
   "codemirror_mode": {
    "name": "ipython",
    "version": 3
   },
   "file_extension": ".py",
   "mimetype": "text/x-python",
   "name": "python",
   "nbconvert_exporter": "python",
   "pygments_lexer": "ipython3",
   "version": "3.6.6"
  }
 },
 "nbformat": 4,
 "nbformat_minor": 2
}
