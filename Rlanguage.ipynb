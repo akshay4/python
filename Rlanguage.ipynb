{
 "cells": [
  {
   "cell_type": "markdown",
   "metadata": {},
   "source": [
    "# R Language"
   ]
  },
  {
   "cell_type": "code",
   "execution_count": null,
   "metadata": {},
   "outputs": [],
   "source": [
    "instll.packages(\"sqldf\") #to install a package named sqldf in rstudio\n",
    "#R lanaguage follows BODMAS rule\n",
    "to #know the type of function in R language we str()\n",
    "c #command is to create a data set in Rlanguage\n",
    "C #is also used to create a constructor in r language\n",
    "ls #function is used to know how many or which variables are stored in the current terminal\n",
    "rm() #to remove any variable in rlanguage\n",
    "getwd() #this function is used to know your current working directory\n",
    "#in seqence we can not give any negavtive index\n",
    "read.table(\"filename\") #to read a file in table form in rlanguage\n"
   ]
  }
 ],
 "metadata": {
  "kernelspec": {
   "display_name": "Python 3",
   "language": "python",
   "name": "python3"
  },
  "language_info": {
   "codemirror_mode": {
    "name": "ipython",
    "version": 3
   },
   "file_extension": ".py",
   "mimetype": "text/x-python",
   "name": "python",
   "nbconvert_exporter": "python",
   "pygments_lexer": "ipython3",
   "version": "3.6.6"
  }
 },
 "nbformat": 4,
 "nbformat_minor": 2
}
